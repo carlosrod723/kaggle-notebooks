{
 "cells": [
  {
   "cell_type": "code",
   "execution_count": 1,
   "id": "a56a42dc",
   "metadata": {
    "_cell_guid": "b1076dfc-b9ad-4769-8c92-a6c4dae69d19",
    "_uuid": "8f2839f25d086af736a60e9eeb907d3b93b6e0e5",
    "execution": {
     "iopub.execute_input": "2024-04-22T22:20:22.004236Z",
     "iopub.status.busy": "2024-04-22T22:20:22.003433Z",
     "iopub.status.idle": "2024-04-22T22:20:22.977208Z",
     "shell.execute_reply": "2024-04-22T22:20:22.975650Z"
    },
    "papermill": {
     "duration": 0.993472,
     "end_time": "2024-04-22T22:20:22.979696",
     "exception": false,
     "start_time": "2024-04-22T22:20:21.986224",
     "status": "completed"
    },
    "tags": []
   },
   "outputs": [
    {
     "name": "stdout",
     "output_type": "stream",
     "text": [
      "/kaggle/input/customer-satisfaction-in-airline/Invistico_Airline.csv\n"
     ]
    }
   ],
   "source": [
    "# This Python 3 environment comes with many helpful analytics libraries installed\n",
    "# It is defined by the kaggle/python Docker image: https://github.com/kaggle/docker-python\n",
    "# For example, here's several helpful packages to load\n",
    "\n",
    "import numpy as np # linear algebra\n",
    "import pandas as pd # data processing, CSV file I/O (e.g. pd.read_csv)\n",
    "\n",
    "# Input data files are available in the read-only \"../input/\" directory\n",
    "# For example, running this (by clicking run or pressing Shift+Enter) will list all files under the input directory\n",
    "\n",
    "import os\n",
    "for dirname, _, filenames in os.walk('/kaggle/input'):\n",
    "    for filename in filenames:\n",
    "        print(os.path.join(dirname, filename))\n",
    "\n",
    "# You can write up to 20GB to the current directory (/kaggle/working/) that gets preserved as output when you create a version using \"Save & Run All\" \n",
    "# You can also write temporary files to /kaggle/temp/, but they won't be saved outside of the current session"
   ]
  },
  {
   "cell_type": "markdown",
   "id": "7568e3de",
   "metadata": {
    "papermill": {
     "duration": 0.010696,
     "end_time": "2024-04-22T22:20:23.001731",
     "exception": false,
     "start_time": "2024-04-22T22:20:22.991035",
     "status": "completed"
    },
    "tags": []
   },
   "source": [
    "**Part III**\n",
    "\n",
    "Now, it's time for a random forest. \n",
    "\n",
    "**Machine Learning Models Scores**\n",
    "\n",
    "1. Binomial Logistic Regression- 80.2% Accuracy\n",
    "\n",
    "2. Tuned Decision Tree- 94.1% Accuracy"
   ]
  },
  {
   "cell_type": "code",
   "execution_count": 2,
   "id": "7bd1fb16",
   "metadata": {
    "execution": {
     "iopub.execute_input": "2024-04-22T22:20:23.026299Z",
     "iopub.status.busy": "2024-04-22T22:20:23.025750Z",
     "iopub.status.idle": "2024-04-22T22:20:23.582170Z",
     "shell.execute_reply": "2024-04-22T22:20:23.581079Z"
    },
    "papermill": {
     "duration": 0.571695,
     "end_time": "2024-04-22T22:20:23.585058",
     "exception": false,
     "start_time": "2024-04-22T22:20:23.013363",
     "status": "completed"
    },
    "tags": []
   },
   "outputs": [],
   "source": [
    "# Load in the dataset\n",
    "invistico= pd.read_csv('/kaggle/input/customer-satisfaction-in-airline/Invistico_Airline.csv')"
   ]
  },
  {
   "cell_type": "code",
   "execution_count": 3,
   "id": "c0cb2c0d",
   "metadata": {
    "execution": {
     "iopub.execute_input": "2024-04-22T22:20:23.609553Z",
     "iopub.status.busy": "2024-04-22T22:20:23.609154Z",
     "iopub.status.idle": "2024-04-22T22:20:25.602116Z",
     "shell.execute_reply": "2024-04-22T22:20:25.601074Z"
    },
    "papermill": {
     "duration": 2.008295,
     "end_time": "2024-04-22T22:20:25.604868",
     "exception": false,
     "start_time": "2024-04-22T22:20:23.596573",
     "status": "completed"
    },
    "tags": []
   },
   "outputs": [],
   "source": [
    "# Import necessary libraries and packages\n",
    "import numpy as np\n",
    "import pandas as pd\n",
    "\n",
    "from sklearn.ensemble import RandomForestClassifier\n",
    "from sklearn.metrics import accuracy_score, precision_score, recall_score, f1_score\n",
    "from sklearn.model_selection import train_test_split, PredefinedSplit, GridSearchCV\n",
    "\n",
    "import matplotlib.pyplot as plt\n",
    "import seaborn as sns"
   ]
  },
  {
   "cell_type": "code",
   "execution_count": 4,
   "id": "39d0cd77",
   "metadata": {
    "execution": {
     "iopub.execute_input": "2024-04-22T22:20:25.628804Z",
     "iopub.status.busy": "2024-04-22T22:20:25.628419Z",
     "iopub.status.idle": "2024-04-22T22:20:25.670670Z",
     "shell.execute_reply": "2024-04-22T22:20:25.669467Z"
    },
    "papermill": {
     "duration": 0.057559,
     "end_time": "2024-04-22T22:20:25.673499",
     "exception": false,
     "start_time": "2024-04-22T22:20:25.615940",
     "status": "completed"
    },
    "tags": []
   },
   "outputs": [
    {
     "data": {
      "text/html": [
       "<div>\n",
       "<style scoped>\n",
       "    .dataframe tbody tr th:only-of-type {\n",
       "        vertical-align: middle;\n",
       "    }\n",
       "\n",
       "    .dataframe tbody tr th {\n",
       "        vertical-align: top;\n",
       "    }\n",
       "\n",
       "    .dataframe thead th {\n",
       "        text-align: right;\n",
       "    }\n",
       "</style>\n",
       "<table border=\"1\" class=\"dataframe\">\n",
       "  <thead>\n",
       "    <tr style=\"text-align: right;\">\n",
       "      <th></th>\n",
       "      <th>satisfaction</th>\n",
       "      <th>Customer Type</th>\n",
       "      <th>Age</th>\n",
       "      <th>Type of Travel</th>\n",
       "      <th>Class</th>\n",
       "      <th>Flight Distance</th>\n",
       "      <th>Seat comfort</th>\n",
       "      <th>Departure/Arrival time convenient</th>\n",
       "      <th>Food and drink</th>\n",
       "      <th>Gate location</th>\n",
       "      <th>...</th>\n",
       "      <th>Online support</th>\n",
       "      <th>Ease of Online booking</th>\n",
       "      <th>On-board service</th>\n",
       "      <th>Leg room service</th>\n",
       "      <th>Baggage handling</th>\n",
       "      <th>Checkin service</th>\n",
       "      <th>Cleanliness</th>\n",
       "      <th>Online boarding</th>\n",
       "      <th>Departure Delay in Minutes</th>\n",
       "      <th>Arrival Delay in Minutes</th>\n",
       "    </tr>\n",
       "  </thead>\n",
       "  <tbody>\n",
       "    <tr>\n",
       "      <th>0</th>\n",
       "      <td>satisfied</td>\n",
       "      <td>Loyal Customer</td>\n",
       "      <td>65</td>\n",
       "      <td>Personal Travel</td>\n",
       "      <td>Eco</td>\n",
       "      <td>265</td>\n",
       "      <td>0</td>\n",
       "      <td>0</td>\n",
       "      <td>0</td>\n",
       "      <td>2</td>\n",
       "      <td>...</td>\n",
       "      <td>2</td>\n",
       "      <td>3</td>\n",
       "      <td>3</td>\n",
       "      <td>0</td>\n",
       "      <td>3</td>\n",
       "      <td>5</td>\n",
       "      <td>3</td>\n",
       "      <td>2</td>\n",
       "      <td>0</td>\n",
       "      <td>0.0</td>\n",
       "    </tr>\n",
       "    <tr>\n",
       "      <th>1</th>\n",
       "      <td>satisfied</td>\n",
       "      <td>Loyal Customer</td>\n",
       "      <td>47</td>\n",
       "      <td>Personal Travel</td>\n",
       "      <td>Business</td>\n",
       "      <td>2464</td>\n",
       "      <td>0</td>\n",
       "      <td>0</td>\n",
       "      <td>0</td>\n",
       "      <td>3</td>\n",
       "      <td>...</td>\n",
       "      <td>2</td>\n",
       "      <td>3</td>\n",
       "      <td>4</td>\n",
       "      <td>4</td>\n",
       "      <td>4</td>\n",
       "      <td>2</td>\n",
       "      <td>3</td>\n",
       "      <td>2</td>\n",
       "      <td>310</td>\n",
       "      <td>305.0</td>\n",
       "    </tr>\n",
       "    <tr>\n",
       "      <th>2</th>\n",
       "      <td>satisfied</td>\n",
       "      <td>Loyal Customer</td>\n",
       "      <td>15</td>\n",
       "      <td>Personal Travel</td>\n",
       "      <td>Eco</td>\n",
       "      <td>2138</td>\n",
       "      <td>0</td>\n",
       "      <td>0</td>\n",
       "      <td>0</td>\n",
       "      <td>3</td>\n",
       "      <td>...</td>\n",
       "      <td>2</td>\n",
       "      <td>2</td>\n",
       "      <td>3</td>\n",
       "      <td>3</td>\n",
       "      <td>4</td>\n",
       "      <td>4</td>\n",
       "      <td>4</td>\n",
       "      <td>2</td>\n",
       "      <td>0</td>\n",
       "      <td>0.0</td>\n",
       "    </tr>\n",
       "    <tr>\n",
       "      <th>3</th>\n",
       "      <td>satisfied</td>\n",
       "      <td>Loyal Customer</td>\n",
       "      <td>60</td>\n",
       "      <td>Personal Travel</td>\n",
       "      <td>Eco</td>\n",
       "      <td>623</td>\n",
       "      <td>0</td>\n",
       "      <td>0</td>\n",
       "      <td>0</td>\n",
       "      <td>3</td>\n",
       "      <td>...</td>\n",
       "      <td>3</td>\n",
       "      <td>1</td>\n",
       "      <td>1</td>\n",
       "      <td>0</td>\n",
       "      <td>1</td>\n",
       "      <td>4</td>\n",
       "      <td>1</td>\n",
       "      <td>3</td>\n",
       "      <td>0</td>\n",
       "      <td>0.0</td>\n",
       "    </tr>\n",
       "    <tr>\n",
       "      <th>4</th>\n",
       "      <td>satisfied</td>\n",
       "      <td>Loyal Customer</td>\n",
       "      <td>70</td>\n",
       "      <td>Personal Travel</td>\n",
       "      <td>Eco</td>\n",
       "      <td>354</td>\n",
       "      <td>0</td>\n",
       "      <td>0</td>\n",
       "      <td>0</td>\n",
       "      <td>3</td>\n",
       "      <td>...</td>\n",
       "      <td>4</td>\n",
       "      <td>2</td>\n",
       "      <td>2</td>\n",
       "      <td>0</td>\n",
       "      <td>2</td>\n",
       "      <td>4</td>\n",
       "      <td>2</td>\n",
       "      <td>5</td>\n",
       "      <td>0</td>\n",
       "      <td>0.0</td>\n",
       "    </tr>\n",
       "  </tbody>\n",
       "</table>\n",
       "<p>5 rows × 22 columns</p>\n",
       "</div>"
      ],
      "text/plain": [
       "  satisfaction   Customer Type  Age   Type of Travel     Class  \\\n",
       "0    satisfied  Loyal Customer   65  Personal Travel       Eco   \n",
       "1    satisfied  Loyal Customer   47  Personal Travel  Business   \n",
       "2    satisfied  Loyal Customer   15  Personal Travel       Eco   \n",
       "3    satisfied  Loyal Customer   60  Personal Travel       Eco   \n",
       "4    satisfied  Loyal Customer   70  Personal Travel       Eco   \n",
       "\n",
       "   Flight Distance  Seat comfort  Departure/Arrival time convenient  \\\n",
       "0              265             0                                  0   \n",
       "1             2464             0                                  0   \n",
       "2             2138             0                                  0   \n",
       "3              623             0                                  0   \n",
       "4              354             0                                  0   \n",
       "\n",
       "   Food and drink  Gate location  ...  Online support  Ease of Online booking  \\\n",
       "0               0              2  ...               2                       3   \n",
       "1               0              3  ...               2                       3   \n",
       "2               0              3  ...               2                       2   \n",
       "3               0              3  ...               3                       1   \n",
       "4               0              3  ...               4                       2   \n",
       "\n",
       "   On-board service  Leg room service  Baggage handling  Checkin service  \\\n",
       "0                 3                 0                 3                5   \n",
       "1                 4                 4                 4                2   \n",
       "2                 3                 3                 4                4   \n",
       "3                 1                 0                 1                4   \n",
       "4                 2                 0                 2                4   \n",
       "\n",
       "   Cleanliness  Online boarding  Departure Delay in Minutes  \\\n",
       "0            3                2                           0   \n",
       "1            3                2                         310   \n",
       "2            4                2                           0   \n",
       "3            1                3                           0   \n",
       "4            2                5                           0   \n",
       "\n",
       "   Arrival Delay in Minutes  \n",
       "0                       0.0  \n",
       "1                     305.0  \n",
       "2                       0.0  \n",
       "3                       0.0  \n",
       "4                       0.0  \n",
       "\n",
       "[5 rows x 22 columns]"
      ]
     },
     "execution_count": 4,
     "metadata": {},
     "output_type": "execute_result"
    }
   ],
   "source": [
    "invistico.head()"
   ]
  },
  {
   "cell_type": "code",
   "execution_count": 5,
   "id": "e511cc9f",
   "metadata": {
    "execution": {
     "iopub.execute_input": "2024-04-22T22:20:25.698621Z",
     "iopub.status.busy": "2024-04-22T22:20:25.697683Z",
     "iopub.status.idle": "2024-04-22T22:20:25.706308Z",
     "shell.execute_reply": "2024-04-22T22:20:25.705224Z"
    },
    "papermill": {
     "duration": 0.023802,
     "end_time": "2024-04-22T22:20:25.708863",
     "exception": false,
     "start_time": "2024-04-22T22:20:25.685061",
     "status": "completed"
    },
    "tags": []
   },
   "outputs": [
    {
     "data": {
      "text/plain": [
       "satisfaction                          object\n",
       "Customer Type                         object\n",
       "Age                                    int64\n",
       "Type of Travel                        object\n",
       "Class                                 object\n",
       "Flight Distance                        int64\n",
       "Seat comfort                           int64\n",
       "Departure/Arrival time convenient      int64\n",
       "Food and drink                         int64\n",
       "Gate location                          int64\n",
       "Inflight wifi service                  int64\n",
       "Inflight entertainment                 int64\n",
       "Online support                         int64\n",
       "Ease of Online booking                 int64\n",
       "On-board service                       int64\n",
       "Leg room service                       int64\n",
       "Baggage handling                       int64\n",
       "Checkin service                        int64\n",
       "Cleanliness                            int64\n",
       "Online boarding                        int64\n",
       "Departure Delay in Minutes             int64\n",
       "Arrival Delay in Minutes             float64\n",
       "dtype: object"
      ]
     },
     "execution_count": 5,
     "metadata": {},
     "output_type": "execute_result"
    }
   ],
   "source": [
    "# View datatypes\n",
    "invistico.dtypes"
   ]
  },
  {
   "cell_type": "code",
   "execution_count": 6,
   "id": "1ca7f0cf",
   "metadata": {
    "execution": {
     "iopub.execute_input": "2024-04-22T22:20:25.735220Z",
     "iopub.status.busy": "2024-04-22T22:20:25.734859Z",
     "iopub.status.idle": "2024-04-22T22:20:25.803481Z",
     "shell.execute_reply": "2024-04-22T22:20:25.802307Z"
    },
    "papermill": {
     "duration": 0.084679,
     "end_time": "2024-04-22T22:20:25.806140",
     "exception": false,
     "start_time": "2024-04-22T22:20:25.721461",
     "status": "completed"
    },
    "tags": []
   },
   "outputs": [
    {
     "data": {
      "text/plain": [
       "satisfaction                           0\n",
       "Customer Type                          0\n",
       "Age                                    0\n",
       "Type of Travel                         0\n",
       "Class                                  0\n",
       "Flight Distance                        0\n",
       "Seat comfort                           0\n",
       "Departure/Arrival time convenient      0\n",
       "Food and drink                         0\n",
       "Gate location                          0\n",
       "Inflight wifi service                  0\n",
       "Inflight entertainment                 0\n",
       "Online support                         0\n",
       "Ease of Online booking                 0\n",
       "On-board service                       0\n",
       "Leg room service                       0\n",
       "Baggage handling                       0\n",
       "Checkin service                        0\n",
       "Cleanliness                            0\n",
       "Online boarding                        0\n",
       "Departure Delay in Minutes             0\n",
       "Arrival Delay in Minutes             393\n",
       "dtype: int64"
      ]
     },
     "execution_count": 6,
     "metadata": {},
     "output_type": "execute_result"
    }
   ],
   "source": [
    "# Check for missing values\n",
    "invistico.isna().sum()"
   ]
  },
  {
   "cell_type": "code",
   "execution_count": 7,
   "id": "f9c1bc88",
   "metadata": {
    "execution": {
     "iopub.execute_input": "2024-04-22T22:20:25.832175Z",
     "iopub.status.busy": "2024-04-22T22:20:25.831761Z",
     "iopub.status.idle": "2024-04-22T22:20:25.912006Z",
     "shell.execute_reply": "2024-04-22T22:20:25.910698Z"
    },
    "papermill": {
     "duration": 0.096307,
     "end_time": "2024-04-22T22:20:25.914871",
     "exception": false,
     "start_time": "2024-04-22T22:20:25.818564",
     "status": "completed"
    },
    "tags": []
   },
   "outputs": [],
   "source": [
    "# Drop missing values\n",
    "invistico= invistico.dropna(axis=0)"
   ]
  },
  {
   "cell_type": "code",
   "execution_count": 8,
   "id": "876b3e40",
   "metadata": {
    "execution": {
     "iopub.execute_input": "2024-04-22T22:20:25.940828Z",
     "iopub.status.busy": "2024-04-22T22:20:25.940407Z",
     "iopub.status.idle": "2024-04-22T22:20:26.005687Z",
     "shell.execute_reply": "2024-04-22T22:20:26.004592Z"
    },
    "papermill": {
     "duration": 0.081296,
     "end_time": "2024-04-22T22:20:26.008310",
     "exception": false,
     "start_time": "2024-04-22T22:20:25.927014",
     "status": "completed"
    },
    "tags": []
   },
   "outputs": [
    {
     "data": {
      "text/plain": [
       "satisfaction                         0\n",
       "Customer Type                        0\n",
       "Age                                  0\n",
       "Type of Travel                       0\n",
       "Class                                0\n",
       "Flight Distance                      0\n",
       "Seat comfort                         0\n",
       "Departure/Arrival time convenient    0\n",
       "Food and drink                       0\n",
       "Gate location                        0\n",
       "Inflight wifi service                0\n",
       "Inflight entertainment               0\n",
       "Online support                       0\n",
       "Ease of Online booking               0\n",
       "On-board service                     0\n",
       "Leg room service                     0\n",
       "Baggage handling                     0\n",
       "Checkin service                      0\n",
       "Cleanliness                          0\n",
       "Online boarding                      0\n",
       "Departure Delay in Minutes           0\n",
       "Arrival Delay in Minutes             0\n",
       "dtype: int64"
      ]
     },
     "execution_count": 8,
     "metadata": {},
     "output_type": "execute_result"
    }
   ],
   "source": [
    "# Confirm missing valus are dropped\n",
    "invistico.isna().sum()"
   ]
  },
  {
   "cell_type": "code",
   "execution_count": 9,
   "id": "04b91a3c",
   "metadata": {
    "execution": {
     "iopub.execute_input": "2024-04-22T22:20:26.035655Z",
     "iopub.status.busy": "2024-04-22T22:20:26.034868Z",
     "iopub.status.idle": "2024-04-22T22:20:26.120951Z",
     "shell.execute_reply": "2024-04-22T22:20:26.119578Z"
    },
    "papermill": {
     "duration": 0.10253,
     "end_time": "2024-04-22T22:20:26.123953",
     "exception": false,
     "start_time": "2024-04-22T22:20:26.021423",
     "status": "completed"
    },
    "tags": []
   },
   "outputs": [],
   "source": [
    "# Use OneHotEncoding to convert categorical features\n",
    "invistico= pd.get_dummies(invistico, columns= ['Customer Type', 'Type of Travel', 'Class'])"
   ]
  },
  {
   "cell_type": "code",
   "execution_count": 10,
   "id": "b259c52f",
   "metadata": {
    "execution": {
     "iopub.execute_input": "2024-04-22T22:20:26.151858Z",
     "iopub.status.busy": "2024-04-22T22:20:26.150663Z",
     "iopub.status.idle": "2024-04-22T22:20:26.177358Z",
     "shell.execute_reply": "2024-04-22T22:20:26.176133Z"
    },
    "papermill": {
     "duration": 0.043157,
     "end_time": "2024-04-22T22:20:26.180068",
     "exception": false,
     "start_time": "2024-04-22T22:20:26.136911",
     "status": "completed"
    },
    "tags": []
   },
   "outputs": [
    {
     "data": {
      "text/html": [
       "<div>\n",
       "<style scoped>\n",
       "    .dataframe tbody tr th:only-of-type {\n",
       "        vertical-align: middle;\n",
       "    }\n",
       "\n",
       "    .dataframe tbody tr th {\n",
       "        vertical-align: top;\n",
       "    }\n",
       "\n",
       "    .dataframe thead th {\n",
       "        text-align: right;\n",
       "    }\n",
       "</style>\n",
       "<table border=\"1\" class=\"dataframe\">\n",
       "  <thead>\n",
       "    <tr style=\"text-align: right;\">\n",
       "      <th></th>\n",
       "      <th>satisfaction</th>\n",
       "      <th>Age</th>\n",
       "      <th>Flight Distance</th>\n",
       "      <th>Seat comfort</th>\n",
       "      <th>Departure/Arrival time convenient</th>\n",
       "      <th>Food and drink</th>\n",
       "      <th>Gate location</th>\n",
       "      <th>Inflight wifi service</th>\n",
       "      <th>Inflight entertainment</th>\n",
       "      <th>Online support</th>\n",
       "      <th>...</th>\n",
       "      <th>Online boarding</th>\n",
       "      <th>Departure Delay in Minutes</th>\n",
       "      <th>Arrival Delay in Minutes</th>\n",
       "      <th>Customer Type_Loyal Customer</th>\n",
       "      <th>Customer Type_disloyal Customer</th>\n",
       "      <th>Type of Travel_Business travel</th>\n",
       "      <th>Type of Travel_Personal Travel</th>\n",
       "      <th>Class_Business</th>\n",
       "      <th>Class_Eco</th>\n",
       "      <th>Class_Eco Plus</th>\n",
       "    </tr>\n",
       "  </thead>\n",
       "  <tbody>\n",
       "    <tr>\n",
       "      <th>0</th>\n",
       "      <td>satisfied</td>\n",
       "      <td>65</td>\n",
       "      <td>265</td>\n",
       "      <td>0</td>\n",
       "      <td>0</td>\n",
       "      <td>0</td>\n",
       "      <td>2</td>\n",
       "      <td>2</td>\n",
       "      <td>4</td>\n",
       "      <td>2</td>\n",
       "      <td>...</td>\n",
       "      <td>2</td>\n",
       "      <td>0</td>\n",
       "      <td>0.0</td>\n",
       "      <td>True</td>\n",
       "      <td>False</td>\n",
       "      <td>False</td>\n",
       "      <td>True</td>\n",
       "      <td>False</td>\n",
       "      <td>True</td>\n",
       "      <td>False</td>\n",
       "    </tr>\n",
       "    <tr>\n",
       "      <th>1</th>\n",
       "      <td>satisfied</td>\n",
       "      <td>47</td>\n",
       "      <td>2464</td>\n",
       "      <td>0</td>\n",
       "      <td>0</td>\n",
       "      <td>0</td>\n",
       "      <td>3</td>\n",
       "      <td>0</td>\n",
       "      <td>2</td>\n",
       "      <td>2</td>\n",
       "      <td>...</td>\n",
       "      <td>2</td>\n",
       "      <td>310</td>\n",
       "      <td>305.0</td>\n",
       "      <td>True</td>\n",
       "      <td>False</td>\n",
       "      <td>False</td>\n",
       "      <td>True</td>\n",
       "      <td>True</td>\n",
       "      <td>False</td>\n",
       "      <td>False</td>\n",
       "    </tr>\n",
       "    <tr>\n",
       "      <th>2</th>\n",
       "      <td>satisfied</td>\n",
       "      <td>15</td>\n",
       "      <td>2138</td>\n",
       "      <td>0</td>\n",
       "      <td>0</td>\n",
       "      <td>0</td>\n",
       "      <td>3</td>\n",
       "      <td>2</td>\n",
       "      <td>0</td>\n",
       "      <td>2</td>\n",
       "      <td>...</td>\n",
       "      <td>2</td>\n",
       "      <td>0</td>\n",
       "      <td>0.0</td>\n",
       "      <td>True</td>\n",
       "      <td>False</td>\n",
       "      <td>False</td>\n",
       "      <td>True</td>\n",
       "      <td>False</td>\n",
       "      <td>True</td>\n",
       "      <td>False</td>\n",
       "    </tr>\n",
       "    <tr>\n",
       "      <th>3</th>\n",
       "      <td>satisfied</td>\n",
       "      <td>60</td>\n",
       "      <td>623</td>\n",
       "      <td>0</td>\n",
       "      <td>0</td>\n",
       "      <td>0</td>\n",
       "      <td>3</td>\n",
       "      <td>3</td>\n",
       "      <td>4</td>\n",
       "      <td>3</td>\n",
       "      <td>...</td>\n",
       "      <td>3</td>\n",
       "      <td>0</td>\n",
       "      <td>0.0</td>\n",
       "      <td>True</td>\n",
       "      <td>False</td>\n",
       "      <td>False</td>\n",
       "      <td>True</td>\n",
       "      <td>False</td>\n",
       "      <td>True</td>\n",
       "      <td>False</td>\n",
       "    </tr>\n",
       "    <tr>\n",
       "      <th>4</th>\n",
       "      <td>satisfied</td>\n",
       "      <td>70</td>\n",
       "      <td>354</td>\n",
       "      <td>0</td>\n",
       "      <td>0</td>\n",
       "      <td>0</td>\n",
       "      <td>3</td>\n",
       "      <td>4</td>\n",
       "      <td>3</td>\n",
       "      <td>4</td>\n",
       "      <td>...</td>\n",
       "      <td>5</td>\n",
       "      <td>0</td>\n",
       "      <td>0.0</td>\n",
       "      <td>True</td>\n",
       "      <td>False</td>\n",
       "      <td>False</td>\n",
       "      <td>True</td>\n",
       "      <td>False</td>\n",
       "      <td>True</td>\n",
       "      <td>False</td>\n",
       "    </tr>\n",
       "  </tbody>\n",
       "</table>\n",
       "<p>5 rows × 26 columns</p>\n",
       "</div>"
      ],
      "text/plain": [
       "  satisfaction  Age  Flight Distance  Seat comfort  \\\n",
       "0    satisfied   65              265             0   \n",
       "1    satisfied   47             2464             0   \n",
       "2    satisfied   15             2138             0   \n",
       "3    satisfied   60              623             0   \n",
       "4    satisfied   70              354             0   \n",
       "\n",
       "   Departure/Arrival time convenient  Food and drink  Gate location  \\\n",
       "0                                  0               0              2   \n",
       "1                                  0               0              3   \n",
       "2                                  0               0              3   \n",
       "3                                  0               0              3   \n",
       "4                                  0               0              3   \n",
       "\n",
       "   Inflight wifi service  Inflight entertainment  Online support  ...  \\\n",
       "0                      2                       4               2  ...   \n",
       "1                      0                       2               2  ...   \n",
       "2                      2                       0               2  ...   \n",
       "3                      3                       4               3  ...   \n",
       "4                      4                       3               4  ...   \n",
       "\n",
       "   Online boarding  Departure Delay in Minutes  Arrival Delay in Minutes  \\\n",
       "0                2                           0                       0.0   \n",
       "1                2                         310                     305.0   \n",
       "2                2                           0                       0.0   \n",
       "3                3                           0                       0.0   \n",
       "4                5                           0                       0.0   \n",
       "\n",
       "   Customer Type_Loyal Customer  Customer Type_disloyal Customer  \\\n",
       "0                          True                            False   \n",
       "1                          True                            False   \n",
       "2                          True                            False   \n",
       "3                          True                            False   \n",
       "4                          True                            False   \n",
       "\n",
       "   Type of Travel_Business travel  Type of Travel_Personal Travel  \\\n",
       "0                           False                            True   \n",
       "1                           False                            True   \n",
       "2                           False                            True   \n",
       "3                           False                            True   \n",
       "4                           False                            True   \n",
       "\n",
       "   Class_Business  Class_Eco  Class_Eco Plus  \n",
       "0           False       True           False  \n",
       "1            True      False           False  \n",
       "2           False       True           False  \n",
       "3           False       True           False  \n",
       "4           False       True           False  \n",
       "\n",
       "[5 rows x 26 columns]"
      ]
     },
     "execution_count": 10,
     "metadata": {},
     "output_type": "execute_result"
    }
   ],
   "source": [
    "# View data\n",
    "invistico.head()"
   ]
  },
  {
   "cell_type": "code",
   "execution_count": 11,
   "id": "4268b3c9",
   "metadata": {
    "execution": {
     "iopub.execute_input": "2024-04-22T22:20:26.207984Z",
     "iopub.status.busy": "2024-04-22T22:20:26.207573Z",
     "iopub.status.idle": "2024-04-22T22:20:26.216630Z",
     "shell.execute_reply": "2024-04-22T22:20:26.215563Z"
    },
    "papermill": {
     "duration": 0.025805,
     "end_time": "2024-04-22T22:20:26.219161",
     "exception": false,
     "start_time": "2024-04-22T22:20:26.193356",
     "status": "completed"
    },
    "tags": []
   },
   "outputs": [
    {
     "data": {
      "text/plain": [
       "satisfaction                          object\n",
       "Age                                    int64\n",
       "Flight Distance                        int64\n",
       "Seat comfort                           int64\n",
       "Departure/Arrival time convenient      int64\n",
       "Food and drink                         int64\n",
       "Gate location                          int64\n",
       "Inflight wifi service                  int64\n",
       "Inflight entertainment                 int64\n",
       "Online support                         int64\n",
       "Ease of Online booking                 int64\n",
       "On-board service                       int64\n",
       "Leg room service                       int64\n",
       "Baggage handling                       int64\n",
       "Checkin service                        int64\n",
       "Cleanliness                            int64\n",
       "Online boarding                        int64\n",
       "Departure Delay in Minutes             int64\n",
       "Arrival Delay in Minutes             float64\n",
       "Customer Type_Loyal Customer            bool\n",
       "Customer Type_disloyal Customer         bool\n",
       "Type of Travel_Business travel          bool\n",
       "Type of Travel_Personal Travel          bool\n",
       "Class_Business                          bool\n",
       "Class_Eco                               bool\n",
       "Class_Eco Plus                          bool\n",
       "dtype: object"
      ]
     },
     "execution_count": 11,
     "metadata": {},
     "output_type": "execute_result"
    }
   ],
   "source": [
    "# Check datatypes\n",
    "invistico.dtypes"
   ]
  },
  {
   "cell_type": "code",
   "execution_count": 12,
   "id": "3fe70788",
   "metadata": {
    "execution": {
     "iopub.execute_input": "2024-04-22T22:20:26.247583Z",
     "iopub.status.busy": "2024-04-22T22:20:26.246958Z",
     "iopub.status.idle": "2024-04-22T22:20:26.264065Z",
     "shell.execute_reply": "2024-04-22T22:20:26.262914Z"
    },
    "papermill": {
     "duration": 0.03476,
     "end_time": "2024-04-22T22:20:26.266707",
     "exception": false,
     "start_time": "2024-04-22T22:20:26.231947",
     "status": "completed"
    },
    "tags": []
   },
   "outputs": [],
   "source": [
    "# Define variables for model\n",
    "y= invistico['satisfaction']\n",
    "X= invistico.copy()\n",
    "X= X.drop('satisfaction', axis=1)"
   ]
  },
  {
   "cell_type": "code",
   "execution_count": 13,
   "id": "828ab090",
   "metadata": {
    "execution": {
     "iopub.execute_input": "2024-04-22T22:20:26.295049Z",
     "iopub.status.busy": "2024-04-22T22:20:26.294640Z",
     "iopub.status.idle": "2024-04-22T22:20:26.359455Z",
     "shell.execute_reply": "2024-04-22T22:20:26.358589Z"
    },
    "papermill": {
     "duration": 0.082377,
     "end_time": "2024-04-22T22:20:26.362094",
     "exception": false,
     "start_time": "2024-04-22T22:20:26.279717",
     "status": "completed"
    },
    "tags": []
   },
   "outputs": [],
   "source": [
    "# Train,test and validate set\n",
    "X_train, X_test, y_train, y_test= train_test_split(X, y, test_size= 0.25, random_state= 0)\n",
    "\n",
    "X_tr, X_val, y_tr, y_val= train_test_split(X_train, y_train, test_size= 0.25, random_state= 0)"
   ]
  },
  {
   "cell_type": "code",
   "execution_count": 14,
   "id": "236ee8a0",
   "metadata": {
    "execution": {
     "iopub.execute_input": "2024-04-22T22:20:26.389977Z",
     "iopub.status.busy": "2024-04-22T22:20:26.389263Z",
     "iopub.status.idle": "2024-04-22T22:20:26.394493Z",
     "shell.execute_reply": "2024-04-22T22:20:26.393614Z"
    },
    "papermill": {
     "duration": 0.022038,
     "end_time": "2024-04-22T22:20:26.396932",
     "exception": false,
     "start_time": "2024-04-22T22:20:26.374894",
     "status": "completed"
    },
    "tags": []
   },
   "outputs": [],
   "source": [
    "# Hyperparameters\n",
    "cv_params= {'n_estimators': [50,100],\n",
    "            'max_depth': [10,50],\n",
    "            'min_samples_leaf': [0.5,1],\n",
    "            'min_samples_split': [0.001,0.01],\n",
    "            'max_features': ['sqrt'],\n",
    "            'max_samples': [0.5,0.9]\n",
    "           }"
   ]
  },
  {
   "cell_type": "code",
   "execution_count": 15,
   "id": "ae4b66f2",
   "metadata": {
    "execution": {
     "iopub.execute_input": "2024-04-22T22:20:26.424823Z",
     "iopub.status.busy": "2024-04-22T22:20:26.423592Z",
     "iopub.status.idle": "2024-04-22T22:20:26.661960Z",
     "shell.execute_reply": "2024-04-22T22:20:26.660783Z"
    },
    "papermill": {
     "duration": 0.255284,
     "end_time": "2024-04-22T22:20:26.664942",
     "exception": false,
     "start_time": "2024-04-22T22:20:26.409658",
     "status": "completed"
    },
    "tags": []
   },
   "outputs": [],
   "source": [
    "# Create list of split indices\n",
    "split_index= [0 if x in X_val.index else -1 for x in X_train.index]\n",
    "custom_split= PredefinedSplit(split_index)"
   ]
  },
  {
   "cell_type": "code",
   "execution_count": 16,
   "id": "a8eb8a88",
   "metadata": {
    "execution": {
     "iopub.execute_input": "2024-04-22T22:20:26.692798Z",
     "iopub.status.busy": "2024-04-22T22:20:26.692363Z",
     "iopub.status.idle": "2024-04-22T22:20:26.697519Z",
     "shell.execute_reply": "2024-04-22T22:20:26.696318Z"
    },
    "papermill": {
     "duration": 0.021963,
     "end_time": "2024-04-22T22:20:26.700264",
     "exception": false,
     "start_time": "2024-04-22T22:20:26.678301",
     "status": "completed"
    },
    "tags": []
   },
   "outputs": [],
   "source": [
    "# Instantiate the model\n",
    "rf= RandomForestClassifier(random_state= 0)"
   ]
  },
  {
   "cell_type": "code",
   "execution_count": 17,
   "id": "4d86e7ad",
   "metadata": {
    "execution": {
     "iopub.execute_input": "2024-04-22T22:20:26.728573Z",
     "iopub.status.busy": "2024-04-22T22:20:26.728120Z",
     "iopub.status.idle": "2024-04-22T22:20:26.735026Z",
     "shell.execute_reply": "2024-04-22T22:20:26.733121Z"
    },
    "papermill": {
     "duration": 0.023997,
     "end_time": "2024-04-22T22:20:26.737567",
     "exception": false,
     "start_time": "2024-04-22T22:20:26.713570",
     "status": "completed"
    },
    "tags": []
   },
   "outputs": [],
   "source": [
    "# Search over specified parameters\n",
    "rf_val= GridSearchCV(rf, cv_params, cv= custom_split, refit= 'f1', n_jobs= -1, verbose= 1)"
   ]
  },
  {
   "cell_type": "code",
   "execution_count": 18,
   "id": "94ef146d",
   "metadata": {
    "execution": {
     "iopub.execute_input": "2024-04-22T22:20:26.764763Z",
     "iopub.status.busy": "2024-04-22T22:20:26.764332Z",
     "iopub.status.idle": "2024-04-22T22:21:26.329904Z",
     "shell.execute_reply": "2024-04-22T22:21:26.328268Z"
    },
    "papermill": {
     "duration": 59.595083,
     "end_time": "2024-04-22T22:21:26.345330",
     "exception": false,
     "start_time": "2024-04-22T22:20:26.750247",
     "status": "completed"
    },
    "tags": []
   },
   "outputs": [
    {
     "name": "stdout",
     "output_type": "stream",
     "text": [
      "Fitting 1 folds for each of 32 candidates, totalling 32 fits\n",
      "CPU times: user 9.27 s, sys: 235 ms, total: 9.51 s\n",
      "Wall time: 59.5 s\n"
     ]
    },
    {
     "data": {
      "text/html": [
       "<style>#sk-container-id-1 {color: black;background-color: white;}#sk-container-id-1 pre{padding: 0;}#sk-container-id-1 div.sk-toggleable {background-color: white;}#sk-container-id-1 label.sk-toggleable__label {cursor: pointer;display: block;width: 100%;margin-bottom: 0;padding: 0.3em;box-sizing: border-box;text-align: center;}#sk-container-id-1 label.sk-toggleable__label-arrow:before {content: \"▸\";float: left;margin-right: 0.25em;color: #696969;}#sk-container-id-1 label.sk-toggleable__label-arrow:hover:before {color: black;}#sk-container-id-1 div.sk-estimator:hover label.sk-toggleable__label-arrow:before {color: black;}#sk-container-id-1 div.sk-toggleable__content {max-height: 0;max-width: 0;overflow: hidden;text-align: left;background-color: #f0f8ff;}#sk-container-id-1 div.sk-toggleable__content pre {margin: 0.2em;color: black;border-radius: 0.25em;background-color: #f0f8ff;}#sk-container-id-1 input.sk-toggleable__control:checked~div.sk-toggleable__content {max-height: 200px;max-width: 100%;overflow: auto;}#sk-container-id-1 input.sk-toggleable__control:checked~label.sk-toggleable__label-arrow:before {content: \"▾\";}#sk-container-id-1 div.sk-estimator input.sk-toggleable__control:checked~label.sk-toggleable__label {background-color: #d4ebff;}#sk-container-id-1 div.sk-label input.sk-toggleable__control:checked~label.sk-toggleable__label {background-color: #d4ebff;}#sk-container-id-1 input.sk-hidden--visually {border: 0;clip: rect(1px 1px 1px 1px);clip: rect(1px, 1px, 1px, 1px);height: 1px;margin: -1px;overflow: hidden;padding: 0;position: absolute;width: 1px;}#sk-container-id-1 div.sk-estimator {font-family: monospace;background-color: #f0f8ff;border: 1px dotted black;border-radius: 0.25em;box-sizing: border-box;margin-bottom: 0.5em;}#sk-container-id-1 div.sk-estimator:hover {background-color: #d4ebff;}#sk-container-id-1 div.sk-parallel-item::after {content: \"\";width: 100%;border-bottom: 1px solid gray;flex-grow: 1;}#sk-container-id-1 div.sk-label:hover label.sk-toggleable__label {background-color: #d4ebff;}#sk-container-id-1 div.sk-serial::before {content: \"\";position: absolute;border-left: 1px solid gray;box-sizing: border-box;top: 0;bottom: 0;left: 50%;z-index: 0;}#sk-container-id-1 div.sk-serial {display: flex;flex-direction: column;align-items: center;background-color: white;padding-right: 0.2em;padding-left: 0.2em;position: relative;}#sk-container-id-1 div.sk-item {position: relative;z-index: 1;}#sk-container-id-1 div.sk-parallel {display: flex;align-items: stretch;justify-content: center;background-color: white;position: relative;}#sk-container-id-1 div.sk-item::before, #sk-container-id-1 div.sk-parallel-item::before {content: \"\";position: absolute;border-left: 1px solid gray;box-sizing: border-box;top: 0;bottom: 0;left: 50%;z-index: -1;}#sk-container-id-1 div.sk-parallel-item {display: flex;flex-direction: column;z-index: 1;position: relative;background-color: white;}#sk-container-id-1 div.sk-parallel-item:first-child::after {align-self: flex-end;width: 50%;}#sk-container-id-1 div.sk-parallel-item:last-child::after {align-self: flex-start;width: 50%;}#sk-container-id-1 div.sk-parallel-item:only-child::after {width: 0;}#sk-container-id-1 div.sk-dashed-wrapped {border: 1px dashed gray;margin: 0 0.4em 0.5em 0.4em;box-sizing: border-box;padding-bottom: 0.4em;background-color: white;}#sk-container-id-1 div.sk-label label {font-family: monospace;font-weight: bold;display: inline-block;line-height: 1.2em;}#sk-container-id-1 div.sk-label-container {text-align: center;}#sk-container-id-1 div.sk-container {/* jupyter's `normalize.less` sets `[hidden] { display: none; }` but bootstrap.min.css set `[hidden] { display: none !important; }` so we also need the `!important` here to be able to override the default hidden behavior on the sphinx rendered scikit-learn.org. See: https://github.com/scikit-learn/scikit-learn/issues/21755 */display: inline-block !important;position: relative;}#sk-container-id-1 div.sk-text-repr-fallback {display: none;}</style><div id=\"sk-container-id-1\" class=\"sk-top-container\"><div class=\"sk-text-repr-fallback\"><pre>GridSearchCV(cv=PredefinedSplit(test_fold=array([-1, -1, ..., -1, -1])),\n",
       "             estimator=RandomForestClassifier(random_state=0), n_jobs=-1,\n",
       "             param_grid={&#x27;max_depth&#x27;: [10, 50], &#x27;max_features&#x27;: [&#x27;sqrt&#x27;],\n",
       "                         &#x27;max_samples&#x27;: [0.5, 0.9],\n",
       "                         &#x27;min_samples_leaf&#x27;: [0.5, 1],\n",
       "                         &#x27;min_samples_split&#x27;: [0.001, 0.01],\n",
       "                         &#x27;n_estimators&#x27;: [50, 100]},\n",
       "             refit=&#x27;f1&#x27;, verbose=1)</pre><b>In a Jupyter environment, please rerun this cell to show the HTML representation or trust the notebook. <br />On GitHub, the HTML representation is unable to render, please try loading this page with nbviewer.org.</b></div><div class=\"sk-container\" hidden><div class=\"sk-item sk-dashed-wrapped\"><div class=\"sk-label-container\"><div class=\"sk-label sk-toggleable\"><input class=\"sk-toggleable__control sk-hidden--visually\" id=\"sk-estimator-id-1\" type=\"checkbox\" ><label for=\"sk-estimator-id-1\" class=\"sk-toggleable__label sk-toggleable__label-arrow\">GridSearchCV</label><div class=\"sk-toggleable__content\"><pre>GridSearchCV(cv=PredefinedSplit(test_fold=array([-1, -1, ..., -1, -1])),\n",
       "             estimator=RandomForestClassifier(random_state=0), n_jobs=-1,\n",
       "             param_grid={&#x27;max_depth&#x27;: [10, 50], &#x27;max_features&#x27;: [&#x27;sqrt&#x27;],\n",
       "                         &#x27;max_samples&#x27;: [0.5, 0.9],\n",
       "                         &#x27;min_samples_leaf&#x27;: [0.5, 1],\n",
       "                         &#x27;min_samples_split&#x27;: [0.001, 0.01],\n",
       "                         &#x27;n_estimators&#x27;: [50, 100]},\n",
       "             refit=&#x27;f1&#x27;, verbose=1)</pre></div></div></div><div class=\"sk-parallel\"><div class=\"sk-parallel-item\"><div class=\"sk-item\"><div class=\"sk-label-container\"><div class=\"sk-label sk-toggleable\"><input class=\"sk-toggleable__control sk-hidden--visually\" id=\"sk-estimator-id-2\" type=\"checkbox\" ><label for=\"sk-estimator-id-2\" class=\"sk-toggleable__label sk-toggleable__label-arrow\">estimator: RandomForestClassifier</label><div class=\"sk-toggleable__content\"><pre>RandomForestClassifier(random_state=0)</pre></div></div></div><div class=\"sk-serial\"><div class=\"sk-item\"><div class=\"sk-estimator sk-toggleable\"><input class=\"sk-toggleable__control sk-hidden--visually\" id=\"sk-estimator-id-3\" type=\"checkbox\" ><label for=\"sk-estimator-id-3\" class=\"sk-toggleable__label sk-toggleable__label-arrow\">RandomForestClassifier</label><div class=\"sk-toggleable__content\"><pre>RandomForestClassifier(random_state=0)</pre></div></div></div></div></div></div></div></div></div></div>"
      ],
      "text/plain": [
       "GridSearchCV(cv=PredefinedSplit(test_fold=array([-1, -1, ..., -1, -1])),\n",
       "             estimator=RandomForestClassifier(random_state=0), n_jobs=-1,\n",
       "             param_grid={'max_depth': [10, 50], 'max_features': ['sqrt'],\n",
       "                         'max_samples': [0.5, 0.9],\n",
       "                         'min_samples_leaf': [0.5, 1],\n",
       "                         'min_samples_split': [0.001, 0.01],\n",
       "                         'n_estimators': [50, 100]},\n",
       "             refit='f1', verbose=1)"
      ]
     },
     "execution_count": 18,
     "metadata": {},
     "output_type": "execute_result"
    }
   ],
   "source": [
    "%%time\n",
    "# Fit the model\n",
    "rf_val.fit(X_train, y_train)"
   ]
  },
  {
   "cell_type": "code",
   "execution_count": 19,
   "id": "57d46ee5",
   "metadata": {
    "execution": {
     "iopub.execute_input": "2024-04-22T22:21:26.374369Z",
     "iopub.status.busy": "2024-04-22T22:21:26.373971Z",
     "iopub.status.idle": "2024-04-22T22:21:26.381082Z",
     "shell.execute_reply": "2024-04-22T22:21:26.380224Z"
    },
    "papermill": {
     "duration": 0.024896,
     "end_time": "2024-04-22T22:21:26.383250",
     "exception": false,
     "start_time": "2024-04-22T22:21:26.358354",
     "status": "completed"
    },
    "tags": []
   },
   "outputs": [
    {
     "data": {
      "text/plain": [
       "{'max_depth': 50,\n",
       " 'max_features': 'sqrt',\n",
       " 'max_samples': 0.9,\n",
       " 'min_samples_leaf': 1,\n",
       " 'min_samples_split': 0.001,\n",
       " 'n_estimators': 50}"
      ]
     },
     "execution_count": 19,
     "metadata": {},
     "output_type": "execute_result"
    }
   ],
   "source": [
    "# Best parameters\n",
    "rf_val.best_params_"
   ]
  },
  {
   "cell_type": "code",
   "execution_count": 20,
   "id": "e006e9c0",
   "metadata": {
    "execution": {
     "iopub.execute_input": "2024-04-22T22:21:26.412780Z",
     "iopub.status.busy": "2024-04-22T22:21:26.411844Z",
     "iopub.status.idle": "2024-04-22T22:21:26.417763Z",
     "shell.execute_reply": "2024-04-22T22:21:26.416676Z"
    },
    "papermill": {
     "duration": 0.023181,
     "end_time": "2024-04-22T22:21:26.420181",
     "exception": false,
     "start_time": "2024-04-22T22:21:26.397000",
     "status": "completed"
    },
    "tags": []
   },
   "outputs": [],
   "source": [
    "# Use optimal parameters on GridsearchCV\n",
    "rf_opt= RandomForestClassifier(n_estimators= 50, max_depth= 50, min_samples_leaf= 1, min_samples_split= 0.001, max_features= 'sqrt', max_samples= 0.9, random_state= 0)"
   ]
  },
  {
   "cell_type": "code",
   "execution_count": 21,
   "id": "f4636954",
   "metadata": {
    "execution": {
     "iopub.execute_input": "2024-04-22T22:21:26.448829Z",
     "iopub.status.busy": "2024-04-22T22:21:26.448398Z",
     "iopub.status.idle": "2024-04-22T22:21:35.267434Z",
     "shell.execute_reply": "2024-04-22T22:21:35.266575Z"
    },
    "papermill": {
     "duration": 8.836396,
     "end_time": "2024-04-22T22:21:35.269879",
     "exception": false,
     "start_time": "2024-04-22T22:21:26.433483",
     "status": "completed"
    },
    "tags": []
   },
   "outputs": [
    {
     "name": "stdout",
     "output_type": "stream",
     "text": [
      "CPU times: user 8.8 s, sys: 5.09 ms, total: 8.81 s\n",
      "Wall time: 8.81 s\n"
     ]
    },
    {
     "data": {
      "text/html": [
       "<style>#sk-container-id-2 {color: black;background-color: white;}#sk-container-id-2 pre{padding: 0;}#sk-container-id-2 div.sk-toggleable {background-color: white;}#sk-container-id-2 label.sk-toggleable__label {cursor: pointer;display: block;width: 100%;margin-bottom: 0;padding: 0.3em;box-sizing: border-box;text-align: center;}#sk-container-id-2 label.sk-toggleable__label-arrow:before {content: \"▸\";float: left;margin-right: 0.25em;color: #696969;}#sk-container-id-2 label.sk-toggleable__label-arrow:hover:before {color: black;}#sk-container-id-2 div.sk-estimator:hover label.sk-toggleable__label-arrow:before {color: black;}#sk-container-id-2 div.sk-toggleable__content {max-height: 0;max-width: 0;overflow: hidden;text-align: left;background-color: #f0f8ff;}#sk-container-id-2 div.sk-toggleable__content pre {margin: 0.2em;color: black;border-radius: 0.25em;background-color: #f0f8ff;}#sk-container-id-2 input.sk-toggleable__control:checked~div.sk-toggleable__content {max-height: 200px;max-width: 100%;overflow: auto;}#sk-container-id-2 input.sk-toggleable__control:checked~label.sk-toggleable__label-arrow:before {content: \"▾\";}#sk-container-id-2 div.sk-estimator input.sk-toggleable__control:checked~label.sk-toggleable__label {background-color: #d4ebff;}#sk-container-id-2 div.sk-label input.sk-toggleable__control:checked~label.sk-toggleable__label {background-color: #d4ebff;}#sk-container-id-2 input.sk-hidden--visually {border: 0;clip: rect(1px 1px 1px 1px);clip: rect(1px, 1px, 1px, 1px);height: 1px;margin: -1px;overflow: hidden;padding: 0;position: absolute;width: 1px;}#sk-container-id-2 div.sk-estimator {font-family: monospace;background-color: #f0f8ff;border: 1px dotted black;border-radius: 0.25em;box-sizing: border-box;margin-bottom: 0.5em;}#sk-container-id-2 div.sk-estimator:hover {background-color: #d4ebff;}#sk-container-id-2 div.sk-parallel-item::after {content: \"\";width: 100%;border-bottom: 1px solid gray;flex-grow: 1;}#sk-container-id-2 div.sk-label:hover label.sk-toggleable__label {background-color: #d4ebff;}#sk-container-id-2 div.sk-serial::before {content: \"\";position: absolute;border-left: 1px solid gray;box-sizing: border-box;top: 0;bottom: 0;left: 50%;z-index: 0;}#sk-container-id-2 div.sk-serial {display: flex;flex-direction: column;align-items: center;background-color: white;padding-right: 0.2em;padding-left: 0.2em;position: relative;}#sk-container-id-2 div.sk-item {position: relative;z-index: 1;}#sk-container-id-2 div.sk-parallel {display: flex;align-items: stretch;justify-content: center;background-color: white;position: relative;}#sk-container-id-2 div.sk-item::before, #sk-container-id-2 div.sk-parallel-item::before {content: \"\";position: absolute;border-left: 1px solid gray;box-sizing: border-box;top: 0;bottom: 0;left: 50%;z-index: -1;}#sk-container-id-2 div.sk-parallel-item {display: flex;flex-direction: column;z-index: 1;position: relative;background-color: white;}#sk-container-id-2 div.sk-parallel-item:first-child::after {align-self: flex-end;width: 50%;}#sk-container-id-2 div.sk-parallel-item:last-child::after {align-self: flex-start;width: 50%;}#sk-container-id-2 div.sk-parallel-item:only-child::after {width: 0;}#sk-container-id-2 div.sk-dashed-wrapped {border: 1px dashed gray;margin: 0 0.4em 0.5em 0.4em;box-sizing: border-box;padding-bottom: 0.4em;background-color: white;}#sk-container-id-2 div.sk-label label {font-family: monospace;font-weight: bold;display: inline-block;line-height: 1.2em;}#sk-container-id-2 div.sk-label-container {text-align: center;}#sk-container-id-2 div.sk-container {/* jupyter's `normalize.less` sets `[hidden] { display: none; }` but bootstrap.min.css set `[hidden] { display: none !important; }` so we also need the `!important` here to be able to override the default hidden behavior on the sphinx rendered scikit-learn.org. See: https://github.com/scikit-learn/scikit-learn/issues/21755 */display: inline-block !important;position: relative;}#sk-container-id-2 div.sk-text-repr-fallback {display: none;}</style><div id=\"sk-container-id-2\" class=\"sk-top-container\"><div class=\"sk-text-repr-fallback\"><pre>RandomForestClassifier(max_depth=50, max_samples=0.9, min_samples_split=0.001,\n",
       "                       n_estimators=50, random_state=0)</pre><b>In a Jupyter environment, please rerun this cell to show the HTML representation or trust the notebook. <br />On GitHub, the HTML representation is unable to render, please try loading this page with nbviewer.org.</b></div><div class=\"sk-container\" hidden><div class=\"sk-item\"><div class=\"sk-estimator sk-toggleable\"><input class=\"sk-toggleable__control sk-hidden--visually\" id=\"sk-estimator-id-4\" type=\"checkbox\" checked><label for=\"sk-estimator-id-4\" class=\"sk-toggleable__label sk-toggleable__label-arrow\">RandomForestClassifier</label><div class=\"sk-toggleable__content\"><pre>RandomForestClassifier(max_depth=50, max_samples=0.9, min_samples_split=0.001,\n",
       "                       n_estimators=50, random_state=0)</pre></div></div></div></div></div>"
      ],
      "text/plain": [
       "RandomForestClassifier(max_depth=50, max_samples=0.9, min_samples_split=0.001,\n",
       "                       n_estimators=50, random_state=0)"
      ]
     },
     "execution_count": 21,
     "metadata": {},
     "output_type": "execute_result"
    }
   ],
   "source": [
    "%%time\n",
    "# Fit the optimal model\n",
    "rf_opt.fit(X_train, y_train)"
   ]
  },
  {
   "cell_type": "code",
   "execution_count": 22,
   "id": "4eb839d4",
   "metadata": {
    "execution": {
     "iopub.execute_input": "2024-04-22T22:21:35.299974Z",
     "iopub.status.busy": "2024-04-22T22:21:35.298811Z",
     "iopub.status.idle": "2024-04-22T22:21:35.570074Z",
     "shell.execute_reply": "2024-04-22T22:21:35.568914Z"
    },
    "papermill": {
     "duration": 0.289446,
     "end_time": "2024-04-22T22:21:35.573056",
     "exception": false,
     "start_time": "2024-04-22T22:21:35.283610",
     "status": "completed"
    },
    "tags": []
   },
   "outputs": [],
   "source": [
    "# Predict on test set\n",
    "y_pred= rf_opt.predict(X_test)"
   ]
  },
  {
   "cell_type": "code",
   "execution_count": 23,
   "id": "3d1270b2",
   "metadata": {
    "execution": {
     "iopub.execute_input": "2024-04-22T22:21:35.602302Z",
     "iopub.status.busy": "2024-04-22T22:21:35.601932Z",
     "iopub.status.idle": "2024-04-22T22:21:36.281088Z",
     "shell.execute_reply": "2024-04-22T22:21:36.280091Z"
    },
    "papermill": {
     "duration": 0.696807,
     "end_time": "2024-04-22T22:21:36.283630",
     "exception": false,
     "start_time": "2024-04-22T22:21:35.586823",
     "status": "completed"
    },
    "tags": []
   },
   "outputs": [
    {
     "name": "stdout",
     "output_type": "stream",
     "text": [
      "Precision score 0.950\n"
     ]
    }
   ],
   "source": [
    "# Precision score\n",
    "pc_test= precision_score(y_test, y_pred, pos_label= 'satisfied')\n",
    "print('Precision score {pc:.3f}'.format(pc= pc_test))"
   ]
  },
  {
   "cell_type": "code",
   "execution_count": 24,
   "id": "073133d0",
   "metadata": {
    "execution": {
     "iopub.execute_input": "2024-04-22T22:21:36.313572Z",
     "iopub.status.busy": "2024-04-22T22:21:36.312861Z",
     "iopub.status.idle": "2024-04-22T22:21:36.474194Z",
     "shell.execute_reply": "2024-04-22T22:21:36.472960Z"
    },
    "papermill": {
     "duration": 0.179229,
     "end_time": "2024-04-22T22:21:36.476743",
     "exception": false,
     "start_time": "2024-04-22T22:21:36.297514",
     "status": "completed"
    },
    "tags": []
   },
   "outputs": [
    {
     "name": "stdout",
     "output_type": "stream",
     "text": [
      "Accuracy score 0.942\n"
     ]
    }
   ],
   "source": [
    "# Accuracy score\n",
    "ac_test= accuracy_score(y_test, y_pred)\n",
    "print('Accuracy score {ac:.3f}'.format(ac= ac_test))"
   ]
  },
  {
   "cell_type": "code",
   "execution_count": 25,
   "id": "61e965f6",
   "metadata": {
    "execution": {
     "iopub.execute_input": "2024-04-22T22:21:36.506394Z",
     "iopub.status.busy": "2024-04-22T22:21:36.505972Z",
     "iopub.status.idle": "2024-04-22T22:21:37.180281Z",
     "shell.execute_reply": "2024-04-22T22:21:37.178854Z"
    },
    "papermill": {
     "duration": 0.692572,
     "end_time": "2024-04-22T22:21:37.183227",
     "exception": false,
     "start_time": "2024-04-22T22:21:36.490655",
     "status": "completed"
    },
    "tags": []
   },
   "outputs": [
    {
     "name": "stdout",
     "output_type": "stream",
     "text": [
      "Recall score 0.945\n"
     ]
    }
   ],
   "source": [
    "# Recall score\n",
    "rc_test= recall_score(y_test, y_pred, pos_label= 'satisfied')\n",
    "print('Recall score {rc:.3f}'.format(rc= rc_test))"
   ]
  },
  {
   "cell_type": "code",
   "execution_count": 26,
   "id": "0bee43dd",
   "metadata": {
    "execution": {
     "iopub.execute_input": "2024-04-22T22:21:37.215849Z",
     "iopub.status.busy": "2024-04-22T22:21:37.214528Z",
     "iopub.status.idle": "2024-04-22T22:21:37.901556Z",
     "shell.execute_reply": "2024-04-22T22:21:37.900615Z"
    },
    "papermill": {
     "duration": 0.706512,
     "end_time": "2024-04-22T22:21:37.904128",
     "exception": false,
     "start_time": "2024-04-22T22:21:37.197616",
     "status": "completed"
    },
    "tags": []
   },
   "outputs": [
    {
     "name": "stdout",
     "output_type": "stream",
     "text": [
      "F1 score 0.947\n"
     ]
    }
   ],
   "source": [
    "# F1 score\n",
    "f1_test= f1_score(y_test, y_pred, pos_label= 'satisfied')\n",
    "print('F1 score {f1:.3f}'.format(f1= f1_test))"
   ]
  },
  {
   "cell_type": "code",
   "execution_count": 27,
   "id": "74b4c984",
   "metadata": {
    "execution": {
     "iopub.execute_input": "2024-04-22T22:21:37.934765Z",
     "iopub.status.busy": "2024-04-22T22:21:37.934348Z",
     "iopub.status.idle": "2024-04-22T22:21:37.940127Z",
     "shell.execute_reply": "2024-04-22T22:21:37.938964Z"
    },
    "papermill": {
     "duration": 0.02442,
     "end_time": "2024-04-22T22:21:37.942598",
     "exception": false,
     "start_time": "2024-04-22T22:21:37.918178",
     "status": "completed"
    },
    "tags": []
   },
   "outputs": [
    {
     "name": "stdout",
     "output_type": "stream",
     "text": [
      "\n",
      "The precision score is 0.950 for the test set, \n",
      "which means of all the positive predictions, 95.0% of the predictions are true positive\n"
     ]
    }
   ],
   "source": [
    "# Precision score on test data\n",
    "print('\\nThe precision score is {pc:.3f}'.format(pc= pc_test), 'for the test set,', '\\nwhich means of all the positive predictions,', '{pc_pct:.1f}% of the predictions are true positive'.format(pc_pct= pc_test * 100))"
   ]
  },
  {
   "cell_type": "code",
   "execution_count": 28,
   "id": "287b38c1",
   "metadata": {
    "execution": {
     "iopub.execute_input": "2024-04-22T22:21:37.972549Z",
     "iopub.status.busy": "2024-04-22T22:21:37.972147Z",
     "iopub.status.idle": "2024-04-22T22:21:37.978204Z",
     "shell.execute_reply": "2024-04-22T22:21:37.977067Z"
    },
    "papermill": {
     "duration": 0.024315,
     "end_time": "2024-04-22T22:21:37.980905",
     "exception": false,
     "start_time": "2024-04-22T22:21:37.956590",
     "status": "completed"
    },
    "tags": []
   },
   "outputs": [
    {
     "name": "stdout",
     "output_type": "stream",
     "text": [
      "\n",
      "The accuracy score is 0.942 for the test set, \n",
      "which means of all the cases in the test set, 94.2% are predicted true positive or true negative\n"
     ]
    }
   ],
   "source": [
    "# Accuracy score on test data\n",
    "print('\\nThe accuracy score is {ac:.3f}'.format(ac= ac_test), 'for the test set,', '\\nwhich means of all the cases in the test set,', '{ac_pct:.1f}% are predicted true positive or true negative'.format(ac_pct= ac_test * 100))"
   ]
  },
  {
   "cell_type": "code",
   "execution_count": 29,
   "id": "1033d0de",
   "metadata": {
    "execution": {
     "iopub.execute_input": "2024-04-22T22:21:38.011055Z",
     "iopub.status.busy": "2024-04-22T22:21:38.010644Z",
     "iopub.status.idle": "2024-04-22T22:21:38.016646Z",
     "shell.execute_reply": "2024-04-22T22:21:38.015556Z"
    },
    "papermill": {
     "duration": 0.024261,
     "end_time": "2024-04-22T22:21:38.019312",
     "exception": false,
     "start_time": "2024-04-22T22:21:37.995051",
     "status": "completed"
    },
    "tags": []
   },
   "outputs": [
    {
     "name": "stdout",
     "output_type": "stream",
     "text": [
      "\n",
      "The recall score is 0.945 for the test set, \n",
      "which means of all the real positive cases in the test set 94.5% are predicted positive\n"
     ]
    }
   ],
   "source": [
    "# Recall score on the test set\n",
    "print('\\nThe recall score is {rc:.3f}'.format(rc= rc_test), 'for the test set,', '\\nwhich means of all the real positive cases in the test set', '{rc_pct:.1f}% are predicted positive'.format(rc_pct= rc_test * 100))"
   ]
  },
  {
   "cell_type": "code",
   "execution_count": 30,
   "id": "7704dda5",
   "metadata": {
    "execution": {
     "iopub.execute_input": "2024-04-22T22:21:38.049987Z",
     "iopub.status.busy": "2024-04-22T22:21:38.049555Z",
     "iopub.status.idle": "2024-04-22T22:21:38.055736Z",
     "shell.execute_reply": "2024-04-22T22:21:38.054587Z"
    },
    "papermill": {
     "duration": 0.024747,
     "end_time": "2024-04-22T22:21:38.058724",
     "exception": false,
     "start_time": "2024-04-22T22:21:38.033977",
     "status": "completed"
    },
    "tags": []
   },
   "outputs": [
    {
     "name": "stdout",
     "output_type": "stream",
     "text": [
      "\n",
      "The F1 score is 0.947 for the test set, \n",
      "which means that the test set has a harmonic mean of 94.7%\n"
     ]
    }
   ],
   "source": [
    "# F1 score on the test set\n",
    "print('\\nThe F1 score is {f1:.3f}'.format(f1= f1_test), 'for the test set,', '\\nwhich means that the test set has a harmonic mean of {f1_pct:.1f}%'.format(f1_pct= f1_test * 100))"
   ]
  },
  {
   "cell_type": "markdown",
   "id": "0ed386b7",
   "metadata": {
    "papermill": {
     "duration": 0.014346,
     "end_time": "2024-04-22T22:21:38.087340",
     "exception": false,
     "start_time": "2024-04-22T22:21:38.072994",
     "status": "completed"
    },
    "tags": []
   },
   "source": [
    "**Scores**\n",
    "\n",
    "The model performs well according to all 4 performance metrics. The model’s precision score is slightly better than the 3 other metrics."
   ]
  },
  {
   "cell_type": "code",
   "execution_count": 31,
   "id": "34345b8e",
   "metadata": {
    "execution": {
     "iopub.execute_input": "2024-04-22T22:21:38.119034Z",
     "iopub.status.busy": "2024-04-22T22:21:38.118607Z",
     "iopub.status.idle": "2024-04-22T22:21:38.136008Z",
     "shell.execute_reply": "2024-04-22T22:21:38.135042Z"
    },
    "papermill": {
     "duration": 0.036366,
     "end_time": "2024-04-22T22:21:38.138223",
     "exception": false,
     "start_time": "2024-04-22T22:21:38.101857",
     "status": "completed"
    },
    "tags": []
   },
   "outputs": [
    {
     "data": {
      "text/html": [
       "<div>\n",
       "<style scoped>\n",
       "    .dataframe tbody tr th:only-of-type {\n",
       "        vertical-align: middle;\n",
       "    }\n",
       "\n",
       "    .dataframe tbody tr th {\n",
       "        vertical-align: top;\n",
       "    }\n",
       "\n",
       "    .dataframe thead th {\n",
       "        text-align: right;\n",
       "    }\n",
       "</style>\n",
       "<table border=\"1\" class=\"dataframe\">\n",
       "  <thead>\n",
       "    <tr style=\"text-align: right;\">\n",
       "      <th></th>\n",
       "      <th>Model</th>\n",
       "      <th>Accuracy</th>\n",
       "      <th>Precision</th>\n",
       "      <th>Recall</th>\n",
       "      <th>F1 Score</th>\n",
       "    </tr>\n",
       "  </thead>\n",
       "  <tbody>\n",
       "    <tr>\n",
       "      <th>0</th>\n",
       "      <td>Binomial Logistic Regression</td>\n",
       "      <td>0.801529</td>\n",
       "      <td>0.816142</td>\n",
       "      <td>0.821530</td>\n",
       "      <td>0.818827</td>\n",
       "    </tr>\n",
       "    <tr>\n",
       "      <th>1</th>\n",
       "      <td>Tuned Decision Tree</td>\n",
       "      <td>0.940864</td>\n",
       "      <td>0.955197</td>\n",
       "      <td>0.935863</td>\n",
       "      <td>0.945422</td>\n",
       "    </tr>\n",
       "    <tr>\n",
       "      <th>2</th>\n",
       "      <td>Tuned Random Forest</td>\n",
       "      <td>0.942450</td>\n",
       "      <td>0.950128</td>\n",
       "      <td>0.944501</td>\n",
       "      <td>0.947306</td>\n",
       "    </tr>\n",
       "  </tbody>\n",
       "</table>\n",
       "</div>"
      ],
      "text/plain": [
       "                          Model  Accuracy  Precision    Recall  F1 Score\n",
       "0  Binomial Logistic Regression  0.801529   0.816142  0.821530  0.818827\n",
       "1           Tuned Decision Tree  0.940864   0.955197  0.935863  0.945422\n",
       "2           Tuned Random Forest  0.942450   0.950128  0.944501  0.947306"
      ]
     },
     "execution_count": 31,
     "metadata": {},
     "output_type": "execute_result"
    }
   ],
   "source": [
    "# Create a table of results\n",
    "table= pd.DataFrame({'Model': ['Binomial Logistic Regression', 'Tuned Decision Tree', 'Tuned Random Forest'],\n",
    "                     'Accuracy': [0.801529, 0.940864, ac_test],\n",
    "                     'Precision': [0.816142, 0.955197, pc_test],\n",
    "                     'Recall': [0.821530, 0.935863, rc_test],\n",
    "                     'F1 Score': [0.818827, 0.945422, f1_test]\n",
    "                    })\n",
    "\n",
    "table"
   ]
  },
  {
   "cell_type": "markdown",
   "id": "3f687249",
   "metadata": {
    "papermill": {
     "duration": 0.014544,
     "end_time": "2024-04-22T22:21:38.168042",
     "exception": false,
     "start_time": "2024-04-22T22:21:38.153498",
     "status": "completed"
    },
    "tags": []
   },
   "source": [
    "**Model Comparisons (so far)**\n",
    "\n",
    "The Binomial Logistic Regression model achieved an accuracy of 0.801529, precision of 0.816142, recall of 0.821530, and an F1 score of 0.818827. While decent, these metrics indicate room for improvement compared to the other models evaluated.\n",
    "\n",
    "\n",
    "The Tuned Decision Tree model performed significantly better with an accuracy of 0.940864, precision of 0.955197, recall of 0.935863, and an F1 score of 0.945422. This suggests the decision tree was able to capture the patterns in the data quite effectively after tuning.\n",
    "\n",
    "However, the Tuned Random Forest model slightly edged it out as the top performer with an accuracy of 0.942450, precision of 0.950128, recall of 0.944501, and an F1 score of 0.947306. The random forest's ensemble learning approach allowed it to achieve the highest metrics overall, while still maintaining a relatively parsimonious model compared to an extremely complex single decision tree. Based on these results, the Tuned Random Forest is recommended as the strongest candidate model for deployment (for now). \n",
    "\n",
    "**Brief Summary for Stakeholders**\n",
    "\n",
    "The random forest model predicted satisfaction with more than 94.2% accuracy. The precision is over 95% and the recall is approximately 94.5%.\n",
    "\n",
    "The random forest model outperformed the tuned decision tree with the best hyperparameters inmost of the four scores. This indicates that the random forest model may perform better."
   ]
  }
 ],
 "metadata": {
  "kaggle": {
   "accelerator": "none",
   "dataSources": [
    {
     "datasetId": 3850727,
     "sourceId": 6674326,
     "sourceType": "datasetVersion"
    }
   ],
   "dockerImageVersionId": 30698,
   "isGpuEnabled": false,
   "isInternetEnabled": true,
   "language": "python",
   "sourceType": "notebook"
  },
  "kernelspec": {
   "display_name": "Python 3",
   "language": "python",
   "name": "python3"
  },
  "language_info": {
   "codemirror_mode": {
    "name": "ipython",
    "version": 3
   },
   "file_extension": ".py",
   "mimetype": "text/x-python",
   "name": "python",
   "nbconvert_exporter": "python",
   "pygments_lexer": "ipython3",
   "version": "3.10.13"
  },
  "papermill": {
   "default_parameters": {},
   "duration": 81.962483,
   "end_time": "2024-04-22T22:21:40.806460",
   "environment_variables": {},
   "exception": null,
   "input_path": "__notebook__.ipynb",
   "output_path": "__notebook__.ipynb",
   "parameters": {},
   "start_time": "2024-04-22T22:20:18.843977",
   "version": "2.5.0"
  }
 },
 "nbformat": 4,
 "nbformat_minor": 5
}
