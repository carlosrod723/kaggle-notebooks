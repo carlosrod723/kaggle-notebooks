{
 "cells": [
  {
   "cell_type": "code",
   "execution_count": 1,
   "id": "a1502093",
   "metadata": {
    "_cell_guid": "b1076dfc-b9ad-4769-8c92-a6c4dae69d19",
    "_uuid": "8f2839f25d086af736a60e9eeb907d3b93b6e0e5",
    "execution": {
     "iopub.execute_input": "2024-04-22T15:00:42.793615Z",
     "iopub.status.busy": "2024-04-22T15:00:42.792806Z",
     "iopub.status.idle": "2024-04-22T15:00:43.750613Z",
     "shell.execute_reply": "2024-04-22T15:00:43.749288Z"
    },
    "papermill": {
     "duration": 0.971592,
     "end_time": "2024-04-22T15:00:43.753845",
     "exception": false,
     "start_time": "2024-04-22T15:00:42.782253",
     "status": "completed"
    },
    "tags": []
   },
   "outputs": [
    {
     "name": "stdout",
     "output_type": "stream",
     "text": [
      "/kaggle/input/palmers-penguin-dataset-extended/palmerpenguins_original.csv\n",
      "/kaggle/input/palmers-penguin-dataset-extended/palmerpenguins_extended.csv\n"
     ]
    }
   ],
   "source": [
    "# This Python 3 environment comes with many helpful analytics libraries installed\n",
    "# It is defined by the kaggle/python Docker image: https://github.com/kaggle/docker-python\n",
    "# For example, here's several helpful packages to load\n",
    "\n",
    "import numpy as np # linear algebra\n",
    "import pandas as pd # data processing, CSV file I/O (e.g. pd.read_csv)\n",
    "\n",
    "# Input data files are available in the read-only \"../input/\" directory\n",
    "# For example, running this (by clicking run or pressing Shift+Enter) will list all files under the input directory\n",
    "\n",
    "import os\n",
    "for dirname, _, filenames in os.walk('/kaggle/input'):\n",
    "    for filename in filenames:\n",
    "        print(os.path.join(dirname, filename))\n",
    "\n",
    "# You can write up to 20GB to the current directory (/kaggle/working/) that gets preserved as output when you create a version using \"Save & Run All\" \n",
    "# You can also write temporary files to /kaggle/temp/, but they won't be saved outside of the current session"
   ]
  },
  {
   "cell_type": "markdown",
   "id": "c05dc1e1",
   "metadata": {
    "papermill": {
     "duration": 0.007416,
     "end_time": "2024-04-22T15:00:43.769386",
     "exception": false,
     "start_time": "2024-04-22T15:00:43.761970",
     "status": "completed"
    },
    "tags": []
   },
   "source": [
    "**Overview**\n",
    "\n",
    "The original Palmer's Penguins dataset is an invaluable resource in the world of data science, often used for statistical analysis, data visualization, and introductory machine learning tasks. Collected in the Palmer Archipelago near Antarctica, the dataset provides information on three species of penguins, including Adélie, Gentoo, and Chinstrap, and covers essential biological metrics such as bill dimensions and body mass.\n",
    "\n",
    "**K-Means Model**\n",
    "\n",
    "Building a k-means model for the Palmer's Penguins dataset offers several valuable insights and practical applications in the realm of data analysis and machine learning. Firstly, k-means clustering can help uncover underlying patterns and structures within the data by partitioning the penguin samples into distinct clusters based on their features such as bill dimensions and body mass. This can aid researchers and scientists in understanding the natural variation and distribution of these penguin species in their habitats. Moreover, k-means clustering can assist in species classification and identification by grouping similar penguin specimens together. This capability is particularly useful for ecologists and conservationists who need to accurately classify and monitor penguin populations for research or conservation efforts. Additionally, the insights gained from k-means clustering can facilitate further analysis, such as investigating the ecological factors influencing the distribution of penguin species or studying the impact of environmental changes on their populations. Overall, building a k-means model for the Palmer's Penguins dataset not only helps in understanding the biology and behavior of these fascinating creatures but also contributes to broader scientific research and conservation efforts in polar ecosystems.\n",
    "\n",
    "**Analysis**\n",
    "\n",
    "With the Palmer Penguin dataset, I'll be analyzing the dataset to confirm if penguins of the same species exhibit different physical characteristics based on sex."
   ]
  },
  {
   "cell_type": "code",
   "execution_count": 2,
   "id": "3a5acf10",
   "metadata": {
    "execution": {
     "iopub.execute_input": "2024-04-22T15:00:43.787859Z",
     "iopub.status.busy": "2024-04-22T15:00:43.787077Z",
     "iopub.status.idle": "2024-04-22T15:00:45.865204Z",
     "shell.execute_reply": "2024-04-22T15:00:45.864367Z"
    },
    "papermill": {
     "duration": 2.090188,
     "end_time": "2024-04-22T15:00:45.867821",
     "exception": false,
     "start_time": "2024-04-22T15:00:43.777633",
     "status": "completed"
    },
    "tags": []
   },
   "outputs": [],
   "source": [
    "# Import necessary libraries and packages\n",
    "import numpy as np\n",
    "import pandas as pd\n",
    "\n",
    "from sklearn.cluster import KMeans\n",
    "from sklearn.metrics import silhouette_score\n",
    "from sklearn.preprocessing import StandardScaler\n",
    "\n",
    "import matplotlib.pyplot as plt\n",
    "import seaborn as sns"
   ]
  },
  {
   "cell_type": "code",
   "execution_count": 3,
   "id": "6ddbdc2f",
   "metadata": {
    "execution": {
     "iopub.execute_input": "2024-04-22T15:00:45.885265Z",
     "iopub.status.busy": "2024-04-22T15:00:45.884590Z",
     "iopub.status.idle": "2024-04-22T15:00:45.913869Z",
     "shell.execute_reply": "2024-04-22T15:00:45.912848Z"
    },
    "papermill": {
     "duration": 0.040562,
     "end_time": "2024-04-22T15:00:45.916260",
     "exception": false,
     "start_time": "2024-04-22T15:00:45.875698",
     "status": "completed"
    },
    "tags": []
   },
   "outputs": [],
   "source": [
    "# Load in the Palmer Penguin dataset\n",
    "penguins= pd.read_csv('/kaggle/input/palmers-penguin-dataset-extended/palmerpenguins_extended.csv')"
   ]
  },
  {
   "cell_type": "code",
   "execution_count": 4,
   "id": "f37d41ba",
   "metadata": {
    "execution": {
     "iopub.execute_input": "2024-04-22T15:00:45.934147Z",
     "iopub.status.busy": "2024-04-22T15:00:45.933527Z",
     "iopub.status.idle": "2024-04-22T15:00:45.960951Z",
     "shell.execute_reply": "2024-04-22T15:00:45.959954Z"
    },
    "papermill": {
     "duration": 0.039186,
     "end_time": "2024-04-22T15:00:45.963454",
     "exception": false,
     "start_time": "2024-04-22T15:00:45.924268",
     "status": "completed"
    },
    "tags": []
   },
   "outputs": [
    {
     "data": {
      "text/html": [
       "<div>\n",
       "<style scoped>\n",
       "    .dataframe tbody tr th:only-of-type {\n",
       "        vertical-align: middle;\n",
       "    }\n",
       "\n",
       "    .dataframe tbody tr th {\n",
       "        vertical-align: top;\n",
       "    }\n",
       "\n",
       "    .dataframe thead th {\n",
       "        text-align: right;\n",
       "    }\n",
       "</style>\n",
       "<table border=\"1\" class=\"dataframe\">\n",
       "  <thead>\n",
       "    <tr style=\"text-align: right;\">\n",
       "      <th></th>\n",
       "      <th>species</th>\n",
       "      <th>island</th>\n",
       "      <th>bill_length_mm</th>\n",
       "      <th>bill_depth_mm</th>\n",
       "      <th>flipper_length_mm</th>\n",
       "      <th>body_mass_g</th>\n",
       "      <th>sex</th>\n",
       "      <th>diet</th>\n",
       "      <th>life_stage</th>\n",
       "      <th>health_metrics</th>\n",
       "      <th>year</th>\n",
       "    </tr>\n",
       "  </thead>\n",
       "  <tbody>\n",
       "    <tr>\n",
       "      <th>0</th>\n",
       "      <td>Adelie</td>\n",
       "      <td>Biscoe</td>\n",
       "      <td>53.4</td>\n",
       "      <td>17.8</td>\n",
       "      <td>219.0</td>\n",
       "      <td>5687.0</td>\n",
       "      <td>female</td>\n",
       "      <td>fish</td>\n",
       "      <td>adult</td>\n",
       "      <td>overweight</td>\n",
       "      <td>2021</td>\n",
       "    </tr>\n",
       "    <tr>\n",
       "      <th>1</th>\n",
       "      <td>Adelie</td>\n",
       "      <td>Biscoe</td>\n",
       "      <td>49.3</td>\n",
       "      <td>18.1</td>\n",
       "      <td>245.0</td>\n",
       "      <td>6811.0</td>\n",
       "      <td>female</td>\n",
       "      <td>fish</td>\n",
       "      <td>adult</td>\n",
       "      <td>overweight</td>\n",
       "      <td>2021</td>\n",
       "    </tr>\n",
       "    <tr>\n",
       "      <th>2</th>\n",
       "      <td>Adelie</td>\n",
       "      <td>Biscoe</td>\n",
       "      <td>55.7</td>\n",
       "      <td>16.6</td>\n",
       "      <td>226.0</td>\n",
       "      <td>5388.0</td>\n",
       "      <td>female</td>\n",
       "      <td>fish</td>\n",
       "      <td>adult</td>\n",
       "      <td>overweight</td>\n",
       "      <td>2021</td>\n",
       "    </tr>\n",
       "    <tr>\n",
       "      <th>3</th>\n",
       "      <td>Adelie</td>\n",
       "      <td>Biscoe</td>\n",
       "      <td>38.0</td>\n",
       "      <td>15.6</td>\n",
       "      <td>221.0</td>\n",
       "      <td>6262.0</td>\n",
       "      <td>female</td>\n",
       "      <td>fish</td>\n",
       "      <td>adult</td>\n",
       "      <td>overweight</td>\n",
       "      <td>2021</td>\n",
       "    </tr>\n",
       "    <tr>\n",
       "      <th>4</th>\n",
       "      <td>Adelie</td>\n",
       "      <td>Biscoe</td>\n",
       "      <td>60.7</td>\n",
       "      <td>17.9</td>\n",
       "      <td>177.0</td>\n",
       "      <td>4811.0</td>\n",
       "      <td>female</td>\n",
       "      <td>fish</td>\n",
       "      <td>juvenile</td>\n",
       "      <td>overweight</td>\n",
       "      <td>2021</td>\n",
       "    </tr>\n",
       "  </tbody>\n",
       "</table>\n",
       "</div>"
      ],
      "text/plain": [
       "  species  island  bill_length_mm  bill_depth_mm  flipper_length_mm  \\\n",
       "0  Adelie  Biscoe            53.4           17.8              219.0   \n",
       "1  Adelie  Biscoe            49.3           18.1              245.0   \n",
       "2  Adelie  Biscoe            55.7           16.6              226.0   \n",
       "3  Adelie  Biscoe            38.0           15.6              221.0   \n",
       "4  Adelie  Biscoe            60.7           17.9              177.0   \n",
       "\n",
       "   body_mass_g     sex  diet life_stage health_metrics  year  \n",
       "0       5687.0  female  fish      adult     overweight  2021  \n",
       "1       6811.0  female  fish      adult     overweight  2021  \n",
       "2       5388.0  female  fish      adult     overweight  2021  \n",
       "3       6262.0  female  fish      adult     overweight  2021  \n",
       "4       4811.0  female  fish   juvenile     overweight  2021  "
      ]
     },
     "execution_count": 4,
     "metadata": {},
     "output_type": "execute_result"
    }
   ],
   "source": [
    "# View the data\n",
    "penguins.head()"
   ]
  },
  {
   "cell_type": "code",
   "execution_count": 5,
   "id": "bfeeeea7",
   "metadata": {
    "execution": {
     "iopub.execute_input": "2024-04-22T15:00:45.982094Z",
     "iopub.status.busy": "2024-04-22T15:00:45.981708Z",
     "iopub.status.idle": "2024-04-22T15:00:45.991049Z",
     "shell.execute_reply": "2024-04-22T15:00:45.990150Z"
    },
    "papermill": {
     "duration": 0.021,
     "end_time": "2024-04-22T15:00:45.993199",
     "exception": false,
     "start_time": "2024-04-22T15:00:45.972199",
     "status": "completed"
    },
    "tags": []
   },
   "outputs": [
    {
     "data": {
      "text/plain": [
       "array(['Adelie', 'Chinstrap', 'Gentoo'], dtype=object)"
      ]
     },
     "execution_count": 5,
     "metadata": {},
     "output_type": "execute_result"
    }
   ],
   "source": [
    "# Penguin species\n",
    "penguins['species'].unique()"
   ]
  },
  {
   "cell_type": "code",
   "execution_count": 6,
   "id": "ec966a34",
   "metadata": {
    "execution": {
     "iopub.execute_input": "2024-04-22T15:00:46.012595Z",
     "iopub.status.busy": "2024-04-22T15:00:46.011826Z",
     "iopub.status.idle": "2024-04-22T15:00:46.025617Z",
     "shell.execute_reply": "2024-04-22T15:00:46.024424Z"
    },
    "papermill": {
     "duration": 0.025633,
     "end_time": "2024-04-22T15:00:46.028339",
     "exception": false,
     "start_time": "2024-04-22T15:00:46.002706",
     "status": "completed"
    },
    "tags": []
   },
   "outputs": [
    {
     "data": {
      "text/plain": [
       "species\n",
       "Adelie       1560\n",
       "Gentoo       1247\n",
       "Chinstrap     623\n",
       "Name: count, dtype: int64"
      ]
     },
     "execution_count": 6,
     "metadata": {},
     "output_type": "execute_result"
    }
   ],
   "source": [
    "# Count of each species type\n",
    "penguins['species'].value_counts(dropna= False)"
   ]
  },
  {
   "cell_type": "markdown",
   "id": "455db72f",
   "metadata": {
    "papermill": {
     "duration": 0.007944,
     "end_time": "2024-04-22T15:00:46.044752",
     "exception": false,
     "start_time": "2024-04-22T15:00:46.036808",
     "status": "completed"
    },
    "tags": []
   },
   "source": [
    "**Note**- Even with number of species already known, it's helpful determine the perfect number of clusters using K-means because by analyzing clustering results, potential mislabeling or data entry issues could be revealed if the algorithm struggles to cleanly separate the known species.\n",
    "\n",
    "Secondly, there might be interesting sub-groups or clusters within known penguin\n",
    "species based on other attributes like size or geographical location. K-means can uncover these hidden patterns that wouldn’t be evident in a simple species count. \n",
    "\n",
    "Additionally, if the optimal number of clusters suggested by K-means aligns with the known number of species, it strengthens the confidence of the dataset and validates its suitability for further analysis.\n",
    "\n",
    "Finally, even with known categories, clustering can be valuable for exploratory analysis, potentially identifying characteristics that distinguish the different groups without relying solely on predefined labels"
   ]
  },
  {
   "cell_type": "code",
   "execution_count": 7,
   "id": "d6ea5192",
   "metadata": {
    "execution": {
     "iopub.execute_input": "2024-04-22T15:00:46.064113Z",
     "iopub.status.busy": "2024-04-22T15:00:46.063695Z",
     "iopub.status.idle": "2024-04-22T15:00:46.075115Z",
     "shell.execute_reply": "2024-04-22T15:00:46.073905Z"
    },
    "papermill": {
     "duration": 0.0245,
     "end_time": "2024-04-22T15:00:46.077494",
     "exception": false,
     "start_time": "2024-04-22T15:00:46.052994",
     "status": "completed"
    },
    "tags": []
   },
   "outputs": [
    {
     "data": {
      "text/plain": [
       "species              0\n",
       "island               0\n",
       "bill_length_mm       0\n",
       "bill_depth_mm        0\n",
       "flipper_length_mm    0\n",
       "body_mass_g          0\n",
       "sex                  0\n",
       "diet                 0\n",
       "life_stage           0\n",
       "health_metrics       0\n",
       "year                 0\n",
       "dtype: int64"
      ]
     },
     "execution_count": 7,
     "metadata": {},
     "output_type": "execute_result"
    }
   ],
   "source": [
    "# Check for missing values\n",
    "penguins.isnull().sum()"
   ]
  },
  {
   "cell_type": "code",
   "execution_count": 8,
   "id": "3c83a2a4",
   "metadata": {
    "execution": {
     "iopub.execute_input": "2024-04-22T15:00:46.097245Z",
     "iopub.status.busy": "2024-04-22T15:00:46.096877Z",
     "iopub.status.idle": "2024-04-22T15:00:46.103206Z",
     "shell.execute_reply": "2024-04-22T15:00:46.102416Z"
    },
    "papermill": {
     "duration": 0.017876,
     "end_time": "2024-04-22T15:00:46.105108",
     "exception": false,
     "start_time": "2024-04-22T15:00:46.087232",
     "status": "completed"
    },
    "tags": []
   },
   "outputs": [
    {
     "data": {
      "text/plain": [
       "Index(['species', 'island', 'bill_length_mm', 'bill_depth_mm',\n",
       "       'flipper_length_mm', 'body_mass_g', 'sex', 'diet', 'life_stage',\n",
       "       'health_metrics', 'year'],\n",
       "      dtype='object')"
      ]
     },
     "execution_count": 8,
     "metadata": {},
     "output_type": "execute_result"
    }
   ],
   "source": [
    "penguins.columns"
   ]
  },
  {
   "cell_type": "code",
   "execution_count": 9,
   "id": "e2dba007",
   "metadata": {
    "execution": {
     "iopub.execute_input": "2024-04-22T15:00:46.124243Z",
     "iopub.status.busy": "2024-04-22T15:00:46.123427Z",
     "iopub.status.idle": "2024-04-22T15:00:46.130956Z",
     "shell.execute_reply": "2024-04-22T15:00:46.129779Z"
    },
    "papermill": {
     "duration": 0.019688,
     "end_time": "2024-04-22T15:00:46.133273",
     "exception": false,
     "start_time": "2024-04-22T15:00:46.113585",
     "status": "completed"
    },
    "tags": []
   },
   "outputs": [
    {
     "name": "stdout",
     "output_type": "stream",
     "text": [
      "sex\n",
      "female    1726\n",
      "male      1704\n",
      "Name: count, dtype: int64\n"
     ]
    }
   ],
   "source": [
    "# Unique value counts in 'sex' column\n",
    "sex_counts= penguins['sex'].value_counts(dropna= False)\n",
    "print(sex_counts)"
   ]
  },
  {
   "cell_type": "code",
   "execution_count": 10,
   "id": "f04f7fd9",
   "metadata": {
    "execution": {
     "iopub.execute_input": "2024-04-22T15:00:46.151904Z",
     "iopub.status.busy": "2024-04-22T15:00:46.151515Z",
     "iopub.status.idle": "2024-04-22T15:00:46.166195Z",
     "shell.execute_reply": "2024-04-22T15:00:46.164969Z"
    },
    "papermill": {
     "duration": 0.026855,
     "end_time": "2024-04-22T15:00:46.168684",
     "exception": false,
     "start_time": "2024-04-22T15:00:46.141829",
     "status": "completed"
    },
    "tags": []
   },
   "outputs": [],
   "source": [
    "# Convert sex column from categorical to numeric\n",
    "penguins= pd.get_dummies(penguins, drop_first= True, columns= ['sex'])"
   ]
  },
  {
   "cell_type": "code",
   "execution_count": 11,
   "id": "eeae899d",
   "metadata": {
    "execution": {
     "iopub.execute_input": "2024-04-22T15:00:46.188184Z",
     "iopub.status.busy": "2024-04-22T15:00:46.187776Z",
     "iopub.status.idle": "2024-04-22T15:00:46.194357Z",
     "shell.execute_reply": "2024-04-22T15:00:46.193000Z"
    },
    "papermill": {
     "duration": 0.019669,
     "end_time": "2024-04-22T15:00:46.196914",
     "exception": false,
     "start_time": "2024-04-22T15:00:46.177245",
     "status": "completed"
    },
    "tags": []
   },
   "outputs": [],
   "source": [
    "# Drop island column\n",
    "penguins= penguins.drop(['island'], axis=1)"
   ]
  },
  {
   "cell_type": "code",
   "execution_count": 12,
   "id": "c07634bc",
   "metadata": {
    "execution": {
     "iopub.execute_input": "2024-04-22T15:00:46.216386Z",
     "iopub.status.busy": "2024-04-22T15:00:46.215960Z",
     "iopub.status.idle": "2024-04-22T15:00:46.234105Z",
     "shell.execute_reply": "2024-04-22T15:00:46.232976Z"
    },
    "papermill": {
     "duration": 0.030405,
     "end_time": "2024-04-22T15:00:46.236457",
     "exception": false,
     "start_time": "2024-04-22T15:00:46.206052",
     "status": "completed"
    },
    "tags": []
   },
   "outputs": [
    {
     "data": {
      "text/html": [
       "<div>\n",
       "<style scoped>\n",
       "    .dataframe tbody tr th:only-of-type {\n",
       "        vertical-align: middle;\n",
       "    }\n",
       "\n",
       "    .dataframe tbody tr th {\n",
       "        vertical-align: top;\n",
       "    }\n",
       "\n",
       "    .dataframe thead th {\n",
       "        text-align: right;\n",
       "    }\n",
       "</style>\n",
       "<table border=\"1\" class=\"dataframe\">\n",
       "  <thead>\n",
       "    <tr style=\"text-align: right;\">\n",
       "      <th></th>\n",
       "      <th>species</th>\n",
       "      <th>bill_length_mm</th>\n",
       "      <th>bill_depth_mm</th>\n",
       "      <th>flipper_length_mm</th>\n",
       "      <th>body_mass_g</th>\n",
       "      <th>diet</th>\n",
       "      <th>life_stage</th>\n",
       "      <th>health_metrics</th>\n",
       "      <th>year</th>\n",
       "      <th>sex_male</th>\n",
       "    </tr>\n",
       "  </thead>\n",
       "  <tbody>\n",
       "    <tr>\n",
       "      <th>0</th>\n",
       "      <td>Adelie</td>\n",
       "      <td>53.4</td>\n",
       "      <td>17.8</td>\n",
       "      <td>219.0</td>\n",
       "      <td>5687.0</td>\n",
       "      <td>fish</td>\n",
       "      <td>adult</td>\n",
       "      <td>overweight</td>\n",
       "      <td>2021</td>\n",
       "      <td>False</td>\n",
       "    </tr>\n",
       "    <tr>\n",
       "      <th>1</th>\n",
       "      <td>Adelie</td>\n",
       "      <td>49.3</td>\n",
       "      <td>18.1</td>\n",
       "      <td>245.0</td>\n",
       "      <td>6811.0</td>\n",
       "      <td>fish</td>\n",
       "      <td>adult</td>\n",
       "      <td>overweight</td>\n",
       "      <td>2021</td>\n",
       "      <td>False</td>\n",
       "    </tr>\n",
       "    <tr>\n",
       "      <th>2</th>\n",
       "      <td>Adelie</td>\n",
       "      <td>55.7</td>\n",
       "      <td>16.6</td>\n",
       "      <td>226.0</td>\n",
       "      <td>5388.0</td>\n",
       "      <td>fish</td>\n",
       "      <td>adult</td>\n",
       "      <td>overweight</td>\n",
       "      <td>2021</td>\n",
       "      <td>False</td>\n",
       "    </tr>\n",
       "    <tr>\n",
       "      <th>3</th>\n",
       "      <td>Adelie</td>\n",
       "      <td>38.0</td>\n",
       "      <td>15.6</td>\n",
       "      <td>221.0</td>\n",
       "      <td>6262.0</td>\n",
       "      <td>fish</td>\n",
       "      <td>adult</td>\n",
       "      <td>overweight</td>\n",
       "      <td>2021</td>\n",
       "      <td>False</td>\n",
       "    </tr>\n",
       "    <tr>\n",
       "      <th>4</th>\n",
       "      <td>Adelie</td>\n",
       "      <td>60.7</td>\n",
       "      <td>17.9</td>\n",
       "      <td>177.0</td>\n",
       "      <td>4811.0</td>\n",
       "      <td>fish</td>\n",
       "      <td>juvenile</td>\n",
       "      <td>overweight</td>\n",
       "      <td>2021</td>\n",
       "      <td>False</td>\n",
       "    </tr>\n",
       "  </tbody>\n",
       "</table>\n",
       "</div>"
      ],
      "text/plain": [
       "  species  bill_length_mm  bill_depth_mm  flipper_length_mm  body_mass_g  \\\n",
       "0  Adelie            53.4           17.8              219.0       5687.0   \n",
       "1  Adelie            49.3           18.1              245.0       6811.0   \n",
       "2  Adelie            55.7           16.6              226.0       5388.0   \n",
       "3  Adelie            38.0           15.6              221.0       6262.0   \n",
       "4  Adelie            60.7           17.9              177.0       4811.0   \n",
       "\n",
       "   diet life_stage health_metrics  year  sex_male  \n",
       "0  fish      adult     overweight  2021     False  \n",
       "1  fish      adult     overweight  2021     False  \n",
       "2  fish      adult     overweight  2021     False  \n",
       "3  fish      adult     overweight  2021     False  \n",
       "4  fish   juvenile     overweight  2021     False  "
      ]
     },
     "execution_count": 12,
     "metadata": {},
     "output_type": "execute_result"
    }
   ],
   "source": [
    "penguins.head()"
   ]
  },
  {
   "cell_type": "markdown",
   "id": "e00e1e7f",
   "metadata": {
    "papermill": {
     "duration": 0.008442,
     "end_time": "2024-04-22T15:00:46.253695",
     "exception": false,
     "start_time": "2024-04-22T15:00:46.245253",
     "status": "completed"
    },
    "tags": []
   },
   "source": [
    "Because K-means uses distance between observations as its measure of similarity, it’s important to scale the data before modeling. Since the 'species'column is not feature, it doesn't need to be scaled. For this analysis, I will also drop 'diet', 'life_stage' and 'health_metrics' as they are not needed. "
   ]
  },
  {
   "cell_type": "code",
   "execution_count": 13,
   "id": "642e6e9f",
   "metadata": {
    "execution": {
     "iopub.execute_input": "2024-04-22T15:00:46.272684Z",
     "iopub.status.busy": "2024-04-22T15:00:46.272159Z",
     "iopub.status.idle": "2024-04-22T15:00:46.278598Z",
     "shell.execute_reply": "2024-04-22T15:00:46.277799Z"
    },
    "papermill": {
     "duration": 0.018442,
     "end_time": "2024-04-22T15:00:46.280683",
     "exception": false,
     "start_time": "2024-04-22T15:00:46.262241",
     "status": "completed"
    },
    "tags": []
   },
   "outputs": [],
   "source": [
    "# Exclude 'species' from variable X\n",
    "X= penguins.drop(['species', 'diet', 'life_stage', 'health_metrics'], axis=1)"
   ]
  },
  {
   "cell_type": "code",
   "execution_count": 14,
   "id": "bd92d1e2",
   "metadata": {
    "execution": {
     "iopub.execute_input": "2024-04-22T15:00:46.301009Z",
     "iopub.status.busy": "2024-04-22T15:00:46.300191Z",
     "iopub.status.idle": "2024-04-22T15:00:46.314435Z",
     "shell.execute_reply": "2024-04-22T15:00:46.313197Z"
    },
    "papermill": {
     "duration": 0.027149,
     "end_time": "2024-04-22T15:00:46.316919",
     "exception": false,
     "start_time": "2024-04-22T15:00:46.289770",
     "status": "completed"
    },
    "tags": []
   },
   "outputs": [
    {
     "data": {
      "text/html": [
       "<div>\n",
       "<style scoped>\n",
       "    .dataframe tbody tr th:only-of-type {\n",
       "        vertical-align: middle;\n",
       "    }\n",
       "\n",
       "    .dataframe tbody tr th {\n",
       "        vertical-align: top;\n",
       "    }\n",
       "\n",
       "    .dataframe thead th {\n",
       "        text-align: right;\n",
       "    }\n",
       "</style>\n",
       "<table border=\"1\" class=\"dataframe\">\n",
       "  <thead>\n",
       "    <tr style=\"text-align: right;\">\n",
       "      <th></th>\n",
       "      <th>bill_length_mm</th>\n",
       "      <th>bill_depth_mm</th>\n",
       "      <th>flipper_length_mm</th>\n",
       "      <th>body_mass_g</th>\n",
       "      <th>year</th>\n",
       "      <th>sex_male</th>\n",
       "    </tr>\n",
       "  </thead>\n",
       "  <tbody>\n",
       "    <tr>\n",
       "      <th>0</th>\n",
       "      <td>53.4</td>\n",
       "      <td>17.8</td>\n",
       "      <td>219.0</td>\n",
       "      <td>5687.0</td>\n",
       "      <td>2021</td>\n",
       "      <td>False</td>\n",
       "    </tr>\n",
       "    <tr>\n",
       "      <th>1</th>\n",
       "      <td>49.3</td>\n",
       "      <td>18.1</td>\n",
       "      <td>245.0</td>\n",
       "      <td>6811.0</td>\n",
       "      <td>2021</td>\n",
       "      <td>False</td>\n",
       "    </tr>\n",
       "    <tr>\n",
       "      <th>2</th>\n",
       "      <td>55.7</td>\n",
       "      <td>16.6</td>\n",
       "      <td>226.0</td>\n",
       "      <td>5388.0</td>\n",
       "      <td>2021</td>\n",
       "      <td>False</td>\n",
       "    </tr>\n",
       "    <tr>\n",
       "      <th>3</th>\n",
       "      <td>38.0</td>\n",
       "      <td>15.6</td>\n",
       "      <td>221.0</td>\n",
       "      <td>6262.0</td>\n",
       "      <td>2021</td>\n",
       "      <td>False</td>\n",
       "    </tr>\n",
       "    <tr>\n",
       "      <th>4</th>\n",
       "      <td>60.7</td>\n",
       "      <td>17.9</td>\n",
       "      <td>177.0</td>\n",
       "      <td>4811.0</td>\n",
       "      <td>2021</td>\n",
       "      <td>False</td>\n",
       "    </tr>\n",
       "  </tbody>\n",
       "</table>\n",
       "</div>"
      ],
      "text/plain": [
       "   bill_length_mm  bill_depth_mm  flipper_length_mm  body_mass_g  year  \\\n",
       "0            53.4           17.8              219.0       5687.0  2021   \n",
       "1            49.3           18.1              245.0       6811.0  2021   \n",
       "2            55.7           16.6              226.0       5388.0  2021   \n",
       "3            38.0           15.6              221.0       6262.0  2021   \n",
       "4            60.7           17.9              177.0       4811.0  2021   \n",
       "\n",
       "   sex_male  \n",
       "0     False  \n",
       "1     False  \n",
       "2     False  \n",
       "3     False  \n",
       "4     False  "
      ]
     },
     "execution_count": 14,
     "metadata": {},
     "output_type": "execute_result"
    }
   ],
   "source": [
    "# View X\n",
    "X.head()"
   ]
  },
  {
   "cell_type": "code",
   "execution_count": 15,
   "id": "fc001c58",
   "metadata": {
    "execution": {
     "iopub.execute_input": "2024-04-22T15:00:46.336622Z",
     "iopub.status.busy": "2024-04-22T15:00:46.336180Z",
     "iopub.status.idle": "2024-04-22T15:00:46.348544Z",
     "shell.execute_reply": "2024-04-22T15:00:46.347593Z"
    },
    "papermill": {
     "duration": 0.025485,
     "end_time": "2024-04-22T15:00:46.351252",
     "exception": false,
     "start_time": "2024-04-22T15:00:46.325767",
     "status": "completed"
    },
    "tags": []
   },
   "outputs": [],
   "source": [
    "# Scale features and assign scaled data to new variable\n",
    "X_scaled= StandardScaler().fit_transform(X)"
   ]
  },
  {
   "cell_type": "markdown",
   "id": "2457b45f",
   "metadata": {
    "papermill": {
     "duration": 0.009699,
     "end_time": "2024-04-22T15:00:46.370095",
     "exception": false,
     "start_time": "2024-04-22T15:00:46.360396",
     "status": "completed"
    },
    "tags": []
   },
   "source": [
    "Now, I'm going to fit K-means and evaluate inertia for different values of k. Since I don't know how many clusters exist in the data, I'll start by fitting K-means and examining the inertia values for different values of k."
   ]
  },
  {
   "cell_type": "code",
   "execution_count": 16,
   "id": "27a5b12a",
   "metadata": {
    "execution": {
     "iopub.execute_input": "2024-04-22T15:00:46.390398Z",
     "iopub.status.busy": "2024-04-22T15:00:46.389991Z",
     "iopub.status.idle": "2024-04-22T15:00:46.396232Z",
     "shell.execute_reply": "2024-04-22T15:00:46.394815Z"
    },
    "papermill": {
     "duration": 0.019058,
     "end_time": "2024-04-22T15:00:46.398746",
     "exception": false,
     "start_time": "2024-04-22T15:00:46.379688",
     "status": "completed"
    },
    "tags": []
   },
   "outputs": [],
   "source": [
    "# Fit k-means and evaluate intertia for different values of k\n",
    "num_clusters= [i for i in range(2,11)]\n",
    "\n",
    "def kmeans_inertia(num_cluster, x_vals):\n",
    "    inertia= []\n",
    "    for num in num_clusters:\n",
    "        kms= KMeans(n_clusters= num, random_state= 42)\n",
    "        kms.fit(x_vals)\n",
    "        inertia.append(kms.inertia_)\n",
    "    return inertia"
   ]
  },
  {
   "cell_type": "code",
   "execution_count": 17,
   "id": "0c5d2abe",
   "metadata": {
    "execution": {
     "iopub.execute_input": "2024-04-22T15:00:46.418958Z",
     "iopub.status.busy": "2024-04-22T15:00:46.418295Z",
     "iopub.status.idle": "2024-04-22T15:00:58.354174Z",
     "shell.execute_reply": "2024-04-22T15:00:58.352662Z"
    },
    "papermill": {
     "duration": 11.94922,
     "end_time": "2024-04-22T15:00:58.357123",
     "exception": false,
     "start_time": "2024-04-22T15:00:46.407903",
     "status": "completed"
    },
    "tags": []
   },
   "outputs": [
    {
     "name": "stderr",
     "output_type": "stream",
     "text": [
      "/opt/conda/lib/python3.10/site-packages/sklearn/cluster/_kmeans.py:870: FutureWarning: The default value of `n_init` will change from 10 to 'auto' in 1.4. Set the value of `n_init` explicitly to suppress the warning\n",
      "  warnings.warn(\n",
      "/opt/conda/lib/python3.10/site-packages/sklearn/cluster/_kmeans.py:870: FutureWarning: The default value of `n_init` will change from 10 to 'auto' in 1.4. Set the value of `n_init` explicitly to suppress the warning\n",
      "  warnings.warn(\n",
      "/opt/conda/lib/python3.10/site-packages/sklearn/cluster/_kmeans.py:870: FutureWarning: The default value of `n_init` will change from 10 to 'auto' in 1.4. Set the value of `n_init` explicitly to suppress the warning\n",
      "  warnings.warn(\n",
      "/opt/conda/lib/python3.10/site-packages/sklearn/cluster/_kmeans.py:870: FutureWarning: The default value of `n_init` will change from 10 to 'auto' in 1.4. Set the value of `n_init` explicitly to suppress the warning\n",
      "  warnings.warn(\n",
      "/opt/conda/lib/python3.10/site-packages/sklearn/cluster/_kmeans.py:870: FutureWarning: The default value of `n_init` will change from 10 to 'auto' in 1.4. Set the value of `n_init` explicitly to suppress the warning\n",
      "  warnings.warn(\n",
      "/opt/conda/lib/python3.10/site-packages/sklearn/cluster/_kmeans.py:870: FutureWarning: The default value of `n_init` will change from 10 to 'auto' in 1.4. Set the value of `n_init` explicitly to suppress the warning\n",
      "  warnings.warn(\n",
      "/opt/conda/lib/python3.10/site-packages/sklearn/cluster/_kmeans.py:870: FutureWarning: The default value of `n_init` will change from 10 to 'auto' in 1.4. Set the value of `n_init` explicitly to suppress the warning\n",
      "  warnings.warn(\n",
      "/opt/conda/lib/python3.10/site-packages/sklearn/cluster/_kmeans.py:870: FutureWarning: The default value of `n_init` will change from 10 to 'auto' in 1.4. Set the value of `n_init` explicitly to suppress the warning\n",
      "  warnings.warn(\n",
      "/opt/conda/lib/python3.10/site-packages/sklearn/cluster/_kmeans.py:870: FutureWarning: The default value of `n_init` will change from 10 to 'auto' in 1.4. Set the value of `n_init` explicitly to suppress the warning\n",
      "  warnings.warn(\n"
     ]
    },
    {
     "data": {
      "text/plain": [
       "[13887.765822048783,\n",
       " 11304.7734424414,\n",
       " 9905.884481332288,\n",
       " 8984.352686624032,\n",
       " 8111.404072602778,\n",
       " 7489.936460719147,\n",
       " 7022.70299008923,\n",
       " 6631.952307015995,\n",
       " 6268.386081824035]"
      ]
     },
     "execution_count": 17,
     "metadata": {},
     "output_type": "execute_result"
    }
   ],
   "source": [
    "# Return a list of inertia for k=2 to 10\n",
    "inertia= kmeans_inertia(num_clusters, X_scaled)\n",
    "inertia"
   ]
  },
  {
   "cell_type": "code",
   "execution_count": 18,
   "id": "dde399f6",
   "metadata": {
    "execution": {
     "iopub.execute_input": "2024-04-22T15:00:58.378290Z",
     "iopub.status.busy": "2024-04-22T15:00:58.377891Z",
     "iopub.status.idle": "2024-04-22T15:00:58.765003Z",
     "shell.execute_reply": "2024-04-22T15:00:58.763675Z"
    },
    "papermill": {
     "duration": 0.401069,
     "end_time": "2024-04-22T15:00:58.767838",
     "exception": false,
     "start_time": "2024-04-22T15:00:58.366769",
     "status": "completed"
    },
    "tags": []
   },
   "outputs": [
    {
     "name": "stderr",
     "output_type": "stream",
     "text": [
      "/opt/conda/lib/python3.10/site-packages/seaborn/_oldcore.py:1119: FutureWarning: use_inf_as_na option is deprecated and will be removed in a future version. Convert inf values to NaN before operating instead.\n",
      "  with pd.option_context('mode.use_inf_as_na', True):\n",
      "/opt/conda/lib/python3.10/site-packages/seaborn/_oldcore.py:1119: FutureWarning: use_inf_as_na option is deprecated and will be removed in a future version. Convert inf values to NaN before operating instead.\n",
      "  with pd.option_context('mode.use_inf_as_na', True):\n"
     ]
    },
    {
     "data": {
      "text/plain": [
       "Text(0.5, 1.0, 'Number of Clusters vs Inertia')"
      ]
     },
     "execution_count": 18,
     "metadata": {},
     "output_type": "execute_result"
    },
    {
     "data": {
      "image/png": "[encoded data removed]",
      "text/plain": [
       "<Figure size 640x480 with 1 Axes>"
      ]
     },
     "metadata": {},
     "output_type": "display_data"
    }
   ],
   "source": [
    "# Line Plot- Relationship num_clusters an inertia\n",
    "plot= sns.lineplot(x= num_clusters, y= inertia, marker= 'o')\n",
    "plot.set_xlabel('Number of Clusters')\n",
    "plot.set_ylabel('Inertia')\n",
    "plot.set_title('Number of Clusters vs Inertia')"
   ]
  },
  {
   "cell_type": "markdown",
   "id": "f80fd720",
   "metadata": {
    "papermill": {
     "duration": 0.01022,
     "end_time": "2024-04-22T15:00:58.789480",
     "exception": false,
     "start_time": "2024-04-22T15:00:58.779260",
     "status": "completed"
    },
    "tags": []
   },
   "source": [
    "The plot seems to depict an elbow at six clusters, but there isn’t a clear method for confirming that a six-cluster model is optimal. Therefore, the silhouette scores should be checked, which are used to study the distance between clusters. "
   ]
  },
  {
   "cell_type": "code",
   "execution_count": 19,
   "id": "ad6cdec6",
   "metadata": {
    "execution": {
     "iopub.execute_input": "2024-04-22T15:00:58.812379Z",
     "iopub.status.busy": "2024-04-22T15:00:58.811974Z",
     "iopub.status.idle": "2024-04-22T15:01:13.378006Z",
     "shell.execute_reply": "2024-04-22T15:01:13.376650Z"
    },
    "papermill": {
     "duration": 14.580859,
     "end_time": "2024-04-22T15:01:13.380947",
     "exception": false,
     "start_time": "2024-04-22T15:00:58.800088",
     "status": "completed"
    },
    "tags": []
   },
   "outputs": [
    {
     "name": "stderr",
     "output_type": "stream",
     "text": [
      "/opt/conda/lib/python3.10/site-packages/sklearn/cluster/_kmeans.py:870: FutureWarning: The default value of `n_init` will change from 10 to 'auto' in 1.4. Set the value of `n_init` explicitly to suppress the warning\n",
      "  warnings.warn(\n",
      "/opt/conda/lib/python3.10/site-packages/sklearn/cluster/_kmeans.py:870: FutureWarning: The default value of `n_init` will change from 10 to 'auto' in 1.4. Set the value of `n_init` explicitly to suppress the warning\n",
      "  warnings.warn(\n",
      "/opt/conda/lib/python3.10/site-packages/sklearn/cluster/_kmeans.py:870: FutureWarning: The default value of `n_init` will change from 10 to 'auto' in 1.4. Set the value of `n_init` explicitly to suppress the warning\n",
      "  warnings.warn(\n",
      "/opt/conda/lib/python3.10/site-packages/sklearn/cluster/_kmeans.py:870: FutureWarning: The default value of `n_init` will change from 10 to 'auto' in 1.4. Set the value of `n_init` explicitly to suppress the warning\n",
      "  warnings.warn(\n",
      "/opt/conda/lib/python3.10/site-packages/sklearn/cluster/_kmeans.py:870: FutureWarning: The default value of `n_init` will change from 10 to 'auto' in 1.4. Set the value of `n_init` explicitly to suppress the warning\n",
      "  warnings.warn(\n",
      "/opt/conda/lib/python3.10/site-packages/sklearn/cluster/_kmeans.py:870: FutureWarning: The default value of `n_init` will change from 10 to 'auto' in 1.4. Set the value of `n_init` explicitly to suppress the warning\n",
      "  warnings.warn(\n",
      "/opt/conda/lib/python3.10/site-packages/sklearn/cluster/_kmeans.py:870: FutureWarning: The default value of `n_init` will change from 10 to 'auto' in 1.4. Set the value of `n_init` explicitly to suppress the warning\n",
      "  warnings.warn(\n",
      "/opt/conda/lib/python3.10/site-packages/sklearn/cluster/_kmeans.py:870: FutureWarning: The default value of `n_init` will change from 10 to 'auto' in 1.4. Set the value of `n_init` explicitly to suppress the warning\n",
      "  warnings.warn(\n",
      "/opt/conda/lib/python3.10/site-packages/sklearn/cluster/_kmeans.py:870: FutureWarning: The default value of `n_init` will change from 10 to 'auto' in 1.4. Set the value of `n_init` explicitly to suppress the warning\n",
      "  warnings.warn(\n"
     ]
    },
    {
     "data": {
      "text/plain": [
       "[0.29972682202123296,\n",
       " 0.25708482855815556,\n",
       " 0.2682622296502119,\n",
       " 0.23626959143496562,\n",
       " 0.2391760760569351,\n",
       " 0.23378197529205438,\n",
       " 0.22286764555525798,\n",
       " 0.22293114859159485,\n",
       " 0.22273191789235067]"
      ]
     },
     "execution_count": 19,
     "metadata": {},
     "output_type": "execute_result"
    }
   ],
   "source": [
    "# Evaluate silhouette score\n",
    "def kmeans_sil(num_clusters, x_vals):\n",
    "    sil_score= []\n",
    "    for num in num_clusters:\n",
    "        kms= KMeans(n_clusters= num, random_state= 42)\n",
    "        kms.fit(x_vals)\n",
    "        sil_score.append(silhouette_score(x_vals, kms.labels_))\n",
    "    return sil_score\n",
    "\n",
    "sil_score= kmeans_sil(num_clusters, X_scaled)\n",
    "sil_score"
   ]
  },
  {
   "cell_type": "code",
   "execution_count": 20,
   "id": "3bd55cf7",
   "metadata": {
    "execution": {
     "iopub.execute_input": "2024-04-22T15:01:13.405201Z",
     "iopub.status.busy": "2024-04-22T15:01:13.404790Z",
     "iopub.status.idle": "2024-04-22T15:01:13.744904Z",
     "shell.execute_reply": "2024-04-22T15:01:13.743811Z"
    },
    "papermill": {
     "duration": 0.355135,
     "end_time": "2024-04-22T15:01:13.747406",
     "exception": false,
     "start_time": "2024-04-22T15:01:13.392271",
     "status": "completed"
    },
    "tags": []
   },
   "outputs": [
    {
     "name": "stderr",
     "output_type": "stream",
     "text": [
      "/opt/conda/lib/python3.10/site-packages/seaborn/_oldcore.py:1119: FutureWarning: use_inf_as_na option is deprecated and will be removed in a future version. Convert inf values to NaN before operating instead.\n",
      "  with pd.option_context('mode.use_inf_as_na', True):\n",
      "/opt/conda/lib/python3.10/site-packages/seaborn/_oldcore.py:1119: FutureWarning: use_inf_as_na option is deprecated and will be removed in a future version. Convert inf values to NaN before operating instead.\n",
      "  with pd.option_context('mode.use_inf_as_na', True):\n"
     ]
    },
    {
     "data": {
      "text/plain": [
       "Text(0.5, 1.0, 'Number of Clusters vs Silhouette Score')"
      ]
     },
     "execution_count": 20,
     "metadata": {},
     "output_type": "execute_result"
    },
    {
     "data": {
      "image/png": "[encoded data removed]",
      "text/plain": [
       "<Figure size 640x480 with 1 Axes>"
      ]
     },
     "metadata": {},
     "output_type": "display_data"
    }
   ],
   "source": [
    "# Line plot- Relationship num_clusters and sil_score\n",
    "plot= sns.lineplot(x= num_clusters, y= sil_score, marker= 'o')\n",
    "plot.set_xlabel('Number of Clusters')\n",
    "plot.set_ylabel('Silhouette Score')\n",
    "plot.set_title('Number of Clusters vs Silhouette Score')"
   ]
  },
  {
   "cell_type": "markdown",
   "id": "18e8fc52",
   "metadata": {
    "papermill": {
     "duration": 0.011512,
     "end_time": "2024-04-22T15:01:13.771325",
     "exception": false,
     "start_time": "2024-04-22T15:01:13.759813",
     "status": "completed"
    },
    "tags": []
   },
   "source": [
    "Silhouette scores near 1 indicate that samples are far away from neighboring clusters. Scores close to 0 indicate that samples are on or very close to the decision boundary between two neighboring clusters.\n",
    "\n",
    "The plot indicates that the silhouette score is closest to one when the data is partitioned into two clusters, which suggest moderate clustering. \n",
    "\n",
    "To decide on an optimal k-value, I will fit a two-cluster model to the dataset. "
   ]
  },
  {
   "cell_type": "code",
   "execution_count": 21,
   "id": "be5d401d",
   "metadata": {
    "execution": {
     "iopub.execute_input": "2024-04-22T15:01:13.797536Z",
     "iopub.status.busy": "2024-04-22T15:01:13.797134Z",
     "iopub.status.idle": "2024-04-22T15:01:14.967801Z",
     "shell.execute_reply": "2024-04-22T15:01:14.966803Z"
    },
    "papermill": {
     "duration": 1.186399,
     "end_time": "2024-04-22T15:01:14.970030",
     "exception": false,
     "start_time": "2024-04-22T15:01:13.783631",
     "status": "completed"
    },
    "tags": []
   },
   "outputs": [
    {
     "name": "stderr",
     "output_type": "stream",
     "text": [
      "/opt/conda/lib/python3.10/site-packages/sklearn/cluster/_kmeans.py:870: FutureWarning: The default value of `n_init` will change from 10 to 'auto' in 1.4. Set the value of `n_init` explicitly to suppress the warning\n",
      "  warnings.warn(\n"
     ]
    },
    {
     "data": {
      "text/html": [
       "<style>#sk-container-id-1 {color: black;background-color: white;}#sk-container-id-1 pre{padding: 0;}#sk-container-id-1 div.sk-toggleable {background-color: white;}#sk-container-id-1 label.sk-toggleable__label {cursor: pointer;display: block;width: 100%;margin-bottom: 0;padding: 0.3em;box-sizing: border-box;text-align: center;}#sk-container-id-1 label.sk-toggleable__label-arrow:before {content: \"▸\";float: left;margin-right: 0.25em;color: #696969;}#sk-container-id-1 label.sk-toggleable__label-arrow:hover:before {color: black;}#sk-container-id-1 div.sk-estimator:hover label.sk-toggleable__label-arrow:before {color: black;}#sk-container-id-1 div.sk-toggleable__content {max-height: 0;max-width: 0;overflow: hidden;text-align: left;background-color: #f0f8ff;}#sk-container-id-1 div.sk-toggleable__content pre {margin: 0.2em;color: black;border-radius: 0.25em;background-color: #f0f8ff;}#sk-container-id-1 input.sk-toggleable__control:checked~div.sk-toggleable__content {max-height: 200px;max-width: 100%;overflow: auto;}#sk-container-id-1 input.sk-toggleable__control:checked~label.sk-toggleable__label-arrow:before {content: \"▾\";}#sk-container-id-1 div.sk-estimator input.sk-toggleable__control:checked~label.sk-toggleable__label {background-color: #d4ebff;}#sk-container-id-1 div.sk-label input.sk-toggleable__control:checked~label.sk-toggleable__label {background-color: #d4ebff;}#sk-container-id-1 input.sk-hidden--visually {border: 0;clip: rect(1px 1px 1px 1px);clip: rect(1px, 1px, 1px, 1px);height: 1px;margin: -1px;overflow: hidden;padding: 0;position: absolute;width: 1px;}#sk-container-id-1 div.sk-estimator {font-family: monospace;background-color: #f0f8ff;border: 1px dotted black;border-radius: 0.25em;box-sizing: border-box;margin-bottom: 0.5em;}#sk-container-id-1 div.sk-estimator:hover {background-color: #d4ebff;}#sk-container-id-1 div.sk-parallel-item::after {content: \"\";width: 100%;border-bottom: 1px solid gray;flex-grow: 1;}#sk-container-id-1 div.sk-label:hover label.sk-toggleable__label {background-color: #d4ebff;}#sk-container-id-1 div.sk-serial::before {content: \"\";position: absolute;border-left: 1px solid gray;box-sizing: border-box;top: 0;bottom: 0;left: 50%;z-index: 0;}#sk-container-id-1 div.sk-serial {display: flex;flex-direction: column;align-items: center;background-color: white;padding-right: 0.2em;padding-left: 0.2em;position: relative;}#sk-container-id-1 div.sk-item {position: relative;z-index: 1;}#sk-container-id-1 div.sk-parallel {display: flex;align-items: stretch;justify-content: center;background-color: white;position: relative;}#sk-container-id-1 div.sk-item::before, #sk-container-id-1 div.sk-parallel-item::before {content: \"\";position: absolute;border-left: 1px solid gray;box-sizing: border-box;top: 0;bottom: 0;left: 50%;z-index: -1;}#sk-container-id-1 div.sk-parallel-item {display: flex;flex-direction: column;z-index: 1;position: relative;background-color: white;}#sk-container-id-1 div.sk-parallel-item:first-child::after {align-self: flex-end;width: 50%;}#sk-container-id-1 div.sk-parallel-item:last-child::after {align-self: flex-start;width: 50%;}#sk-container-id-1 div.sk-parallel-item:only-child::after {width: 0;}#sk-container-id-1 div.sk-dashed-wrapped {border: 1px dashed gray;margin: 0 0.4em 0.5em 0.4em;box-sizing: border-box;padding-bottom: 0.4em;background-color: white;}#sk-container-id-1 div.sk-label label {font-family: monospace;font-weight: bold;display: inline-block;line-height: 1.2em;}#sk-container-id-1 div.sk-label-container {text-align: center;}#sk-container-id-1 div.sk-container {/* jupyter's `normalize.less` sets `[hidden] { display: none; }` but bootstrap.min.css set `[hidden] { display: none !important; }` so we also need the `!important` here to be able to override the default hidden behavior on the sphinx rendered scikit-learn.org. See: https://github.com/scikit-learn/scikit-learn/issues/21755 */display: inline-block !important;position: relative;}#sk-container-id-1 div.sk-text-repr-fallback {display: none;}</style><div id=\"sk-container-id-1\" class=\"sk-top-container\"><div class=\"sk-text-repr-fallback\"><pre>KMeans(n_clusters=2, random_state=42)</pre><b>In a Jupyter environment, please rerun this cell to show the HTML representation or trust the notebook. <br />On GitHub, the HTML representation is unable to render, please try loading this page with nbviewer.org.</b></div><div class=\"sk-container\" hidden><div class=\"sk-item\"><div class=\"sk-estimator sk-toggleable\"><input class=\"sk-toggleable__control sk-hidden--visually\" id=\"sk-estimator-id-1\" type=\"checkbox\" checked><label for=\"sk-estimator-id-1\" class=\"sk-toggleable__label sk-toggleable__label-arrow\">KMeans</label><div class=\"sk-toggleable__content\"><pre>KMeans(n_clusters=2, random_state=42)</pre></div></div></div></div></div>"
      ],
      "text/plain": [
       "KMeans(n_clusters=2, random_state=42)"
      ]
     },
     "execution_count": 21,
     "metadata": {},
     "output_type": "execute_result"
    }
   ],
   "source": [
    "# Fit two-cluster model\n",
    "params = {'n_clusters': 2, 'random_state': 42}\n",
    "kmeans2 = KMeans(**params)\n",
    "kmeans2.fit(X_scaled)"
   ]
  },
  {
   "cell_type": "code",
   "execution_count": 22,
   "id": "34976f50",
   "metadata": {
    "execution": {
     "iopub.execute_input": "2024-04-22T15:01:14.997698Z",
     "iopub.status.busy": "2024-04-22T15:01:14.996464Z",
     "iopub.status.idle": "2024-04-22T15:01:15.002677Z",
     "shell.execute_reply": "2024-04-22T15:01:15.001386Z"
    },
    "papermill": {
     "duration": 0.022477,
     "end_time": "2024-04-22T15:01:15.004951",
     "exception": false,
     "start_time": "2024-04-22T15:01:14.982474",
     "status": "completed"
    },
    "tags": []
   },
   "outputs": [
    {
     "name": "stdout",
     "output_type": "stream",
     "text": [
      "Unique Labels:  [0 1]\n"
     ]
    }
   ],
   "source": [
    "# Unique labels\n",
    "print('Unique Labels: ', np.unique(kmeans2.labels_))"
   ]
  },
  {
   "cell_type": "code",
   "execution_count": 23,
   "id": "312900e3",
   "metadata": {
    "execution": {
     "iopub.execute_input": "2024-04-22T15:01:15.032453Z",
     "iopub.status.busy": "2024-04-22T15:01:15.032024Z",
     "iopub.status.idle": "2024-04-22T15:01:15.048736Z",
     "shell.execute_reply": "2024-04-22T15:01:15.047835Z"
    },
    "papermill": {
     "duration": 0.032458,
     "end_time": "2024-04-22T15:01:15.050758",
     "exception": false,
     "start_time": "2024-04-22T15:01:15.018300",
     "status": "completed"
    },
    "tags": []
   },
   "outputs": [
    {
     "data": {
      "text/html": [
       "<div>\n",
       "<style scoped>\n",
       "    .dataframe tbody tr th:only-of-type {\n",
       "        vertical-align: middle;\n",
       "    }\n",
       "\n",
       "    .dataframe tbody tr th {\n",
       "        vertical-align: top;\n",
       "    }\n",
       "\n",
       "    .dataframe thead th {\n",
       "        text-align: right;\n",
       "    }\n",
       "</style>\n",
       "<table border=\"1\" class=\"dataframe\">\n",
       "  <thead>\n",
       "    <tr style=\"text-align: right;\">\n",
       "      <th></th>\n",
       "      <th>species</th>\n",
       "      <th>bill_length_mm</th>\n",
       "      <th>bill_depth_mm</th>\n",
       "      <th>flipper_length_mm</th>\n",
       "      <th>body_mass_g</th>\n",
       "      <th>diet</th>\n",
       "      <th>life_stage</th>\n",
       "      <th>health_metrics</th>\n",
       "      <th>year</th>\n",
       "      <th>sex_male</th>\n",
       "      <th>cluster</th>\n",
       "    </tr>\n",
       "  </thead>\n",
       "  <tbody>\n",
       "    <tr>\n",
       "      <th>0</th>\n",
       "      <td>Adelie</td>\n",
       "      <td>53.4</td>\n",
       "      <td>17.8</td>\n",
       "      <td>219.0</td>\n",
       "      <td>5687.0</td>\n",
       "      <td>fish</td>\n",
       "      <td>adult</td>\n",
       "      <td>overweight</td>\n",
       "      <td>2021</td>\n",
       "      <td>False</td>\n",
       "      <td>1</td>\n",
       "    </tr>\n",
       "    <tr>\n",
       "      <th>1</th>\n",
       "      <td>Adelie</td>\n",
       "      <td>49.3</td>\n",
       "      <td>18.1</td>\n",
       "      <td>245.0</td>\n",
       "      <td>6811.0</td>\n",
       "      <td>fish</td>\n",
       "      <td>adult</td>\n",
       "      <td>overweight</td>\n",
       "      <td>2021</td>\n",
       "      <td>False</td>\n",
       "      <td>1</td>\n",
       "    </tr>\n",
       "    <tr>\n",
       "      <th>2</th>\n",
       "      <td>Adelie</td>\n",
       "      <td>55.7</td>\n",
       "      <td>16.6</td>\n",
       "      <td>226.0</td>\n",
       "      <td>5388.0</td>\n",
       "      <td>fish</td>\n",
       "      <td>adult</td>\n",
       "      <td>overweight</td>\n",
       "      <td>2021</td>\n",
       "      <td>False</td>\n",
       "      <td>1</td>\n",
       "    </tr>\n",
       "    <tr>\n",
       "      <th>3</th>\n",
       "      <td>Adelie</td>\n",
       "      <td>38.0</td>\n",
       "      <td>15.6</td>\n",
       "      <td>221.0</td>\n",
       "      <td>6262.0</td>\n",
       "      <td>fish</td>\n",
       "      <td>adult</td>\n",
       "      <td>overweight</td>\n",
       "      <td>2021</td>\n",
       "      <td>False</td>\n",
       "      <td>0</td>\n",
       "    </tr>\n",
       "    <tr>\n",
       "      <th>4</th>\n",
       "      <td>Adelie</td>\n",
       "      <td>60.7</td>\n",
       "      <td>17.9</td>\n",
       "      <td>177.0</td>\n",
       "      <td>4811.0</td>\n",
       "      <td>fish</td>\n",
       "      <td>juvenile</td>\n",
       "      <td>overweight</td>\n",
       "      <td>2021</td>\n",
       "      <td>False</td>\n",
       "      <td>0</td>\n",
       "    </tr>\n",
       "  </tbody>\n",
       "</table>\n",
       "</div>"
      ],
      "text/plain": [
       "  species  bill_length_mm  bill_depth_mm  flipper_length_mm  body_mass_g  \\\n",
       "0  Adelie            53.4           17.8              219.0       5687.0   \n",
       "1  Adelie            49.3           18.1              245.0       6811.0   \n",
       "2  Adelie            55.7           16.6              226.0       5388.0   \n",
       "3  Adelie            38.0           15.6              221.0       6262.0   \n",
       "4  Adelie            60.7           17.9              177.0       4811.0   \n",
       "\n",
       "   diet life_stage health_metrics  year  sex_male  cluster  \n",
       "0  fish      adult     overweight  2021     False        1  \n",
       "1  fish      adult     overweight  2021     False        1  \n",
       "2  fish      adult     overweight  2021     False        1  \n",
       "3  fish      adult     overweight  2021     False        0  \n",
       "4  fish   juvenile     overweight  2021     False        0  "
      ]
     },
     "execution_count": 23,
     "metadata": {},
     "output_type": "execute_result"
    }
   ],
   "source": [
    "# New 'cluster' column\n",
    "penguins['cluster']= kmeans2.labels_\n",
    "penguins.head()"
   ]
  },
  {
   "cell_type": "code",
   "execution_count": 24,
   "id": "76c91d0b",
   "metadata": {
    "execution": {
     "iopub.execute_input": "2024-04-22T15:01:15.078671Z",
     "iopub.status.busy": "2024-04-22T15:01:15.077696Z",
     "iopub.status.idle": "2024-04-22T15:01:15.087955Z",
     "shell.execute_reply": "2024-04-22T15:01:15.086682Z"
    },
    "papermill": {
     "duration": 0.02708,
     "end_time": "2024-04-22T15:01:15.090461",
     "exception": false,
     "start_time": "2024-04-22T15:01:15.063381",
     "status": "completed"
    },
    "tags": []
   },
   "outputs": [
    {
     "data": {
      "text/plain": [
       "cluster\n",
       "0    2284\n",
       "1    1146\n",
       "Name: species, dtype: int64"
      ]
     },
     "execution_count": 24,
     "metadata": {},
     "output_type": "execute_result"
    }
   ],
   "source": [
    "# Cluster groups by species size\n",
    "penguins.groupby('cluster')['species'].size()"
   ]
  },
  {
   "cell_type": "code",
   "execution_count": 25,
   "id": "b894ef75",
   "metadata": {
    "execution": {
     "iopub.execute_input": "2024-04-22T15:01:15.117954Z",
     "iopub.status.busy": "2024-04-22T15:01:15.117548Z",
     "iopub.status.idle": "2024-04-22T15:01:15.430789Z",
     "shell.execute_reply": "2024-04-22T15:01:15.429844Z"
    },
    "papermill": {
     "duration": 0.329517,
     "end_time": "2024-04-22T15:01:15.432934",
     "exception": false,
     "start_time": "2024-04-22T15:01:15.103417",
     "status": "completed"
    },
    "tags": []
   },
   "outputs": [
    {
     "data": {
      "text/plain": [
       "<Axes: title={'center': 'Clusters Differentiated by Species'}, xlabel='(Cluster, Species)', ylabel='Size'>"
      ]
     },
     "execution_count": 25,
     "metadata": {},
     "output_type": "execute_result"
    },
    {
     "data": {
      "image/png": "[encoded data removed]",
      "text/plain": [
       "<Figure size 600x500 with 1 Axes>"
      ]
     },
     "metadata": {},
     "output_type": "display_data"
    }
   ],
   "source": [
    "# Clusters differentiated by species\n",
    "penguins.groupby(by= ['cluster', 'species']).size().plot.bar(title= 'Clusters Differentiated by Species',figsize=(6,5),ylabel='Size',xlabel='(Cluster, Species)')"
   ]
  },
  {
   "cell_type": "code",
   "execution_count": 26,
   "id": "6ead2896",
   "metadata": {
    "execution": {
     "iopub.execute_input": "2024-04-22T15:01:15.463515Z",
     "iopub.status.busy": "2024-04-22T15:01:15.461177Z",
     "iopub.status.idle": "2024-04-22T15:01:15.475645Z",
     "shell.execute_reply": "2024-04-22T15:01:15.474247Z"
    },
    "papermill": {
     "duration": 0.031658,
     "end_time": "2024-04-22T15:01:15.478060",
     "exception": false,
     "start_time": "2024-04-22T15:01:15.446402",
     "status": "completed"
    },
    "tags": []
   },
   "outputs": [
    {
     "data": {
      "text/plain": [
       "cluster  species    sex_male\n",
       "0        Adelie     False       678\n",
       "                    True        508\n",
       "1        Gentoo     True        383\n",
       "0        Gentoo     False       348\n",
       "         Chinstrap  False       296\n",
       "         Gentoo     True        266\n",
       "1        Adelie     True        262\n",
       "         Gentoo     False       250\n",
       "0        Chinstrap  True        188\n",
       "1        Adelie     False       112\n",
       "         Chinstrap  True         97\n",
       "                    False        42\n",
       "dtype: int64"
      ]
     },
     "execution_count": 26,
     "metadata": {},
     "output_type": "execute_result"
    }
   ],
   "source": [
    "# Verify if each `cluster` can be differentiated by `species' AND `sex_MALE`.\n",
    "penguins.groupby(by= ['cluster', 'species' , 'sex_male']).size().sort_values(ascending= False)"
   ]
  },
  {
   "cell_type": "code",
   "execution_count": 27,
   "id": "e816a40d",
   "metadata": {
    "execution": {
     "iopub.execute_input": "2024-04-22T15:01:15.507014Z",
     "iopub.status.busy": "2024-04-22T15:01:15.506551Z",
     "iopub.status.idle": "2024-04-22T15:01:15.870511Z",
     "shell.execute_reply": "2024-04-22T15:01:15.869116Z"
    },
    "papermill": {
     "duration": 0.381363,
     "end_time": "2024-04-22T15:01:15.873115",
     "exception": false,
     "start_time": "2024-04-22T15:01:15.491752",
     "status": "completed"
    },
    "tags": []
   },
   "outputs": [
    {
     "data": {
      "text/plain": [
       "<matplotlib.legend.Legend at 0x7a9809d43520>"
      ]
     },
     "execution_count": 27,
     "metadata": {},
     "output_type": "execute_result"
    },
    {
     "data": {
      "image/png": "[encoded data removed]",
      "text/plain": [
       "<Figure size 600x500 with 1 Axes>"
      ]
     },
     "metadata": {},
     "output_type": "display_data"
    }
   ],
   "source": [
    "# Clusters differentiated by species and sex\n",
    "penguins.groupby(by=['cluster','species','sex_male']).size().unstack(level = 'species', fill_value=0).plot.bar(title= 'Clusters Differentiated by Species & Sex', figsize=(6, 5), ylabel= 'Size', xlabel= '(Cluster, Sex)')\n",
    "plt.legend(bbox_to_anchor=(1.3, 1.0))"
   ]
  },
  {
   "cell_type": "markdown",
   "id": "12baca00",
   "metadata": {
    "papermill": {
     "duration": 0.014549,
     "end_time": "2024-04-22T15:01:15.902807",
     "exception": false,
     "start_time": "2024-04-22T15:01:15.888258",
     "status": "completed"
    },
    "tags": []
   },
   "source": [
    "**Conclusion**\n",
    "\n",
    "The K-means clustering enabled this data to be effectively grouped. It helped identify patterns that can educate team members about penguins. The success of the cluster results suggests that the organization can apply clustering to other projects and continue augmenting employee education."
   ]
  }
 ],
 "metadata": {
  "kaggle": {
   "accelerator": "none",
   "dataSources": [
    {
     "datasetId": 3891364,
     "sourceId": 6761038,
     "sourceType": "datasetVersion"
    }
   ],
   "dockerImageVersionId": 30702,
   "isGpuEnabled": false,
   "isInternetEnabled": true,
   "language": "python",
   "sourceType": "notebook"
  },
  "kernelspec": {
   "display_name": "Python 3",
   "language": "python",
   "name": "python3"
  },
  "language_info": {
   "codemirror_mode": {
    "name": "ipython",
    "version": 3
   },
   "file_extension": ".py",
   "mimetype": "text/x-python",
   "name": "python",
   "nbconvert_exporter": "python",
   "pygments_lexer": "ipython3",
   "version": "3.10.13"
  },
  "papermill": {
   "default_parameters": {},
   "duration": 36.639995,
   "end_time": "2024-04-22T15:01:16.538377",
   "environment_variables": {},
   "exception": null,
   "input_path": "__notebook__.ipynb",
   "output_path": "__notebook__.ipynb",
   "parameters": {},
   "start_time": "2024-04-22T15:00:39.898382",
   "version": "2.5.0"
  }
 },
 "nbformat": 4,
 "nbformat_minor": 5
}
