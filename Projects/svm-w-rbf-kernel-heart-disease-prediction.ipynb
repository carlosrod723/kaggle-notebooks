{
 "cells": [
  {
   "cell_type": "code",
   "execution_count": 1,
   "id": "c83d5702",
   "metadata": {
    "_cell_guid": "b1076dfc-b9ad-4769-8c92-a6c4dae69d19",
    "_uuid": "8f2839f25d086af736a60e9eeb907d3b93b6e0e5",
    "execution": {
     "iopub.execute_input": "2024-06-17T00:00:01.448431Z",
     "iopub.status.busy": "2024-06-17T00:00:01.447900Z",
     "iopub.status.idle": "2024-06-17T00:00:03.158758Z",
     "shell.execute_reply": "2024-06-17T00:00:03.156238Z"
    },
    "papermill": {
     "duration": 1.741601,
     "end_time": "2024-06-17T00:00:03.163363",
     "exception": false,
     "start_time": "2024-06-17T00:00:01.421762",
     "status": "completed"
    },
    "tags": []
   },
   "outputs": [
    {
     "name": "stdout",
     "output_type": "stream",
     "text": [
      "/kaggle/input/heart-disease/processed.cleveland.data\n"
     ]
    }
   ],
   "source": [
    "# This Python 3 environment comes with many helpful analytics libraries installed\n",
    "# It is defined by the kaggle/python Docker image: https://github.com/kaggle/docker-python\n",
    "# For example, here's several helpful packages to load\n",
    "\n",
    "import numpy as np # linear algebra\n",
    "import pandas as pd # data processing, CSV file I/O (e.g. pd.read_csv)\n",
    "\n",
    "# Input data files are available in the read-only \"../input/\" directory\n",
    "# For example, running this (by clicking run or pressing Shift+Enter) will list all files under the input directory\n",
    "\n",
    "import os\n",
    "for dirname, _, filenames in os.walk('/kaggle/input'):\n",
    "    for filename in filenames:\n",
    "        print(os.path.join(dirname, filename))\n",
    "\n",
    "# You can write up to 20GB to the current directory (/kaggle/working/) that gets preserved as output when you create a version using \"Save & Run All\" \n",
    "# You can also write temporary files to /kaggle/temp/, but they won't be saved outside of the current session"
   ]
  },
  {
   "cell_type": "markdown",
   "id": "51ee53f5",
   "metadata": {
    "papermill": {
     "duration": 0.038741,
     "end_time": "2024-06-17T00:00:03.241867",
     "exception": false,
     "start_time": "2024-06-17T00:00:03.203126",
     "status": "completed"
    },
    "tags": []
   },
   "source": [
    "**Patient Heart Disease Prediction**\n",
    "\n",
    "In this notebook, I will build a Support Vector Machine (SVM) using the Radial Basis Function (RBF) Kernel. The dataset comes from the UCI Machine Learning Repository to predict whether a patient has heart diseas or not. \n",
    "\n",
    "**Support Vector Machines**\n",
    "\n",
    "Support Vector Machines (SVM) are one the best machine learning models when getting the correct answer is a higher priority than understanding why you got the correct answer, and they work really well with relatively small datasets. SVMs are indeed powerful tools for classification and regression tasks where accuracy is paramount. They excel at finding the optimal decision boundary that maximizes the margin between classes, making them less prone to overfitting, especially with limited data. This ability to generalize well from small datasets is a significant advantage in situations where data collection is expensive or time-consuming.\n",
    "\n",
    "**Radial Based Function**\n",
    "\n",
    "In this notebook, as previously established, I'll be using a Support Vector Machine (SVM) with the Radial Basis Function (RBF) kernel, also known as the Gaussian kernal, to predict heart disease in patients. The RBF kernel is a popular choice for SVMs because it's incredibly versatile. It can learn complex, non-linear patterns in the data, which is crucial for medical diagnoses where the relationship between risk factors and disease isn't always straightforward\n",
    "\n",
    "The RBF kernel is defined as the following:\n",
    "\n",
    "K(x, y) = exp(-gamma * ||x - y||^2)\n",
    "\n",
    "where:\n",
    "\n",
    "x and y are two data points (in this case, two patients' feature vectors)\n",
    "||x - y|| is the Euclidean distance between these data points\n",
    "gamma (γ) is a hyperparameter controlling the kernel's width or influence\n",
    "\n",
    "Think of the RBF kernel as a similarity measure, where a  small distance translates to high similarity, and a large distance translates to low similarity. It looks at how close data points are to each other in a high-dimensional space.  In this heart disease project, each patient is a data point, and their features determine their position in this space. The RBF kernel helps me figure out how similar different patients are based on these features.\n",
    "\n",
    "By using the RBF kernel, my SVM can create a decision boundary that isn't just a straight line. This allows it to capture the nuances in the data and potentially make more accurate predictions about who is likely to have heart disease"
   ]
  },
  {
   "cell_type": "code",
   "execution_count": 2,
   "id": "fb507efd",
   "metadata": {
    "execution": {
     "iopub.execute_input": "2024-06-17T00:00:03.307563Z",
     "iopub.status.busy": "2024-06-17T00:00:03.306569Z",
     "iopub.status.idle": "2024-06-17T00:00:06.471313Z",
     "shell.execute_reply": "2024-06-17T00:00:06.469264Z"
    },
    "papermill": {
     "duration": 3.202029,
     "end_time": "2024-06-17T00:00:06.476124",
     "exception": false,
     "start_time": "2024-06-17T00:00:03.274095",
     "status": "completed"
    },
    "tags": []
   },
   "outputs": [],
   "source": [
    "# Import necessary libraries and packages\n",
    "import pandas as pd\n",
    "import numpy as np\n",
    "\n",
    "from sklearn.model_selection import train_test_split, GridSearchCV\n",
    "from sklearn.preprocessing import scale\n",
    "from sklearn.svm import SVC\n",
    "from sklearn.decomposition import PCA\n",
    "from sklearn.metrics import confusion_matrix, ConfusionMatrixDisplay\n",
    "\n",
    "import matplotlib.pyplot as plt\n",
    "import matplotlib.colors as colors \n",
    "import seaborn as sns"
   ]
  },
  {
   "cell_type": "code",
   "execution_count": 3,
   "id": "0133e447",
   "metadata": {
    "execution": {
     "iopub.execute_input": "2024-06-17T00:00:06.519029Z",
     "iopub.status.busy": "2024-06-17T00:00:06.518464Z",
     "iopub.status.idle": "2024-06-17T00:00:06.542250Z",
     "shell.execute_reply": "2024-06-17T00:00:06.540712Z"
    },
    "papermill": {
     "duration": 0.048883,
     "end_time": "2024-06-17T00:00:06.545644",
     "exception": false,
     "start_time": "2024-06-17T00:00:06.496761",
     "status": "completed"
    },
    "tags": []
   },
   "outputs": [],
   "source": [
    "# Load in the dataset\n",
    "df= pd.read_csv('/kaggle/input/heart-disease/processed.cleveland.data', header= None)"
   ]
  },
  {
   "cell_type": "code",
   "execution_count": 4,
   "id": "17fdc8af",
   "metadata": {
    "execution": {
     "iopub.execute_input": "2024-06-17T00:00:06.587964Z",
     "iopub.status.busy": "2024-06-17T00:00:06.587422Z",
     "iopub.status.idle": "2024-06-17T00:00:06.651908Z",
     "shell.execute_reply": "2024-06-17T00:00:06.650184Z"
    },
    "papermill": {
     "duration": 0.091781,
     "end_time": "2024-06-17T00:00:06.655994",
     "exception": false,
     "start_time": "2024-06-17T00:00:06.564213",
     "status": "completed"
    },
    "tags": []
   },
   "outputs": [
    {
     "data": {
      "text/html": [
       "<div>\n",
       "<style scoped>\n",
       "    .dataframe tbody tr th:only-of-type {\n",
       "        vertical-align: middle;\n",
       "    }\n",
       "\n",
       "    .dataframe tbody tr th {\n",
       "        vertical-align: top;\n",
       "    }\n",
       "\n",
       "    .dataframe thead th {\n",
       "        text-align: right;\n",
       "    }\n",
       "</style>\n",
       "<table border=\"1\" class=\"dataframe\">\n",
       "  <thead>\n",
       "    <tr style=\"text-align: right;\">\n",
       "      <th></th>\n",
       "      <th>0</th>\n",
       "      <th>1</th>\n",
       "      <th>2</th>\n",
       "      <th>3</th>\n",
       "      <th>4</th>\n",
       "      <th>5</th>\n",
       "      <th>6</th>\n",
       "      <th>7</th>\n",
       "      <th>8</th>\n",
       "      <th>9</th>\n",
       "      <th>10</th>\n",
       "      <th>11</th>\n",
       "      <th>12</th>\n",
       "      <th>13</th>\n",
       "    </tr>\n",
       "  </thead>\n",
       "  <tbody>\n",
       "    <tr>\n",
       "      <th>0</th>\n",
       "      <td>63.0</td>\n",
       "      <td>1.0</td>\n",
       "      <td>1.0</td>\n",
       "      <td>145.0</td>\n",
       "      <td>233.0</td>\n",
       "      <td>1.0</td>\n",
       "      <td>2.0</td>\n",
       "      <td>150.0</td>\n",
       "      <td>0.0</td>\n",
       "      <td>2.3</td>\n",
       "      <td>3.0</td>\n",
       "      <td>0.0</td>\n",
       "      <td>6.0</td>\n",
       "      <td>0</td>\n",
       "    </tr>\n",
       "    <tr>\n",
       "      <th>1</th>\n",
       "      <td>67.0</td>\n",
       "      <td>1.0</td>\n",
       "      <td>4.0</td>\n",
       "      <td>160.0</td>\n",
       "      <td>286.0</td>\n",
       "      <td>0.0</td>\n",
       "      <td>2.0</td>\n",
       "      <td>108.0</td>\n",
       "      <td>1.0</td>\n",
       "      <td>1.5</td>\n",
       "      <td>2.0</td>\n",
       "      <td>3.0</td>\n",
       "      <td>3.0</td>\n",
       "      <td>2</td>\n",
       "    </tr>\n",
       "    <tr>\n",
       "      <th>2</th>\n",
       "      <td>67.0</td>\n",
       "      <td>1.0</td>\n",
       "      <td>4.0</td>\n",
       "      <td>120.0</td>\n",
       "      <td>229.0</td>\n",
       "      <td>0.0</td>\n",
       "      <td>2.0</td>\n",
       "      <td>129.0</td>\n",
       "      <td>1.0</td>\n",
       "      <td>2.6</td>\n",
       "      <td>2.0</td>\n",
       "      <td>2.0</td>\n",
       "      <td>7.0</td>\n",
       "      <td>1</td>\n",
       "    </tr>\n",
       "    <tr>\n",
       "      <th>3</th>\n",
       "      <td>37.0</td>\n",
       "      <td>1.0</td>\n",
       "      <td>3.0</td>\n",
       "      <td>130.0</td>\n",
       "      <td>250.0</td>\n",
       "      <td>0.0</td>\n",
       "      <td>0.0</td>\n",
       "      <td>187.0</td>\n",
       "      <td>0.0</td>\n",
       "      <td>3.5</td>\n",
       "      <td>3.0</td>\n",
       "      <td>0.0</td>\n",
       "      <td>3.0</td>\n",
       "      <td>0</td>\n",
       "    </tr>\n",
       "    <tr>\n",
       "      <th>4</th>\n",
       "      <td>41.0</td>\n",
       "      <td>0.0</td>\n",
       "      <td>2.0</td>\n",
       "      <td>130.0</td>\n",
       "      <td>204.0</td>\n",
       "      <td>0.0</td>\n",
       "      <td>2.0</td>\n",
       "      <td>172.0</td>\n",
       "      <td>0.0</td>\n",
       "      <td>1.4</td>\n",
       "      <td>1.0</td>\n",
       "      <td>0.0</td>\n",
       "      <td>3.0</td>\n",
       "      <td>0</td>\n",
       "    </tr>\n",
       "    <tr>\n",
       "      <th>5</th>\n",
       "      <td>56.0</td>\n",
       "      <td>1.0</td>\n",
       "      <td>2.0</td>\n",
       "      <td>120.0</td>\n",
       "      <td>236.0</td>\n",
       "      <td>0.0</td>\n",
       "      <td>0.0</td>\n",
       "      <td>178.0</td>\n",
       "      <td>0.0</td>\n",
       "      <td>0.8</td>\n",
       "      <td>1.0</td>\n",
       "      <td>0.0</td>\n",
       "      <td>3.0</td>\n",
       "      <td>0</td>\n",
       "    </tr>\n",
       "    <tr>\n",
       "      <th>6</th>\n",
       "      <td>62.0</td>\n",
       "      <td>0.0</td>\n",
       "      <td>4.0</td>\n",
       "      <td>140.0</td>\n",
       "      <td>268.0</td>\n",
       "      <td>0.0</td>\n",
       "      <td>2.0</td>\n",
       "      <td>160.0</td>\n",
       "      <td>0.0</td>\n",
       "      <td>3.6</td>\n",
       "      <td>3.0</td>\n",
       "      <td>2.0</td>\n",
       "      <td>3.0</td>\n",
       "      <td>3</td>\n",
       "    </tr>\n",
       "    <tr>\n",
       "      <th>7</th>\n",
       "      <td>57.0</td>\n",
       "      <td>0.0</td>\n",
       "      <td>4.0</td>\n",
       "      <td>120.0</td>\n",
       "      <td>354.0</td>\n",
       "      <td>0.0</td>\n",
       "      <td>0.0</td>\n",
       "      <td>163.0</td>\n",
       "      <td>1.0</td>\n",
       "      <td>0.6</td>\n",
       "      <td>1.0</td>\n",
       "      <td>0.0</td>\n",
       "      <td>3.0</td>\n",
       "      <td>0</td>\n",
       "    </tr>\n",
       "    <tr>\n",
       "      <th>8</th>\n",
       "      <td>63.0</td>\n",
       "      <td>1.0</td>\n",
       "      <td>4.0</td>\n",
       "      <td>130.0</td>\n",
       "      <td>254.0</td>\n",
       "      <td>0.0</td>\n",
       "      <td>2.0</td>\n",
       "      <td>147.0</td>\n",
       "      <td>0.0</td>\n",
       "      <td>1.4</td>\n",
       "      <td>2.0</td>\n",
       "      <td>1.0</td>\n",
       "      <td>7.0</td>\n",
       "      <td>2</td>\n",
       "    </tr>\n",
       "    <tr>\n",
       "      <th>9</th>\n",
       "      <td>53.0</td>\n",
       "      <td>1.0</td>\n",
       "      <td>4.0</td>\n",
       "      <td>140.0</td>\n",
       "      <td>203.0</td>\n",
       "      <td>1.0</td>\n",
       "      <td>2.0</td>\n",
       "      <td>155.0</td>\n",
       "      <td>1.0</td>\n",
       "      <td>3.1</td>\n",
       "      <td>3.0</td>\n",
       "      <td>0.0</td>\n",
       "      <td>7.0</td>\n",
       "      <td>1</td>\n",
       "    </tr>\n",
       "  </tbody>\n",
       "</table>\n",
       "</div>"
      ],
      "text/plain": [
       "     0    1    2      3      4    5    6      7    8    9    10   11   12  13\n",
       "0  63.0  1.0  1.0  145.0  233.0  1.0  2.0  150.0  0.0  2.3  3.0  0.0  6.0   0\n",
       "1  67.0  1.0  4.0  160.0  286.0  0.0  2.0  108.0  1.0  1.5  2.0  3.0  3.0   2\n",
       "2  67.0  1.0  4.0  120.0  229.0  0.0  2.0  129.0  1.0  2.6  2.0  2.0  7.0   1\n",
       "3  37.0  1.0  3.0  130.0  250.0  0.0  0.0  187.0  0.0  3.5  3.0  0.0  3.0   0\n",
       "4  41.0  0.0  2.0  130.0  204.0  0.0  2.0  172.0  0.0  1.4  1.0  0.0  3.0   0\n",
       "5  56.0  1.0  2.0  120.0  236.0  0.0  0.0  178.0  0.0  0.8  1.0  0.0  3.0   0\n",
       "6  62.0  0.0  4.0  140.0  268.0  0.0  2.0  160.0  0.0  3.6  3.0  2.0  3.0   3\n",
       "7  57.0  0.0  4.0  120.0  354.0  0.0  0.0  163.0  1.0  0.6  1.0  0.0  3.0   0\n",
       "8  63.0  1.0  4.0  130.0  254.0  0.0  2.0  147.0  0.0  1.4  2.0  1.0  7.0   2\n",
       "9  53.0  1.0  4.0  140.0  203.0  1.0  2.0  155.0  1.0  3.1  3.0  0.0  7.0   1"
      ]
     },
     "execution_count": 4,
     "metadata": {},
     "output_type": "execute_result"
    }
   ],
   "source": [
    "# View the data\n",
    "df.head(10)"
   ]
  },
  {
   "cell_type": "markdown",
   "id": "05d28cc0",
   "metadata": {
    "papermill": {
     "duration": 0.021446,
     "end_time": "2024-06-17T00:00:06.698708",
     "exception": false,
     "start_time": "2024-06-17T00:00:06.677262",
     "status": "completed"
    },
    "tags": []
   },
   "source": [
    "**Organizing the Columns**\n",
    "\n",
    "Instead of seeing columns names, right now there are just column numbers. Having columns names would certainly make it easier to format the data. So I will proceed to replace the columns numbers with the following column names:\n",
    "\n",
    "**Data Dictionary**:\n",
    "\n",
    "1. **age** - Age\n",
    "2. **sex** - Sex\n",
    "3. **cp** - Chest pain\n",
    "4. **restbp** - Resting blood pressure (in mm Hg)\n",
    "5. **chol** - Serum cholesterol (in mg/dl)\n",
    "6. **fbs** - Fasting blood sugar\n",
    "7. **restecg** - Resting electrocardiographic results\n",
    "8. **thalach** - Maximum heart rate achieved\n",
    "9. **exang** - Exercise-induced angina\n",
    "10. **oldpeak** - ST depression induced by exercise relative to rest\n",
    "11. **slope** - The slope of the peak exercise ST segment\n",
    "12. **ca** - Number of major vessels (0-3) colored by fluoroscopy\n",
    "13. **thal** - Thalium heart scan\n",
    "14. **hd** - Diagnosis of heart disease (target feature)\n",
    "\n"
   ]
  },
  {
   "cell_type": "code",
   "execution_count": 5,
   "id": "ace4f5fb",
   "metadata": {
    "execution": {
     "iopub.execute_input": "2024-06-17T00:00:06.744288Z",
     "iopub.status.busy": "2024-06-17T00:00:06.743775Z",
     "iopub.status.idle": "2024-06-17T00:00:06.783603Z",
     "shell.execute_reply": "2024-06-17T00:00:06.781971Z"
    },
    "papermill": {
     "duration": 0.066194,
     "end_time": "2024-06-17T00:00:06.786901",
     "exception": false,
     "start_time": "2024-06-17T00:00:06.720707",
     "status": "completed"
    },
    "tags": []
   },
   "outputs": [
    {
     "data": {
      "text/html": [
       "<div>\n",
       "<style scoped>\n",
       "    .dataframe tbody tr th:only-of-type {\n",
       "        vertical-align: middle;\n",
       "    }\n",
       "\n",
       "    .dataframe tbody tr th {\n",
       "        vertical-align: top;\n",
       "    }\n",
       "\n",
       "    .dataframe thead th {\n",
       "        text-align: right;\n",
       "    }\n",
       "</style>\n",
       "<table border=\"1\" class=\"dataframe\">\n",
       "  <thead>\n",
       "    <tr style=\"text-align: right;\">\n",
       "      <th></th>\n",
       "      <th>age</th>\n",
       "      <th>sex</th>\n",
       "      <th>cp</th>\n",
       "      <th>restbp</th>\n",
       "      <th>chol</th>\n",
       "      <th>fbs</th>\n",
       "      <th>restecg</th>\n",
       "      <th>thalach</th>\n",
       "      <th>exang</th>\n",
       "      <th>oldpeak</th>\n",
       "      <th>slope</th>\n",
       "      <th>ca</th>\n",
       "      <th>thal</th>\n",
       "      <th>hd</th>\n",
       "    </tr>\n",
       "  </thead>\n",
       "  <tbody>\n",
       "    <tr>\n",
       "      <th>0</th>\n",
       "      <td>63.0</td>\n",
       "      <td>1.0</td>\n",
       "      <td>1.0</td>\n",
       "      <td>145.0</td>\n",
       "      <td>233.0</td>\n",
       "      <td>1.0</td>\n",
       "      <td>2.0</td>\n",
       "      <td>150.0</td>\n",
       "      <td>0.0</td>\n",
       "      <td>2.3</td>\n",
       "      <td>3.0</td>\n",
       "      <td>0.0</td>\n",
       "      <td>6.0</td>\n",
       "      <td>0</td>\n",
       "    </tr>\n",
       "    <tr>\n",
       "      <th>1</th>\n",
       "      <td>67.0</td>\n",
       "      <td>1.0</td>\n",
       "      <td>4.0</td>\n",
       "      <td>160.0</td>\n",
       "      <td>286.0</td>\n",
       "      <td>0.0</td>\n",
       "      <td>2.0</td>\n",
       "      <td>108.0</td>\n",
       "      <td>1.0</td>\n",
       "      <td>1.5</td>\n",
       "      <td>2.0</td>\n",
       "      <td>3.0</td>\n",
       "      <td>3.0</td>\n",
       "      <td>2</td>\n",
       "    </tr>\n",
       "    <tr>\n",
       "      <th>2</th>\n",
       "      <td>67.0</td>\n",
       "      <td>1.0</td>\n",
       "      <td>4.0</td>\n",
       "      <td>120.0</td>\n",
       "      <td>229.0</td>\n",
       "      <td>0.0</td>\n",
       "      <td>2.0</td>\n",
       "      <td>129.0</td>\n",
       "      <td>1.0</td>\n",
       "      <td>2.6</td>\n",
       "      <td>2.0</td>\n",
       "      <td>2.0</td>\n",
       "      <td>7.0</td>\n",
       "      <td>1</td>\n",
       "    </tr>\n",
       "    <tr>\n",
       "      <th>3</th>\n",
       "      <td>37.0</td>\n",
       "      <td>1.0</td>\n",
       "      <td>3.0</td>\n",
       "      <td>130.0</td>\n",
       "      <td>250.0</td>\n",
       "      <td>0.0</td>\n",
       "      <td>0.0</td>\n",
       "      <td>187.0</td>\n",
       "      <td>0.0</td>\n",
       "      <td>3.5</td>\n",
       "      <td>3.0</td>\n",
       "      <td>0.0</td>\n",
       "      <td>3.0</td>\n",
       "      <td>0</td>\n",
       "    </tr>\n",
       "    <tr>\n",
       "      <th>4</th>\n",
       "      <td>41.0</td>\n",
       "      <td>0.0</td>\n",
       "      <td>2.0</td>\n",
       "      <td>130.0</td>\n",
       "      <td>204.0</td>\n",
       "      <td>0.0</td>\n",
       "      <td>2.0</td>\n",
       "      <td>172.0</td>\n",
       "      <td>0.0</td>\n",
       "      <td>1.4</td>\n",
       "      <td>1.0</td>\n",
       "      <td>0.0</td>\n",
       "      <td>3.0</td>\n",
       "      <td>0</td>\n",
       "    </tr>\n",
       "    <tr>\n",
       "      <th>5</th>\n",
       "      <td>56.0</td>\n",
       "      <td>1.0</td>\n",
       "      <td>2.0</td>\n",
       "      <td>120.0</td>\n",
       "      <td>236.0</td>\n",
       "      <td>0.0</td>\n",
       "      <td>0.0</td>\n",
       "      <td>178.0</td>\n",
       "      <td>0.0</td>\n",
       "      <td>0.8</td>\n",
       "      <td>1.0</td>\n",
       "      <td>0.0</td>\n",
       "      <td>3.0</td>\n",
       "      <td>0</td>\n",
       "    </tr>\n",
       "    <tr>\n",
       "      <th>6</th>\n",
       "      <td>62.0</td>\n",
       "      <td>0.0</td>\n",
       "      <td>4.0</td>\n",
       "      <td>140.0</td>\n",
       "      <td>268.0</td>\n",
       "      <td>0.0</td>\n",
       "      <td>2.0</td>\n",
       "      <td>160.0</td>\n",
       "      <td>0.0</td>\n",
       "      <td>3.6</td>\n",
       "      <td>3.0</td>\n",
       "      <td>2.0</td>\n",
       "      <td>3.0</td>\n",
       "      <td>3</td>\n",
       "    </tr>\n",
       "    <tr>\n",
       "      <th>7</th>\n",
       "      <td>57.0</td>\n",
       "      <td>0.0</td>\n",
       "      <td>4.0</td>\n",
       "      <td>120.0</td>\n",
       "      <td>354.0</td>\n",
       "      <td>0.0</td>\n",
       "      <td>0.0</td>\n",
       "      <td>163.0</td>\n",
       "      <td>1.0</td>\n",
       "      <td>0.6</td>\n",
       "      <td>1.0</td>\n",
       "      <td>0.0</td>\n",
       "      <td>3.0</td>\n",
       "      <td>0</td>\n",
       "    </tr>\n",
       "    <tr>\n",
       "      <th>8</th>\n",
       "      <td>63.0</td>\n",
       "      <td>1.0</td>\n",
       "      <td>4.0</td>\n",
       "      <td>130.0</td>\n",
       "      <td>254.0</td>\n",
       "      <td>0.0</td>\n",
       "      <td>2.0</td>\n",
       "      <td>147.0</td>\n",
       "      <td>0.0</td>\n",
       "      <td>1.4</td>\n",
       "      <td>2.0</td>\n",
       "      <td>1.0</td>\n",
       "      <td>7.0</td>\n",
       "      <td>2</td>\n",
       "    </tr>\n",
       "    <tr>\n",
       "      <th>9</th>\n",
       "      <td>53.0</td>\n",
       "      <td>1.0</td>\n",
       "      <td>4.0</td>\n",
       "      <td>140.0</td>\n",
       "      <td>203.0</td>\n",
       "      <td>1.0</td>\n",
       "      <td>2.0</td>\n",
       "      <td>155.0</td>\n",
       "      <td>1.0</td>\n",
       "      <td>3.1</td>\n",
       "      <td>3.0</td>\n",
       "      <td>0.0</td>\n",
       "      <td>7.0</td>\n",
       "      <td>1</td>\n",
       "    </tr>\n",
       "  </tbody>\n",
       "</table>\n",
       "</div>"
      ],
      "text/plain": [
       "    age  sex   cp  restbp   chol  fbs  restecg  thalach  exang  oldpeak  \\\n",
       "0  63.0  1.0  1.0   145.0  233.0  1.0      2.0    150.0    0.0      2.3   \n",
       "1  67.0  1.0  4.0   160.0  286.0  0.0      2.0    108.0    1.0      1.5   \n",
       "2  67.0  1.0  4.0   120.0  229.0  0.0      2.0    129.0    1.0      2.6   \n",
       "3  37.0  1.0  3.0   130.0  250.0  0.0      0.0    187.0    0.0      3.5   \n",
       "4  41.0  0.0  2.0   130.0  204.0  0.0      2.0    172.0    0.0      1.4   \n",
       "5  56.0  1.0  2.0   120.0  236.0  0.0      0.0    178.0    0.0      0.8   \n",
       "6  62.0  0.0  4.0   140.0  268.0  0.0      2.0    160.0    0.0      3.6   \n",
       "7  57.0  0.0  4.0   120.0  354.0  0.0      0.0    163.0    1.0      0.6   \n",
       "8  63.0  1.0  4.0   130.0  254.0  0.0      2.0    147.0    0.0      1.4   \n",
       "9  53.0  1.0  4.0   140.0  203.0  1.0      2.0    155.0    1.0      3.1   \n",
       "\n",
       "   slope   ca thal  hd  \n",
       "0    3.0  0.0  6.0   0  \n",
       "1    2.0  3.0  3.0   2  \n",
       "2    2.0  2.0  7.0   1  \n",
       "3    3.0  0.0  3.0   0  \n",
       "4    1.0  0.0  3.0   0  \n",
       "5    1.0  0.0  3.0   0  \n",
       "6    3.0  2.0  3.0   3  \n",
       "7    1.0  0.0  3.0   0  \n",
       "8    2.0  1.0  7.0   2  \n",
       "9    3.0  0.0  7.0   1  "
      ]
     },
     "execution_count": 5,
     "metadata": {},
     "output_type": "execute_result"
    }
   ],
   "source": [
    "# Replace column numbers with column names\n",
    "df.columns = ['age', 'sex', 'cp', 'restbp', 'chol', 'fbs', 'restecg', \n",
    "              'thalach', 'exang', 'oldpeak', 'slope', 'ca', 'thal', 'hd']\n",
    "df.head(10)"
   ]
  },
  {
   "cell_type": "code",
   "execution_count": 6,
   "id": "9e660f03",
   "metadata": {
    "execution": {
     "iopub.execute_input": "2024-06-17T00:00:06.831359Z",
     "iopub.status.busy": "2024-06-17T00:00:06.830137Z",
     "iopub.status.idle": "2024-06-17T00:00:06.839952Z",
     "shell.execute_reply": "2024-06-17T00:00:06.838547Z"
    },
    "papermill": {
     "duration": 0.035891,
     "end_time": "2024-06-17T00:00:06.842910",
     "exception": false,
     "start_time": "2024-06-17T00:00:06.807019",
     "status": "completed"
    },
    "tags": []
   },
   "outputs": [
    {
     "data": {
      "text/plain": [
       "(303, 14)"
      ]
     },
     "execution_count": 6,
     "metadata": {},
     "output_type": "execute_result"
    }
   ],
   "source": [
    "# Explore the data\n",
    "df.shape"
   ]
  },
  {
   "cell_type": "code",
   "execution_count": 7,
   "id": "54004a52",
   "metadata": {
    "execution": {
     "iopub.execute_input": "2024-06-17T00:00:06.885185Z",
     "iopub.status.busy": "2024-06-17T00:00:06.883953Z",
     "iopub.status.idle": "2024-06-17T00:00:06.894765Z",
     "shell.execute_reply": "2024-06-17T00:00:06.893467Z"
    },
    "papermill": {
     "duration": 0.034769,
     "end_time": "2024-06-17T00:00:06.897274",
     "exception": false,
     "start_time": "2024-06-17T00:00:06.862505",
     "status": "completed"
    },
    "tags": []
   },
   "outputs": [
    {
     "data": {
      "text/plain": [
       "age        float64\n",
       "sex        float64\n",
       "cp         float64\n",
       "restbp     float64\n",
       "chol       float64\n",
       "fbs        float64\n",
       "restecg    float64\n",
       "thalach    float64\n",
       "exang      float64\n",
       "oldpeak    float64\n",
       "slope      float64\n",
       "ca          object\n",
       "thal        object\n",
       "hd           int64\n",
       "dtype: object"
      ]
     },
     "execution_count": 7,
     "metadata": {},
     "output_type": "execute_result"
    }
   ],
   "source": [
    "# Check data types\n",
    "df.dtypes"
   ]
  },
  {
   "cell_type": "markdown",
   "id": "5c3f5777",
   "metadata": {
    "papermill": {
     "duration": 0.019101,
     "end_time": "2024-06-17T00:00:06.934460",
     "exception": false,
     "start_time": "2024-06-17T00:00:06.915359",
     "status": "completed"
    },
    "tags": []
   },
   "source": [
    "**Data Types**\n",
    "\n",
    "Upon examining the data types, I notice that most columns are of type float64. However, the columns 'ca' and 'thal' are of type object, while the column 'hd' is of type int64.\n",
    "\n",
    "The object data types for 'ca' and 'thal' indicate that these columns might contain a mix of different data types, such as numbers and letters. Ideally, 'ca' and 'thal' should contain categorical values only. To understand this further, I will investigate by printing the unique values in these columns, starting with 'ca'"
   ]
  },
  {
   "cell_type": "code",
   "execution_count": 8,
   "id": "c96aa235",
   "metadata": {
    "execution": {
     "iopub.execute_input": "2024-06-17T00:00:06.975806Z",
     "iopub.status.busy": "2024-06-17T00:00:06.975220Z",
     "iopub.status.idle": "2024-06-17T00:00:06.987845Z",
     "shell.execute_reply": "2024-06-17T00:00:06.986391Z"
    },
    "papermill": {
     "duration": 0.037908,
     "end_time": "2024-06-17T00:00:06.991468",
     "exception": false,
     "start_time": "2024-06-17T00:00:06.953560",
     "status": "completed"
    },
    "tags": []
   },
   "outputs": [
    {
     "data": {
      "text/plain": [
       "array(['0.0', '3.0', '2.0', '1.0', '?'], dtype=object)"
      ]
     },
     "execution_count": 8,
     "metadata": {},
     "output_type": "execute_result"
    }
   ],
   "source": [
    "# Investigate 'ca' column\n",
    "df['ca'].unique()"
   ]
  },
  {
   "cell_type": "markdown",
   "id": "eaddb8fc",
   "metadata": {
    "papermill": {
     "duration": 0.020185,
     "end_time": "2024-06-17T00:00:07.032566",
     "exception": false,
     "start_time": "2024-06-17T00:00:07.012381",
     "status": "completed"
    },
    "tags": []
   },
   "source": [
    "**'ca' Column**\n",
    "\n",
    "Since the column has the object data type, it implies that the values are stored as strings instead of numeric types. This is because the '?' value cannot be interpreted as a number, forcing the entire column to be treated as an object"
   ]
  },
  {
   "cell_type": "code",
   "execution_count": 9,
   "id": "3c2900af",
   "metadata": {
    "execution": {
     "iopub.execute_input": "2024-06-17T00:00:07.075548Z",
     "iopub.status.busy": "2024-06-17T00:00:07.075023Z",
     "iopub.status.idle": "2024-06-17T00:00:07.084346Z",
     "shell.execute_reply": "2024-06-17T00:00:07.083094Z"
    },
    "papermill": {
     "duration": 0.033979,
     "end_time": "2024-06-17T00:00:07.086975",
     "exception": false,
     "start_time": "2024-06-17T00:00:07.052996",
     "status": "completed"
    },
    "tags": []
   },
   "outputs": [
    {
     "data": {
      "text/plain": [
       "array(['6.0', '3.0', '7.0', '?'], dtype=object)"
      ]
     },
     "execution_count": 9,
     "metadata": {},
     "output_type": "execute_result"
    }
   ],
   "source": [
    "# Investigate 'thal' columns\n",
    "df['thal'].unique()"
   ]
  },
  {
   "cell_type": "markdown",
   "id": "e63789c0",
   "metadata": {
    "papermill": {
     "duration": 0.018523,
     "end_time": "2024-06-17T00:00:07.128300",
     "exception": false,
     "start_time": "2024-06-17T00:00:07.109777",
     "status": "completed"
    },
    "tags": []
   },
   "source": [
    "**'thal' Column**\n",
    "\n",
    "Same idea here as with the 'ca' column.\n",
    "\n",
    "**Missing Values**\n",
    "\n",
    "Since scikit-learn's Support Vector Machines do not support datasets with missing values, it is important that these missing values are handled. "
   ]
  },
  {
   "cell_type": "code",
   "execution_count": 10,
   "id": "db140065",
   "metadata": {
    "execution": {
     "iopub.execute_input": "2024-06-17T00:00:07.171933Z",
     "iopub.status.busy": "2024-06-17T00:00:07.171327Z",
     "iopub.status.idle": "2024-06-17T00:00:07.191692Z",
     "shell.execute_reply": "2024-06-17T00:00:07.190293Z"
    },
    "papermill": {
     "duration": 0.047159,
     "end_time": "2024-06-17T00:00:07.194965",
     "exception": false,
     "start_time": "2024-06-17T00:00:07.147806",
     "status": "completed"
    },
    "tags": []
   },
   "outputs": [
    {
     "data": {
      "text/plain": [
       "6"
      ]
     },
     "execution_count": 10,
     "metadata": {},
     "output_type": "execute_result"
    }
   ],
   "source": [
    "# Identify missing values in 'ca' and 'thal' columns\n",
    "len(df.loc[(df['ca'] == '?') | (df['thal'] == '?')])"
   ]
  },
  {
   "cell_type": "markdown",
   "id": "32a3276e",
   "metadata": {
    "papermill": {
     "duration": 0.021465,
     "end_time": "2024-06-17T00:00:07.236998",
     "exception": false,
     "start_time": "2024-06-17T00:00:07.215533",
     "status": "completed"
    },
    "tags": []
   },
   "source": [
    "- This means that there are only 6 rows within the 'ca' or 'thal' columns that contain '?'. In other words, there are 6 instances where these columns have missing or invalid data represented by '?'. Now, I'm going to take a look at these rows."
   ]
  },
  {
   "cell_type": "code",
   "execution_count": 11,
   "id": "804eee3c",
   "metadata": {
    "execution": {
     "iopub.execute_input": "2024-06-17T00:00:07.282352Z",
     "iopub.status.busy": "2024-06-17T00:00:07.281812Z",
     "iopub.status.idle": "2024-06-17T00:00:07.314419Z",
     "shell.execute_reply": "2024-06-17T00:00:07.313074Z"
    },
    "papermill": {
     "duration": 0.057462,
     "end_time": "2024-06-17T00:00:07.317434",
     "exception": false,
     "start_time": "2024-06-17T00:00:07.259972",
     "status": "completed"
    },
    "tags": []
   },
   "outputs": [
    {
     "data": {
      "text/html": [
       "<div>\n",
       "<style scoped>\n",
       "    .dataframe tbody tr th:only-of-type {\n",
       "        vertical-align: middle;\n",
       "    }\n",
       "\n",
       "    .dataframe tbody tr th {\n",
       "        vertical-align: top;\n",
       "    }\n",
       "\n",
       "    .dataframe thead th {\n",
       "        text-align: right;\n",
       "    }\n",
       "</style>\n",
       "<table border=\"1\" class=\"dataframe\">\n",
       "  <thead>\n",
       "    <tr style=\"text-align: right;\">\n",
       "      <th></th>\n",
       "      <th>age</th>\n",
       "      <th>sex</th>\n",
       "      <th>cp</th>\n",
       "      <th>restbp</th>\n",
       "      <th>chol</th>\n",
       "      <th>fbs</th>\n",
       "      <th>restecg</th>\n",
       "      <th>thalach</th>\n",
       "      <th>exang</th>\n",
       "      <th>oldpeak</th>\n",
       "      <th>slope</th>\n",
       "      <th>ca</th>\n",
       "      <th>thal</th>\n",
       "      <th>hd</th>\n",
       "    </tr>\n",
       "  </thead>\n",
       "  <tbody>\n",
       "    <tr>\n",
       "      <th>87</th>\n",
       "      <td>53.0</td>\n",
       "      <td>0.0</td>\n",
       "      <td>3.0</td>\n",
       "      <td>128.0</td>\n",
       "      <td>216.0</td>\n",
       "      <td>0.0</td>\n",
       "      <td>2.0</td>\n",
       "      <td>115.0</td>\n",
       "      <td>0.0</td>\n",
       "      <td>0.0</td>\n",
       "      <td>1.0</td>\n",
       "      <td>0.0</td>\n",
       "      <td>?</td>\n",
       "      <td>0</td>\n",
       "    </tr>\n",
       "    <tr>\n",
       "      <th>166</th>\n",
       "      <td>52.0</td>\n",
       "      <td>1.0</td>\n",
       "      <td>3.0</td>\n",
       "      <td>138.0</td>\n",
       "      <td>223.0</td>\n",
       "      <td>0.0</td>\n",
       "      <td>0.0</td>\n",
       "      <td>169.0</td>\n",
       "      <td>0.0</td>\n",
       "      <td>0.0</td>\n",
       "      <td>1.0</td>\n",
       "      <td>?</td>\n",
       "      <td>3.0</td>\n",
       "      <td>0</td>\n",
       "    </tr>\n",
       "    <tr>\n",
       "      <th>192</th>\n",
       "      <td>43.0</td>\n",
       "      <td>1.0</td>\n",
       "      <td>4.0</td>\n",
       "      <td>132.0</td>\n",
       "      <td>247.0</td>\n",
       "      <td>1.0</td>\n",
       "      <td>2.0</td>\n",
       "      <td>143.0</td>\n",
       "      <td>1.0</td>\n",
       "      <td>0.1</td>\n",
       "      <td>2.0</td>\n",
       "      <td>?</td>\n",
       "      <td>7.0</td>\n",
       "      <td>1</td>\n",
       "    </tr>\n",
       "    <tr>\n",
       "      <th>266</th>\n",
       "      <td>52.0</td>\n",
       "      <td>1.0</td>\n",
       "      <td>4.0</td>\n",
       "      <td>128.0</td>\n",
       "      <td>204.0</td>\n",
       "      <td>1.0</td>\n",
       "      <td>0.0</td>\n",
       "      <td>156.0</td>\n",
       "      <td>1.0</td>\n",
       "      <td>1.0</td>\n",
       "      <td>2.0</td>\n",
       "      <td>0.0</td>\n",
       "      <td>?</td>\n",
       "      <td>2</td>\n",
       "    </tr>\n",
       "    <tr>\n",
       "      <th>287</th>\n",
       "      <td>58.0</td>\n",
       "      <td>1.0</td>\n",
       "      <td>2.0</td>\n",
       "      <td>125.0</td>\n",
       "      <td>220.0</td>\n",
       "      <td>0.0</td>\n",
       "      <td>0.0</td>\n",
       "      <td>144.0</td>\n",
       "      <td>0.0</td>\n",
       "      <td>0.4</td>\n",
       "      <td>2.0</td>\n",
       "      <td>?</td>\n",
       "      <td>7.0</td>\n",
       "      <td>0</td>\n",
       "    </tr>\n",
       "    <tr>\n",
       "      <th>302</th>\n",
       "      <td>38.0</td>\n",
       "      <td>1.0</td>\n",
       "      <td>3.0</td>\n",
       "      <td>138.0</td>\n",
       "      <td>175.0</td>\n",
       "      <td>0.0</td>\n",
       "      <td>0.0</td>\n",
       "      <td>173.0</td>\n",
       "      <td>0.0</td>\n",
       "      <td>0.0</td>\n",
       "      <td>1.0</td>\n",
       "      <td>?</td>\n",
       "      <td>3.0</td>\n",
       "      <td>0</td>\n",
       "    </tr>\n",
       "  </tbody>\n",
       "</table>\n",
       "</div>"
      ],
      "text/plain": [
       "      age  sex   cp  restbp   chol  fbs  restecg  thalach  exang  oldpeak  \\\n",
       "87   53.0  0.0  3.0   128.0  216.0  0.0      2.0    115.0    0.0      0.0   \n",
       "166  52.0  1.0  3.0   138.0  223.0  0.0      0.0    169.0    0.0      0.0   \n",
       "192  43.0  1.0  4.0   132.0  247.0  1.0      2.0    143.0    1.0      0.1   \n",
       "266  52.0  1.0  4.0   128.0  204.0  1.0      0.0    156.0    1.0      1.0   \n",
       "287  58.0  1.0  2.0   125.0  220.0  0.0      0.0    144.0    0.0      0.4   \n",
       "302  38.0  1.0  3.0   138.0  175.0  0.0      0.0    173.0    0.0      0.0   \n",
       "\n",
       "     slope   ca thal  hd  \n",
       "87     1.0  0.0    ?   0  \n",
       "166    1.0    ?  3.0   0  \n",
       "192    2.0    ?  7.0   1  \n",
       "266    2.0  0.0    ?   2  \n",
       "287    2.0    ?  7.0   0  \n",
       "302    1.0    ?  3.0   0  "
      ]
     },
     "execution_count": 11,
     "metadata": {},
     "output_type": "execute_result"
    }
   ],
   "source": [
    "# Viewing the missing values in 'ca' and 'thal' columns\n",
    "df.loc[(df['ca'] == '?') | (df['thal'] == '?')]"
   ]
  },
  {
   "cell_type": "markdown",
   "id": "d9bc0283",
   "metadata": {
    "papermill": {
     "duration": 0.020433,
     "end_time": "2024-06-17T00:00:07.357027",
     "exception": false,
     "start_time": "2024-06-17T00:00:07.336594",
     "status": "completed"
    },
    "tags": []
   },
   "source": [
    "**Handling Missing Values**\n",
    "\n",
    "So, 6 out of the 303 rows, or approximately 2%, contain missing values. Since 297 rows provides sufficient data for building the support vector machine, I will proceed by removing the rows with missing values rather than attempt to impute them."
   ]
  },
  {
   "cell_type": "code",
   "execution_count": 12,
   "id": "00e4d9f9",
   "metadata": {
    "execution": {
     "iopub.execute_input": "2024-06-17T00:00:07.400455Z",
     "iopub.status.busy": "2024-06-17T00:00:07.399757Z",
     "iopub.status.idle": "2024-06-17T00:00:07.412162Z",
     "shell.execute_reply": "2024-06-17T00:00:07.410090Z"
    },
    "papermill": {
     "duration": 0.037562,
     "end_time": "2024-06-17T00:00:07.415758",
     "exception": false,
     "start_time": "2024-06-17T00:00:07.378196",
     "status": "completed"
    },
    "tags": []
   },
   "outputs": [
    {
     "data": {
      "text/plain": [
       "(297, 14)"
      ]
     },
     "execution_count": 12,
     "metadata": {},
     "output_type": "execute_result"
    }
   ],
   "source": [
    "# Creating a new df without missing values and verify changes\n",
    "df_new= df.loc[(df['ca'] != '?') & (df['thal'] != '?')]\n",
    "df_new.shape"
   ]
  },
  {
   "cell_type": "code",
   "execution_count": 13,
   "id": "9a3e6885",
   "metadata": {
    "execution": {
     "iopub.execute_input": "2024-06-17T00:00:07.461063Z",
     "iopub.status.busy": "2024-06-17T00:00:07.460370Z",
     "iopub.status.idle": "2024-06-17T00:00:07.471235Z",
     "shell.execute_reply": "2024-06-17T00:00:07.469520Z"
    },
    "papermill": {
     "duration": 0.037574,
     "end_time": "2024-06-17T00:00:07.475358",
     "exception": false,
     "start_time": "2024-06-17T00:00:07.437784",
     "status": "completed"
    },
    "tags": []
   },
   "outputs": [
    {
     "data": {
      "text/plain": [
       "array(['0.0', '3.0', '2.0', '1.0'], dtype=object)"
      ]
     },
     "execution_count": 13,
     "metadata": {},
     "output_type": "execute_result"
    }
   ],
   "source": [
    "# Verifying 'ca' column\n",
    "df_new['ca'].unique()"
   ]
  },
  {
   "cell_type": "code",
   "execution_count": 14,
   "id": "d1ea9ffe",
   "metadata": {
    "execution": {
     "iopub.execute_input": "2024-06-17T00:00:07.519760Z",
     "iopub.status.busy": "2024-06-17T00:00:07.519203Z",
     "iopub.status.idle": "2024-06-17T00:00:07.528842Z",
     "shell.execute_reply": "2024-06-17T00:00:07.527406Z"
    },
    "papermill": {
     "duration": 0.0344,
     "end_time": "2024-06-17T00:00:07.531668",
     "exception": false,
     "start_time": "2024-06-17T00:00:07.497268",
     "status": "completed"
    },
    "tags": []
   },
   "outputs": [
    {
     "data": {
      "text/plain": [
       "array(['6.0', '3.0', '7.0'], dtype=object)"
      ]
     },
     "execution_count": 14,
     "metadata": {},
     "output_type": "execute_result"
    }
   ],
   "source": [
    "# Verifying 'thal' column\n",
    "df_new['thal'].unique()"
   ]
  },
  {
   "cell_type": "markdown",
   "id": "66b565ad",
   "metadata": {
    "papermill": {
     "duration": 0.020745,
     "end_time": "2024-06-17T00:00:07.574517",
     "exception": false,
     "start_time": "2024-06-17T00:00:07.553772",
     "status": "completed"
    },
    "tags": []
   },
   "source": [
    "- Great! I have now confirmed that the new dataframe, df_new, does not contain any missing values. Note that 'ca' and 'thal' still have the object data type, but that's fine for now. Now, I'm ready to format the data for building the Support Vector Machine."
   ]
  },
  {
   "cell_type": "code",
   "execution_count": 15,
   "id": "7fd7ef2d",
   "metadata": {
    "execution": {
     "iopub.execute_input": "2024-06-17T00:00:07.621355Z",
     "iopub.status.busy": "2024-06-17T00:00:07.620098Z",
     "iopub.status.idle": "2024-06-17T00:00:07.634667Z",
     "shell.execute_reply": "2024-06-17T00:00:07.633251Z"
    },
    "papermill": {
     "duration": 0.042114,
     "end_time": "2024-06-17T00:00:07.638650",
     "exception": false,
     "start_time": "2024-06-17T00:00:07.596536",
     "status": "completed"
    },
    "tags": []
   },
   "outputs": [
    {
     "name": "stdout",
     "output_type": "stream",
     "text": [
      "X.shape: (297, 13), y.shape: (297,)\n"
     ]
    }
   ],
   "source": [
    "# Split the data into input features and the target feature\n",
    "X= df_new.drop(columns= ['hd'])\n",
    "y= df_new['hd']\n",
    "\n",
    "# Ensure that X and y have the same shape\n",
    "print(f'X.shape: {X.shape}, y.shape: {y.shape}')\n",
    "assert len(X) == len(y), 'The lengths of X and y are inconsistent!' "
   ]
  },
  {
   "cell_type": "markdown",
   "id": "f720a797",
   "metadata": {
    "papermill": {
     "duration": 0.020769,
     "end_time": "2024-06-17T00:00:07.786009",
     "exception": false,
     "start_time": "2024-06-17T00:00:07.765240",
     "status": "completed"
    },
    "tags": []
   },
   "source": [
    "**One-Hot Encoding**\n",
    "\n",
    "Now that I have split the dataframe into two parts, X and y, where X contains the features I will use to make predictions, and y contains the target feature with known classifications, it's important to examine the variables in X more closely. The following list describes each variable, its type (float or categorical), and its possible values:\n",
    "\n",
    "**age**: Float\n",
    "\n",
    "**sex**: Categorical\n",
    "\n",
    "0 = female,\n",
    "1 = male\n",
    "\n",
    "**cp (chest pain)**: Categorical\n",
    "\n",
    "1 = typical angina,\n",
    "2 = atypical angina,\n",
    "3 = non-anginal pain,\n",
    "4 = asymptomatic\n",
    "\n",
    "**restbp (resting blood pressure in mm Hg)**: Float\n",
    "\n",
    "**chol (serum cholesterol in mg/dl)**: Float\n",
    "\n",
    "**fbs (fasting blood sugar)**: Categorical\n",
    "\n",
    "0 = >= 120 mg/dl,\n",
    "1 = < 120 mg/dl\n",
    "\n",
    "**restecg (resting electrocardiographic results)**: Categorical\n",
    "\n",
    "1 = normal,\n",
    "2 = having ST-T wave abnormality,\n",
    "3 = showing probable or definite left ventricular hypertrophy\n",
    "\n",
    "**thalach (maximum heart rate achieved)**: Float\n",
    "\n",
    "**exang (exercise-induced angina)**: Categorical\n",
    "\n",
    "0 = no,\n",
    "1 = yes\n",
    "\n",
    "**oldpeak (ST depression induced by exercise relative to rest)**: Float\n",
    "\n",
    "**slope (the slope of the peak exercise ST segment)**: Categorical\n",
    "\n",
    "1 = upsloping,\n",
    "2 = flat,\n",
    "3 = downsloping\n",
    "\n",
    "**ca (number of major vessels (0-3) colored by fluoroscopy)**: Float\n",
    "\n",
    "**thal (thalium heart scan)**: Categorical\n",
    "\n",
    "3 = normal (no cold spots),\n",
    "6 = fixed defect (cold spots during rest and exercise),\n",
    "7 = reversible defect (cold spots only appear during exercise)\n",
    "\n",
    "To correctly prepare the data for the Support Vector Machine model, I need to perform one-hot encoding on the categorical variables. This is an important process because it converts the categorical values into a format the the machine learning algorithms can work with in order to do a better job in the predictions. "
   ]
  },
  {
   "cell_type": "code",
   "execution_count": 16,
   "id": "a0bb7a6b",
   "metadata": {
    "execution": {
     "iopub.execute_input": "2024-06-17T00:00:07.831462Z",
     "iopub.status.busy": "2024-06-17T00:00:07.830955Z",
     "iopub.status.idle": "2024-06-17T00:00:07.842645Z",
     "shell.execute_reply": "2024-06-17T00:00:07.840938Z"
    },
    "papermill": {
     "duration": 0.039525,
     "end_time": "2024-06-17T00:00:07.846616",
     "exception": false,
     "start_time": "2024-06-17T00:00:07.807091",
     "status": "completed"
    },
    "tags": []
   },
   "outputs": [
    {
     "data": {
      "text/plain": [
       "age        float64\n",
       "sex        float64\n",
       "cp         float64\n",
       "restbp     float64\n",
       "chol       float64\n",
       "fbs        float64\n",
       "restecg    float64\n",
       "thalach    float64\n",
       "exang      float64\n",
       "oldpeak    float64\n",
       "slope      float64\n",
       "ca          object\n",
       "thal        object\n",
       "dtype: object"
      ]
     },
     "execution_count": 16,
     "metadata": {},
     "output_type": "execute_result"
    }
   ],
   "source": [
    "# Check the data types for the input features\n",
    "X.dtypes"
   ]
  },
  {
   "cell_type": "markdown",
   "id": "b8774b97",
   "metadata": {
    "papermill": {
     "duration": 0.026326,
     "end_time": "2024-06-17T00:00:07.898434",
     "exception": false,
     "start_time": "2024-06-17T00:00:07.872108",
     "status": "completed"
    },
    "tags": []
   },
   "source": [
    "**Input Features Data Types**\n",
    "\n",
    "The columns 'age', 'restb'p, 'chol', and 'thalach' are all of type float64, which is appropriate since I want these to be floating point numbers. However, the other columns need to be inspected to ensure they contain only valid values, and some will need to be transformed. This is because, while scikit-learn's Support Vector Machines can natively handle continuous data (like restbp and thalach), they do not natively support categorical data (like cp, which has 4 categories). To use categorical data with scikit-learn's Support Vector Machines, I must convert a column of categorical data into multiple columns of binary values using a method called One-Hot Encoding.\n",
    "\n",
    "It's very important to note that categorical data must not be treated as continuos data. Let's use the 'cp' (chest pain) column as an example to explain this concept, which has 4 categories:\n",
    "\n",
    "- Typical angina\n",
    "- Atypical angina\n",
    "- Non-anginal pain\n",
    "- Asymptomatic\n",
    "\n",
    "If these categories were treated as continuous data, there would be an incorrect assumption that the category '4' (asymptomatic) is more similar to '3' (non-anginal pain) than it is to '1' (typical angina) or '2' (atypical angina). This could lead the Support Vector Machine to cluster patients with 4s and 3s together more frequently than patients with 4s and 1s. However, if these numbers are treated as categorical data, each category is considered as distinct and equally different from the others. This approach prevents the algorithm from making false assumptions about the similarity between different categories, leading to more accurate clustering.\n",
    "\n",
    "Now, I will proceed to examine and, if necessary, convert the columns containing categorical and integer data into the appropriate data types."
   ]
  },
  {
   "cell_type": "code",
   "execution_count": 17,
   "id": "5a3dd096",
   "metadata": {
    "execution": {
     "iopub.execute_input": "2024-06-17T00:00:07.966759Z",
     "iopub.status.busy": "2024-06-17T00:00:07.965184Z",
     "iopub.status.idle": "2024-06-17T00:00:07.983083Z",
     "shell.execute_reply": "2024-06-17T00:00:07.981154Z"
    },
    "papermill": {
     "duration": 0.059602,
     "end_time": "2024-06-17T00:00:07.987524",
     "exception": false,
     "start_time": "2024-06-17T00:00:07.927922",
     "status": "completed"
    },
    "tags": []
   },
   "outputs": [
    {
     "data": {
      "text/plain": [
       "array([1., 4., 3., 2.])"
      ]
     },
     "execution_count": 17,
     "metadata": {},
     "output_type": "execute_result"
    }
   ],
   "source": [
    "# Checking 'cp'\n",
    "X['cp'].unique()"
   ]
  },
  {
   "cell_type": "code",
   "execution_count": 18,
   "id": "3dbf14e7",
   "metadata": {
    "execution": {
     "iopub.execute_input": "2024-06-17T00:00:08.045089Z",
     "iopub.status.busy": "2024-06-17T00:00:08.039086Z",
     "iopub.status.idle": "2024-06-17T00:00:08.093644Z",
     "shell.execute_reply": "2024-06-17T00:00:08.092217Z"
    },
    "papermill": {
     "duration": 0.084862,
     "end_time": "2024-06-17T00:00:08.097830",
     "exception": false,
     "start_time": "2024-06-17T00:00:08.012968",
     "status": "completed"
    },
    "tags": []
   },
   "outputs": [
    {
     "data": {
      "text/html": [
       "<div>\n",
       "<style scoped>\n",
       "    .dataframe tbody tr th:only-of-type {\n",
       "        vertical-align: middle;\n",
       "    }\n",
       "\n",
       "    .dataframe tbody tr th {\n",
       "        vertical-align: top;\n",
       "    }\n",
       "\n",
       "    .dataframe thead th {\n",
       "        text-align: right;\n",
       "    }\n",
       "</style>\n",
       "<table border=\"1\" class=\"dataframe\">\n",
       "  <thead>\n",
       "    <tr style=\"text-align: right;\">\n",
       "      <th></th>\n",
       "      <th>age</th>\n",
       "      <th>sex</th>\n",
       "      <th>restbp</th>\n",
       "      <th>chol</th>\n",
       "      <th>fbs</th>\n",
       "      <th>restecg</th>\n",
       "      <th>thalach</th>\n",
       "      <th>exang</th>\n",
       "      <th>oldpeak</th>\n",
       "      <th>slope</th>\n",
       "      <th>ca</th>\n",
       "      <th>thal</th>\n",
       "      <th>cp_1.0</th>\n",
       "      <th>cp_2.0</th>\n",
       "      <th>cp_3.0</th>\n",
       "      <th>cp_4.0</th>\n",
       "    </tr>\n",
       "  </thead>\n",
       "  <tbody>\n",
       "    <tr>\n",
       "      <th>0</th>\n",
       "      <td>63.0</td>\n",
       "      <td>1.0</td>\n",
       "      <td>145.0</td>\n",
       "      <td>233.0</td>\n",
       "      <td>1.0</td>\n",
       "      <td>2.0</td>\n",
       "      <td>150.0</td>\n",
       "      <td>0.0</td>\n",
       "      <td>2.3</td>\n",
       "      <td>3.0</td>\n",
       "      <td>0.0</td>\n",
       "      <td>6.0</td>\n",
       "      <td>True</td>\n",
       "      <td>False</td>\n",
       "      <td>False</td>\n",
       "      <td>False</td>\n",
       "    </tr>\n",
       "    <tr>\n",
       "      <th>1</th>\n",
       "      <td>67.0</td>\n",
       "      <td>1.0</td>\n",
       "      <td>160.0</td>\n",
       "      <td>286.0</td>\n",
       "      <td>0.0</td>\n",
       "      <td>2.0</td>\n",
       "      <td>108.0</td>\n",
       "      <td>1.0</td>\n",
       "      <td>1.5</td>\n",
       "      <td>2.0</td>\n",
       "      <td>3.0</td>\n",
       "      <td>3.0</td>\n",
       "      <td>False</td>\n",
       "      <td>False</td>\n",
       "      <td>False</td>\n",
       "      <td>True</td>\n",
       "    </tr>\n",
       "    <tr>\n",
       "      <th>2</th>\n",
       "      <td>67.0</td>\n",
       "      <td>1.0</td>\n",
       "      <td>120.0</td>\n",
       "      <td>229.0</td>\n",
       "      <td>0.0</td>\n",
       "      <td>2.0</td>\n",
       "      <td>129.0</td>\n",
       "      <td>1.0</td>\n",
       "      <td>2.6</td>\n",
       "      <td>2.0</td>\n",
       "      <td>2.0</td>\n",
       "      <td>7.0</td>\n",
       "      <td>False</td>\n",
       "      <td>False</td>\n",
       "      <td>False</td>\n",
       "      <td>True</td>\n",
       "    </tr>\n",
       "    <tr>\n",
       "      <th>3</th>\n",
       "      <td>37.0</td>\n",
       "      <td>1.0</td>\n",
       "      <td>130.0</td>\n",
       "      <td>250.0</td>\n",
       "      <td>0.0</td>\n",
       "      <td>0.0</td>\n",
       "      <td>187.0</td>\n",
       "      <td>0.0</td>\n",
       "      <td>3.5</td>\n",
       "      <td>3.0</td>\n",
       "      <td>0.0</td>\n",
       "      <td>3.0</td>\n",
       "      <td>False</td>\n",
       "      <td>False</td>\n",
       "      <td>True</td>\n",
       "      <td>False</td>\n",
       "    </tr>\n",
       "    <tr>\n",
       "      <th>4</th>\n",
       "      <td>41.0</td>\n",
       "      <td>0.0</td>\n",
       "      <td>130.0</td>\n",
       "      <td>204.0</td>\n",
       "      <td>0.0</td>\n",
       "      <td>2.0</td>\n",
       "      <td>172.0</td>\n",
       "      <td>0.0</td>\n",
       "      <td>1.4</td>\n",
       "      <td>1.0</td>\n",
       "      <td>0.0</td>\n",
       "      <td>3.0</td>\n",
       "      <td>False</td>\n",
       "      <td>True</td>\n",
       "      <td>False</td>\n",
       "      <td>False</td>\n",
       "    </tr>\n",
       "  </tbody>\n",
       "</table>\n",
       "</div>"
      ],
      "text/plain": [
       "    age  sex  restbp   chol  fbs  restecg  thalach  exang  oldpeak  slope  \\\n",
       "0  63.0  1.0   145.0  233.0  1.0      2.0    150.0    0.0      2.3    3.0   \n",
       "1  67.0  1.0   160.0  286.0  0.0      2.0    108.0    1.0      1.5    2.0   \n",
       "2  67.0  1.0   120.0  229.0  0.0      2.0    129.0    1.0      2.6    2.0   \n",
       "3  37.0  1.0   130.0  250.0  0.0      0.0    187.0    0.0      3.5    3.0   \n",
       "4  41.0  0.0   130.0  204.0  0.0      2.0    172.0    0.0      1.4    1.0   \n",
       "\n",
       "    ca thal  cp_1.0  cp_2.0  cp_3.0  cp_4.0  \n",
       "0  0.0  6.0    True   False   False   False  \n",
       "1  3.0  3.0   False   False   False    True  \n",
       "2  2.0  7.0   False   False   False    True  \n",
       "3  0.0  3.0   False   False    True   False  \n",
       "4  0.0  3.0   False    True   False   False  "
      ]
     },
     "execution_count": 18,
     "metadata": {},
     "output_type": "execute_result"
    }
   ],
   "source": [
    "# Transform 'cp'\n",
    "pd.get_dummies(X, columns= ['cp']).head()"
   ]
  },
  {
   "cell_type": "markdown",
   "id": "19b6dcba",
   "metadata": {
    "papermill": {
     "duration": 0.025261,
     "end_time": "2024-06-17T00:00:08.156265",
     "exception": false,
     "start_time": "2024-06-17T00:00:08.131004",
     "status": "completed"
    },
    "tags": []
   },
   "source": [
    "**1s & 0s over True or False**\n",
    "\n",
    "True or False is not what I'm looking for. I want the 1s and the 0s because most machine learning algorithms, including Support Vector Machines, expect numerical input. So using 1s and 0s is better for compatability. Also, numerical data can be processed more efficiently."
   ]
  },
  {
   "cell_type": "code",
   "execution_count": 19,
   "id": "35623aef",
   "metadata": {
    "execution": {
     "iopub.execute_input": "2024-06-17T00:00:08.215815Z",
     "iopub.status.busy": "2024-06-17T00:00:08.213902Z",
     "iopub.status.idle": "2024-06-17T00:00:08.227166Z",
     "shell.execute_reply": "2024-06-17T00:00:08.225681Z"
    },
    "papermill": {
     "duration": 0.045771,
     "end_time": "2024-06-17T00:00:08.231682",
     "exception": false,
     "start_time": "2024-06-17T00:00:08.185911",
     "status": "completed"
    },
    "tags": []
   },
   "outputs": [
    {
     "name": "stdout",
     "output_type": "stream",
     "text": [
      "   cp_1.0  cp_2.0  cp_3.0  cp_4.0\n",
      "0       1       0       0       0\n",
      "1       0       0       0       1\n",
      "2       0       0       0       1\n",
      "3       0       0       1       0\n",
      "4       0       1       0       0\n"
     ]
    }
   ],
   "source": [
    "# Going for the 1s and the 0s\n",
    "cp_encoded= pd.get_dummies(X['cp'], prefix= 'cp').astype(int)\n",
    "\n",
    "# Display the first few rows to see the result\n",
    "print(cp_encoded.head())"
   ]
  },
  {
   "cell_type": "markdown",
   "id": "e29edbf1",
   "metadata": {
    "papermill": {
     "duration": 0.02775,
     "end_time": "2024-06-17T00:00:08.293887",
     "exception": false,
     "start_time": "2024-06-17T00:00:08.266137",
     "status": "completed"
    },
    "tags": []
   },
   "source": [
    "**1s & 0s**\n",
    "\n",
    "From the printout above, it is clear that the get_dummies() function successfully split 'cp' into 4 columns as expected. For example, cp_1.0 is 1 for any patient with a chest pain score of 1 and 0 for all others, and so on and so forth. \n",
    "\n",
    "Now I will proceed to do this same process for the categorical columns that have more than two categories. "
   ]
  },
  {
   "cell_type": "code",
   "execution_count": 20,
   "id": "6088d341",
   "metadata": {
    "execution": {
     "iopub.execute_input": "2024-06-17T00:00:08.342512Z",
     "iopub.status.busy": "2024-06-17T00:00:08.341997Z",
     "iopub.status.idle": "2024-06-17T00:00:08.355315Z",
     "shell.execute_reply": "2024-06-17T00:00:08.353959Z"
    },
    "papermill": {
     "duration": 0.042752,
     "end_time": "2024-06-17T00:00:08.359191",
     "exception": false,
     "start_time": "2024-06-17T00:00:08.316439",
     "status": "completed"
    },
    "tags": []
   },
   "outputs": [],
   "source": [
    "# Transforming categorical columns with One-Hot encoding\n",
    "restecg_encoded= pd.get_dummies(X['restecg'], prefix= 'restec').astype(int)\n",
    "\n",
    "# One-Hot encode 'slope' column\n",
    "slope_encoded= pd.get_dummies(X['slope'], prefix= 'slope').astype(int)\n",
    "\n",
    "# One-Hot encode 'thal' column\n",
    "thal_encoded= pd.get_dummies(X['thal'], prefix= 'thal').astype(int)"
   ]
  },
  {
   "cell_type": "code",
   "execution_count": 21,
   "id": "5fdadd5a",
   "metadata": {
    "execution": {
     "iopub.execute_input": "2024-06-17T00:00:08.413175Z",
     "iopub.status.busy": "2024-06-17T00:00:08.412060Z",
     "iopub.status.idle": "2024-06-17T00:00:08.462065Z",
     "shell.execute_reply": "2024-06-17T00:00:08.460143Z"
    },
    "papermill": {
     "duration": 0.077877,
     "end_time": "2024-06-17T00:00:08.465645",
     "exception": false,
     "start_time": "2024-06-17T00:00:08.387768",
     "status": "completed"
    },
    "tags": []
   },
   "outputs": [
    {
     "data": {
      "text/html": [
       "<div>\n",
       "<style scoped>\n",
       "    .dataframe tbody tr th:only-of-type {\n",
       "        vertical-align: middle;\n",
       "    }\n",
       "\n",
       "    .dataframe tbody tr th {\n",
       "        vertical-align: top;\n",
       "    }\n",
       "\n",
       "    .dataframe thead th {\n",
       "        text-align: right;\n",
       "    }\n",
       "</style>\n",
       "<table border=\"1\" class=\"dataframe\">\n",
       "  <thead>\n",
       "    <tr style=\"text-align: right;\">\n",
       "      <th></th>\n",
       "      <th>age</th>\n",
       "      <th>sex</th>\n",
       "      <th>restbp</th>\n",
       "      <th>chol</th>\n",
       "      <th>fbs</th>\n",
       "      <th>thalach</th>\n",
       "      <th>exang</th>\n",
       "      <th>oldpeak</th>\n",
       "      <th>ca</th>\n",
       "      <th>cp_1.0</th>\n",
       "      <th>...</th>\n",
       "      <th>cp_4.0</th>\n",
       "      <th>restec_0.0</th>\n",
       "      <th>restec_1.0</th>\n",
       "      <th>restec_2.0</th>\n",
       "      <th>slope_1.0</th>\n",
       "      <th>slope_2.0</th>\n",
       "      <th>slope_3.0</th>\n",
       "      <th>thal_3.0</th>\n",
       "      <th>thal_6.0</th>\n",
       "      <th>thal_7.0</th>\n",
       "    </tr>\n",
       "  </thead>\n",
       "  <tbody>\n",
       "    <tr>\n",
       "      <th>0</th>\n",
       "      <td>63.0</td>\n",
       "      <td>1.0</td>\n",
       "      <td>145.0</td>\n",
       "      <td>233.0</td>\n",
       "      <td>1.0</td>\n",
       "      <td>150.0</td>\n",
       "      <td>0.0</td>\n",
       "      <td>2.3</td>\n",
       "      <td>0.0</td>\n",
       "      <td>1</td>\n",
       "      <td>...</td>\n",
       "      <td>0</td>\n",
       "      <td>0</td>\n",
       "      <td>0</td>\n",
       "      <td>1</td>\n",
       "      <td>0</td>\n",
       "      <td>0</td>\n",
       "      <td>1</td>\n",
       "      <td>0</td>\n",
       "      <td>1</td>\n",
       "      <td>0</td>\n",
       "    </tr>\n",
       "    <tr>\n",
       "      <th>1</th>\n",
       "      <td>67.0</td>\n",
       "      <td>1.0</td>\n",
       "      <td>160.0</td>\n",
       "      <td>286.0</td>\n",
       "      <td>0.0</td>\n",
       "      <td>108.0</td>\n",
       "      <td>1.0</td>\n",
       "      <td>1.5</td>\n",
       "      <td>3.0</td>\n",
       "      <td>0</td>\n",
       "      <td>...</td>\n",
       "      <td>1</td>\n",
       "      <td>0</td>\n",
       "      <td>0</td>\n",
       "      <td>1</td>\n",
       "      <td>0</td>\n",
       "      <td>1</td>\n",
       "      <td>0</td>\n",
       "      <td>1</td>\n",
       "      <td>0</td>\n",
       "      <td>0</td>\n",
       "    </tr>\n",
       "    <tr>\n",
       "      <th>2</th>\n",
       "      <td>67.0</td>\n",
       "      <td>1.0</td>\n",
       "      <td>120.0</td>\n",
       "      <td>229.0</td>\n",
       "      <td>0.0</td>\n",
       "      <td>129.0</td>\n",
       "      <td>1.0</td>\n",
       "      <td>2.6</td>\n",
       "      <td>2.0</td>\n",
       "      <td>0</td>\n",
       "      <td>...</td>\n",
       "      <td>1</td>\n",
       "      <td>0</td>\n",
       "      <td>0</td>\n",
       "      <td>1</td>\n",
       "      <td>0</td>\n",
       "      <td>1</td>\n",
       "      <td>0</td>\n",
       "      <td>0</td>\n",
       "      <td>0</td>\n",
       "      <td>1</td>\n",
       "    </tr>\n",
       "    <tr>\n",
       "      <th>3</th>\n",
       "      <td>37.0</td>\n",
       "      <td>1.0</td>\n",
       "      <td>130.0</td>\n",
       "      <td>250.0</td>\n",
       "      <td>0.0</td>\n",
       "      <td>187.0</td>\n",
       "      <td>0.0</td>\n",
       "      <td>3.5</td>\n",
       "      <td>0.0</td>\n",
       "      <td>0</td>\n",
       "      <td>...</td>\n",
       "      <td>0</td>\n",
       "      <td>1</td>\n",
       "      <td>0</td>\n",
       "      <td>0</td>\n",
       "      <td>0</td>\n",
       "      <td>0</td>\n",
       "      <td>1</td>\n",
       "      <td>1</td>\n",
       "      <td>0</td>\n",
       "      <td>0</td>\n",
       "    </tr>\n",
       "    <tr>\n",
       "      <th>4</th>\n",
       "      <td>41.0</td>\n",
       "      <td>0.0</td>\n",
       "      <td>130.0</td>\n",
       "      <td>204.0</td>\n",
       "      <td>0.0</td>\n",
       "      <td>172.0</td>\n",
       "      <td>0.0</td>\n",
       "      <td>1.4</td>\n",
       "      <td>0.0</td>\n",
       "      <td>0</td>\n",
       "      <td>...</td>\n",
       "      <td>0</td>\n",
       "      <td>0</td>\n",
       "      <td>0</td>\n",
       "      <td>1</td>\n",
       "      <td>1</td>\n",
       "      <td>0</td>\n",
       "      <td>0</td>\n",
       "      <td>1</td>\n",
       "      <td>0</td>\n",
       "      <td>0</td>\n",
       "    </tr>\n",
       "  </tbody>\n",
       "</table>\n",
       "<p>5 rows × 22 columns</p>\n",
       "</div>"
      ],
      "text/plain": [
       "    age  sex  restbp   chol  fbs  thalach  exang  oldpeak   ca  cp_1.0  ...  \\\n",
       "0  63.0  1.0   145.0  233.0  1.0    150.0    0.0      2.3  0.0       1  ...   \n",
       "1  67.0  1.0   160.0  286.0  0.0    108.0    1.0      1.5  3.0       0  ...   \n",
       "2  67.0  1.0   120.0  229.0  0.0    129.0    1.0      2.6  2.0       0  ...   \n",
       "3  37.0  1.0   130.0  250.0  0.0    187.0    0.0      3.5  0.0       0  ...   \n",
       "4  41.0  0.0   130.0  204.0  0.0    172.0    0.0      1.4  0.0       0  ...   \n",
       "\n",
       "   cp_4.0  restec_0.0  restec_1.0  restec_2.0  slope_1.0  slope_2.0  \\\n",
       "0       0           0           0           1          0          0   \n",
       "1       1           0           0           1          0          1   \n",
       "2       1           0           0           1          0          1   \n",
       "3       0           1           0           0          0          0   \n",
       "4       0           0           0           1          1          0   \n",
       "\n",
       "   slope_3.0  thal_3.0  thal_6.0  thal_7.0  \n",
       "0          1         0         1         0  \n",
       "1          0         1         0         0  \n",
       "2          0         0         0         1  \n",
       "3          1         1         0         0  \n",
       "4          0         1         0         0  \n",
       "\n",
       "[5 rows x 22 columns]"
      ]
     },
     "execution_count": 21,
     "metadata": {},
     "output_type": "execute_result"
    }
   ],
   "source": [
    "# Drop the original 'cp', 'restecg', 'slope' and 'thal' columns\n",
    "X= X.drop(columns= ['cp', 'restecg', 'slope', 'thal'])\n",
    "\n",
    "# Concatenate the dataframe with the new one-hot encoded columns\n",
    "X= pd.concat([X, cp_encoded, restecg_encoded, slope_encoded, thal_encoded], axis= 1)\n",
    "\n",
    "# Display the first few rows to view the result\n",
    "X.head()"
   ]
  },
  {
   "cell_type": "markdown",
   "id": "870365f6",
   "metadata": {
    "papermill": {
     "duration": 0.025179,
     "end_time": "2024-06-17T00:00:08.514672",
     "exception": false,
     "start_time": "2024-06-17T00:00:08.489493",
     "status": "completed"
    },
    "tags": []
   },
   "source": [
    "**More Categorical Columns**\n",
    "\n",
    "\"Now let's discuss the three categorical columns that only contain 0s and 1s: 'sex', 'fbs' (fasting blood sugar), and 'exang' (exercise-induced angina). Unlike columns with more than two categories, like 'cp' (chest pain), which are now converted into multiple columns of 0s and 1s through One-Hot Encoding, these columns already have binary values. Therefore, no additional processing is needed for them. This means that no more data formatting is need for the Support Vector Machine. \n",
    "\n",
    "**Target Feature- Heart Disease**\n",
    "\n",
    "It's important to note that since I'm only making a Support Vector Machine that does simple classification that will only predict if someone has heart disease or not, I need to convert all numbers to 1s and 0s. \n",
    "\n",
    "The target feature for the machine learning model, y, doesn't just contain 1s and 0s. Instead, it has 5 different levels of heart disease. 0 = no heart disease and 1-4 are various degrees of heart disease."
   ]
  },
  {
   "cell_type": "code",
   "execution_count": 22,
   "id": "592bf2cb",
   "metadata": {
    "execution": {
     "iopub.execute_input": "2024-06-17T00:00:08.584800Z",
     "iopub.status.busy": "2024-06-17T00:00:08.583654Z",
     "iopub.status.idle": "2024-06-17T00:00:08.597840Z",
     "shell.execute_reply": "2024-06-17T00:00:08.595924Z"
    },
    "papermill": {
     "duration": 0.055973,
     "end_time": "2024-06-17T00:00:08.601891",
     "exception": false,
     "start_time": "2024-06-17T00:00:08.545918",
     "status": "completed"
    },
    "tags": []
   },
   "outputs": [
    {
     "data": {
      "text/plain": [
       "array([0, 2, 1, 3, 4])"
      ]
     },
     "execution_count": 22,
     "metadata": {},
     "output_type": "execute_result"
    }
   ],
   "source": [
    "# Confirming the categories for the target feature\n",
    "y.unique()"
   ]
  },
  {
   "cell_type": "code",
   "execution_count": 23,
   "id": "7f04f43b",
   "metadata": {
    "execution": {
     "iopub.execute_input": "2024-06-17T00:00:08.669471Z",
     "iopub.status.busy": "2024-06-17T00:00:08.668798Z",
     "iopub.status.idle": "2024-06-17T00:00:08.686335Z",
     "shell.execute_reply": "2024-06-17T00:00:08.682935Z"
    },
    "papermill": {
     "duration": 0.053546,
     "end_time": "2024-06-17T00:00:08.690841",
     "exception": false,
     "start_time": "2024-06-17T00:00:08.637295",
     "status": "completed"
    },
    "tags": []
   },
   "outputs": [
    {
     "data": {
      "text/plain": [
       "array([0, 1])"
      ]
     },
     "execution_count": 23,
     "metadata": {},
     "output_type": "execute_result"
    }
   ],
   "source": [
    "# Convert target feature to 1s and 0s and verify transformation\n",
    "y= y.apply(lambda x: 1 if x > 0 else 0)\n",
    "y.unique()"
   ]
  },
  {
   "cell_type": "markdown",
   "id": "facfa4cc",
   "metadata": {
    "papermill": {
     "duration": 0.029689,
     "end_time": "2024-06-17T00:00:08.752395",
     "exception": false,
     "start_time": "2024-06-17T00:00:08.722706",
     "status": "completed"
    },
    "tags": []
   },
   "source": [
    "**Centering & Scaling**\n",
    "\n",
    "The Radial Basis Function (RBF) that's going to be used with the Support Vector Machine (SVM) assumes that the data is centered and scaled. So, this needs to be done to both the training and test datasets. What this process means is that the data will be adjusted to have a mean of 0 and a standard deviation (or the spread of variance) of 1. \n",
    "\n",
    "It's important to know that the RBF kernel l measures the similarity between pairs of data points. If features are on different scales, the SVM might give more importance to features with larger scales, skewing the results, which would not be a desired output. Furthermore, scaling ensures that each feature contributes equally to the similarity measure, preventing features with larger ranges from dominating the model. Finally, many machine learning algorithms, including SVMs, perform better when the data is scaled because it ensures the optimization process converges more efficiently.\n",
    "\n",
    "In the next step, the data will be split into training and test sets and then they will be scaled separately. This is to avoid data leakage, which is when information about the training dataset \"leaks\", corrupts or influence the testing dataset. "
   ]
  },
  {
   "cell_type": "code",
   "execution_count": 24,
   "id": "73af3141",
   "metadata": {
    "execution": {
     "iopub.execute_input": "2024-06-17T00:00:08.821192Z",
     "iopub.status.busy": "2024-06-17T00:00:08.820096Z",
     "iopub.status.idle": "2024-06-17T00:00:08.850775Z",
     "shell.execute_reply": "2024-06-17T00:00:08.849263Z"
    },
    "papermill": {
     "duration": 0.069012,
     "end_time": "2024-06-17T00:00:08.855000",
     "exception": false,
     "start_time": "2024-06-17T00:00:08.785988",
     "status": "completed"
    },
    "tags": []
   },
   "outputs": [],
   "source": [
    "# Split the data into training and test sets\n",
    "X_train, X_test, y_train, y_test= train_test_split(X, y, random_state= 42)\n",
    "X_train_scaled= scale(X_train)\n",
    "X_test_scaled= scale(X_test)"
   ]
  },
  {
   "cell_type": "markdown",
   "id": "03a1ecb6",
   "metadata": {
    "papermill": {
     "duration": 0.026251,
     "end_time": "2024-06-17T00:00:08.916830",
     "exception": false,
     "start_time": "2024-06-17T00:00:08.890579",
     "status": "completed"
    },
    "tags": []
   },
   "source": [
    "**Support Vector Machine**\n",
    "\n",
    "Now that the data is correctly formatted, I can proceed with building the Support Vector Machine.\n",
    "\n",
    "Note, 'clf_svm' just means classifier Support Vector Machine. "
   ]
  },
  {
   "cell_type": "code",
   "execution_count": 25,
   "id": "443c707f",
   "metadata": {
    "execution": {
     "iopub.execute_input": "2024-06-17T00:00:08.974187Z",
     "iopub.status.busy": "2024-06-17T00:00:08.973532Z",
     "iopub.status.idle": "2024-06-17T00:00:09.001047Z",
     "shell.execute_reply": "2024-06-17T00:00:08.999400Z"
    },
    "papermill": {
     "duration": 0.061667,
     "end_time": "2024-06-17T00:00:09.005972",
     "exception": false,
     "start_time": "2024-06-17T00:00:08.944305",
     "status": "completed"
    },
    "tags": []
   },
   "outputs": [
    {
     "data": {
      "text/html": [
       "<style>#sk-container-id-1 {color: black;background-color: white;}#sk-container-id-1 pre{padding: 0;}#sk-container-id-1 div.sk-toggleable {background-color: white;}#sk-container-id-1 label.sk-toggleable__label {cursor: pointer;display: block;width: 100%;margin-bottom: 0;padding: 0.3em;box-sizing: border-box;text-align: center;}#sk-container-id-1 label.sk-toggleable__label-arrow:before {content: \"▸\";float: left;margin-right: 0.25em;color: #696969;}#sk-container-id-1 label.sk-toggleable__label-arrow:hover:before {color: black;}#sk-container-id-1 div.sk-estimator:hover label.sk-toggleable__label-arrow:before {color: black;}#sk-container-id-1 div.sk-toggleable__content {max-height: 0;max-width: 0;overflow: hidden;text-align: left;background-color: #f0f8ff;}#sk-container-id-1 div.sk-toggleable__content pre {margin: 0.2em;color: black;border-radius: 0.25em;background-color: #f0f8ff;}#sk-container-id-1 input.sk-toggleable__control:checked~div.sk-toggleable__content {max-height: 200px;max-width: 100%;overflow: auto;}#sk-container-id-1 input.sk-toggleable__control:checked~label.sk-toggleable__label-arrow:before {content: \"▾\";}#sk-container-id-1 div.sk-estimator input.sk-toggleable__control:checked~label.sk-toggleable__label {background-color: #d4ebff;}#sk-container-id-1 div.sk-label input.sk-toggleable__control:checked~label.sk-toggleable__label {background-color: #d4ebff;}#sk-container-id-1 input.sk-hidden--visually {border: 0;clip: rect(1px 1px 1px 1px);clip: rect(1px, 1px, 1px, 1px);height: 1px;margin: -1px;overflow: hidden;padding: 0;position: absolute;width: 1px;}#sk-container-id-1 div.sk-estimator {font-family: monospace;background-color: #f0f8ff;border: 1px dotted black;border-radius: 0.25em;box-sizing: border-box;margin-bottom: 0.5em;}#sk-container-id-1 div.sk-estimator:hover {background-color: #d4ebff;}#sk-container-id-1 div.sk-parallel-item::after {content: \"\";width: 100%;border-bottom: 1px solid gray;flex-grow: 1;}#sk-container-id-1 div.sk-label:hover label.sk-toggleable__label {background-color: #d4ebff;}#sk-container-id-1 div.sk-serial::before {content: \"\";position: absolute;border-left: 1px solid gray;box-sizing: border-box;top: 0;bottom: 0;left: 50%;z-index: 0;}#sk-container-id-1 div.sk-serial {display: flex;flex-direction: column;align-items: center;background-color: white;padding-right: 0.2em;padding-left: 0.2em;position: relative;}#sk-container-id-1 div.sk-item {position: relative;z-index: 1;}#sk-container-id-1 div.sk-parallel {display: flex;align-items: stretch;justify-content: center;background-color: white;position: relative;}#sk-container-id-1 div.sk-item::before, #sk-container-id-1 div.sk-parallel-item::before {content: \"\";position: absolute;border-left: 1px solid gray;box-sizing: border-box;top: 0;bottom: 0;left: 50%;z-index: -1;}#sk-container-id-1 div.sk-parallel-item {display: flex;flex-direction: column;z-index: 1;position: relative;background-color: white;}#sk-container-id-1 div.sk-parallel-item:first-child::after {align-self: flex-end;width: 50%;}#sk-container-id-1 div.sk-parallel-item:last-child::after {align-self: flex-start;width: 50%;}#sk-container-id-1 div.sk-parallel-item:only-child::after {width: 0;}#sk-container-id-1 div.sk-dashed-wrapped {border: 1px dashed gray;margin: 0 0.4em 0.5em 0.4em;box-sizing: border-box;padding-bottom: 0.4em;background-color: white;}#sk-container-id-1 div.sk-label label {font-family: monospace;font-weight: bold;display: inline-block;line-height: 1.2em;}#sk-container-id-1 div.sk-label-container {text-align: center;}#sk-container-id-1 div.sk-container {/* jupyter's `normalize.less` sets `[hidden] { display: none; }` but bootstrap.min.css set `[hidden] { display: none !important; }` so we also need the `!important` here to be able to override the default hidden behavior on the sphinx rendered scikit-learn.org. See: https://github.com/scikit-learn/scikit-learn/issues/21755 */display: inline-block !important;position: relative;}#sk-container-id-1 div.sk-text-repr-fallback {display: none;}</style><div id=\"sk-container-id-1\" class=\"sk-top-container\"><div class=\"sk-text-repr-fallback\"><pre>SVC(random_state=42)</pre><b>In a Jupyter environment, please rerun this cell to show the HTML representation or trust the notebook. <br />On GitHub, the HTML representation is unable to render, please try loading this page with nbviewer.org.</b></div><div class=\"sk-container\" hidden><div class=\"sk-item\"><div class=\"sk-estimator sk-toggleable\"><input class=\"sk-toggleable__control sk-hidden--visually\" id=\"sk-estimator-id-1\" type=\"checkbox\" checked><label for=\"sk-estimator-id-1\" class=\"sk-toggleable__label sk-toggleable__label-arrow\">SVC</label><div class=\"sk-toggleable__content\"><pre>SVC(random_state=42)</pre></div></div></div></div></div>"
      ],
      "text/plain": [
       "SVC(random_state=42)"
      ]
     },
     "execution_count": 25,
     "metadata": {},
     "output_type": "execute_result"
    }
   ],
   "source": [
    "# Classifier SVM\n",
    "clf_svm= SVC(kernel= 'rbf', random_state= 42)\n",
    "\n",
    "# Fit the model\n",
    "clf_svm.fit(X_train_scaled, y_train)"
   ]
  },
  {
   "cell_type": "code",
   "execution_count": 26,
   "id": "76a2aca8",
   "metadata": {
    "execution": {
     "iopub.execute_input": "2024-06-17T00:00:09.064114Z",
     "iopub.status.busy": "2024-06-17T00:00:09.063580Z",
     "iopub.status.idle": "2024-06-17T00:00:09.073068Z",
     "shell.execute_reply": "2024-06-17T00:00:09.070779Z"
    },
    "papermill": {
     "duration": 0.040542,
     "end_time": "2024-06-17T00:00:09.076382",
     "exception": false,
     "start_time": "2024-06-17T00:00:09.035840",
     "status": "completed"
    },
    "tags": []
   },
   "outputs": [
    {
     "name": "stdout",
     "output_type": "stream",
     "text": [
      "Default parameters of the SVM model:\n",
      "{'C': 1.0, 'break_ties': False, 'cache_size': 200, 'class_weight': None, 'coef0': 0.0, 'decision_function_shape': 'ovr', 'degree': 3, 'gamma': 'scale', 'kernel': 'rbf', 'max_iter': -1, 'probability': False, 'random_state': 42, 'shrinking': True, 'tol': 0.001, 'verbose': False}\n"
     ]
    }
   ],
   "source": [
    "# Print the default parameters\n",
    "print('Default parameters of the SVM model:')\n",
    "print(clf_svm.get_params())"
   ]
  },
  {
   "cell_type": "code",
   "execution_count": 27,
   "id": "c01e72c2",
   "metadata": {
    "execution": {
     "iopub.execute_input": "2024-06-17T00:00:09.132042Z",
     "iopub.status.busy": "2024-06-17T00:00:09.130619Z",
     "iopub.status.idle": "2024-06-17T00:00:09.573140Z",
     "shell.execute_reply": "2024-06-17T00:00:09.571664Z"
    },
    "papermill": {
     "duration": 0.473869,
     "end_time": "2024-06-17T00:00:09.576310",
     "exception": false,
     "start_time": "2024-06-17T00:00:09.102441",
     "status": "completed"
    },
    "tags": []
   },
   "outputs": [
    {
     "data": {
      "image/png": "[encoded data removed]",
      "text/plain": [
       "<Figure size 640x480 with 2 Axes>"
      ]
     },
     "metadata": {},
     "output_type": "display_data"
    }
   ],
   "source": [
    "# Confusion Matrix with test data\n",
    "disp= ConfusionMatrixDisplay.from_estimator(clf_svm, X_test_scaled, y_test, display_labels= ['Does not have HD', 'Has HD'], cmap= plt.cm.Blues)\n",
    "plt.xlabel('Predicted Label')\n",
    "plt.ylabel('True Label')\n",
    "plt.title('SVM Confusion Matrix')\n",
    "plt.show()"
   ]
  },
  {
   "cell_type": "markdown",
   "id": "35f6d3b2",
   "metadata": {
    "papermill": {
     "duration": 0.023071,
     "end_time": "2024-06-17T00:00:09.623725",
     "exception": false,
     "start_time": "2024-06-17T00:00:09.600654",
     "status": "completed"
    },
    "tags": []
   },
   "source": [
    "**Confusion Matrix Analysis**\n",
    "\n",
    "The confusion matrix reveals that the SVM model correctly predicted that 40 patients do not have heart disease, which accounts for approximately 87% of the true negatives. However, the model incorrectly predicted that 2 patients have heart disease when they do not, representing about 4% of the false positives. Additionally, the model incorrectly predicted that 4 patients do not have heart disease when they actually do, accounting for roughly 9% of the false negatives. On the positive side, the model accurately predicted that 29 patients have heart disease, which makes up about 87% of the true positives.\n",
    "\n",
    "The model demonstrates strong performance with a good balance between sensitivity (recall or the true positive rate) (87%) and specificity (true negative rate) (87%), which is crucial in medical diagnosis scenarios where both false positives (4%) and false negatives (9%) can have significant implications.\n",
    "\n",
    "The model's predictions can potentially be improved by using cross-validation. Cross-validation is a technique used to assess the generalizability of a model by partitioning the data into subsets, training the model on some subsets while validating it on others, and rotating this process multiple times. This helps in selecting the best hyperparameters and provides a better estimate of the model's performance by ensuring that the model generalizes well to unseen data.\n",
    "\n",
    "**Optimizing a Support Vector Machine**\n",
    "\n",
    "Optimizing a Support Vector Machine (SVM) involves finding the best values for the gamma parameter and, potentially, the regularization parameter, C. The 'gamma' (kernel coefficient) parameter defines how far the influence of a single training example reaches. It determines the influence of individual data points on the decision boundary. The 'C' parameter (regularization parameter) controls the trade-off between achieving a low training error and a low testing error, which means balancing between overfitting and underfitting. By fine-tuning these parameters, the accuracy of the model should improve on the testing dataset. \n",
    "\n",
    "To find the optimal values for gamma and C, I will use GridSearchCV(). This method specifies a range of potential values for both parameters, and then tests all possible combinations to identify the best ones through cross-validation."
   ]
  },
  {
   "cell_type": "code",
   "execution_count": 28,
   "id": "ca810a6f",
   "metadata": {
    "execution": {
     "iopub.execute_input": "2024-06-17T00:00:09.678582Z",
     "iopub.status.busy": "2024-06-17T00:00:09.678069Z",
     "iopub.status.idle": "2024-06-17T00:00:09.937928Z",
     "shell.execute_reply": "2024-06-17T00:00:09.936293Z"
    },
    "papermill": {
     "duration": 0.290377,
     "end_time": "2024-06-17T00:00:09.941048",
     "exception": false,
     "start_time": "2024-06-17T00:00:09.650671",
     "status": "completed"
    },
    "tags": []
   },
   "outputs": [
    {
     "data": {
      "text/plain": [
       "{'C': 100, 'gamma': 0.001, 'kernel': 'rbf'}"
      ]
     },
     "execution_count": 28,
     "metadata": {},
     "output_type": "execute_result"
    }
   ],
   "source": [
    "# Optimizing the SVM\n",
    "param_grid= [{'C': [1,10,100,100],\n",
    "              'gamma': [0.001,0.0001],\n",
    "              'kernel': ['rbf']\n",
    "             }]\n",
    "\n",
    "optimal_params= GridSearchCV(SVC(), param_grid, cv= 5, verbose= 0)\n",
    "\n",
    "# Fitting the optimal params\n",
    "optimal_params.fit(X_train_scaled, y_train)\n",
    "\n",
    "# Get the best parameters\n",
    "optimal_params.best_params_"
   ]
  },
  {
   "cell_type": "markdown",
   "id": "75aa75f1",
   "metadata": {
    "papermill": {
     "duration": 0.022759,
     "end_time": "2024-06-17T00:00:09.988090",
     "exception": false,
     "start_time": "2024-06-17T00:00:09.965331",
     "status": "completed"
    },
    "tags": []
   },
   "source": [
    "**Optimal Parameter Analysis**\n",
    "\n",
    "The result {'C': 100, 'gamma': 0.001, 'kernel': 'rbf'} indicates that the optimal parameters found by GridSearchCV for your Support Vector Machine (SVM) model using the Radial Basis Function (RBF) kernel are:\n",
    "\n",
    "- **C**: 100\n",
    "- **gamma**: 0.001\n",
    "- **kernel**: 'rbf'\n",
    "\n",
    "A value of 100 for 'C' is relatively high, which means the model is being penalized heavily for misclassifying training examples. The SVM is aiming to classify all training examples correctly by allowing the decision boundary to be more flexible. This can reduce bias and improve the fit of the model on the training data, but it also increases the risk of overfitting if C is too large.\n",
    "\n",
    "A 'gamma' value of 0.001 is relatively low, meaning that each training example's influence reaches far in terms of defining the decision boundary. This results in a smoother and less complex decision boundary. A lower 'gamma' reduces the risk of overfitting by preventing the decision boundary from becoming too specific to the training data.\n",
    "\n",
    "The combination of a high 'C' value and a low 'gamma' value suggests that the model is designed to balance between bias and variance. The high 'C' reduces bias by correctly classifying training examples, while the low 'gamma' prevents high variance by smoothing the decision boundary.\n",
    "\n",
    "And finally, there is the RBF kernel, which is a popular choice for SVMs because it can handle the non-linear relationships between the features and the target variable. It maps the input space into a higher-dimensional space where a linear separation is possible.\n",
    "\n",
    "Just for clarity, in the context of Support Vector Machines (SVMs), the decision boundary is a hyperplane or surface that separates the different classes in the feature space. For a binary classification problem, it is the line, plane, or hyperplane that best separates the two classes based on the features of the data\n",
    "\n",
    "Now that I have the ideal values for 'C' and 'gamma', I will proceed to build the final Support Vector Machine. "
   ]
  },
  {
   "cell_type": "code",
   "execution_count": 29,
   "id": "1f7ebe97",
   "metadata": {
    "execution": {
     "iopub.execute_input": "2024-06-17T00:00:10.037603Z",
     "iopub.status.busy": "2024-06-17T00:00:10.037071Z",
     "iopub.status.idle": "2024-06-17T00:00:10.051702Z",
     "shell.execute_reply": "2024-06-17T00:00:10.050209Z"
    },
    "papermill": {
     "duration": 0.042426,
     "end_time": "2024-06-17T00:00:10.054710",
     "exception": false,
     "start_time": "2024-06-17T00:00:10.012284",
     "status": "completed"
    },
    "tags": []
   },
   "outputs": [
    {
     "data": {
      "text/html": [
       "<style>#sk-container-id-2 {color: black;background-color: white;}#sk-container-id-2 pre{padding: 0;}#sk-container-id-2 div.sk-toggleable {background-color: white;}#sk-container-id-2 label.sk-toggleable__label {cursor: pointer;display: block;width: 100%;margin-bottom: 0;padding: 0.3em;box-sizing: border-box;text-align: center;}#sk-container-id-2 label.sk-toggleable__label-arrow:before {content: \"▸\";float: left;margin-right: 0.25em;color: #696969;}#sk-container-id-2 label.sk-toggleable__label-arrow:hover:before {color: black;}#sk-container-id-2 div.sk-estimator:hover label.sk-toggleable__label-arrow:before {color: black;}#sk-container-id-2 div.sk-toggleable__content {max-height: 0;max-width: 0;overflow: hidden;text-align: left;background-color: #f0f8ff;}#sk-container-id-2 div.sk-toggleable__content pre {margin: 0.2em;color: black;border-radius: 0.25em;background-color: #f0f8ff;}#sk-container-id-2 input.sk-toggleable__control:checked~div.sk-toggleable__content {max-height: 200px;max-width: 100%;overflow: auto;}#sk-container-id-2 input.sk-toggleable__control:checked~label.sk-toggleable__label-arrow:before {content: \"▾\";}#sk-container-id-2 div.sk-estimator input.sk-toggleable__control:checked~label.sk-toggleable__label {background-color: #d4ebff;}#sk-container-id-2 div.sk-label input.sk-toggleable__control:checked~label.sk-toggleable__label {background-color: #d4ebff;}#sk-container-id-2 input.sk-hidden--visually {border: 0;clip: rect(1px 1px 1px 1px);clip: rect(1px, 1px, 1px, 1px);height: 1px;margin: -1px;overflow: hidden;padding: 0;position: absolute;width: 1px;}#sk-container-id-2 div.sk-estimator {font-family: monospace;background-color: #f0f8ff;border: 1px dotted black;border-radius: 0.25em;box-sizing: border-box;margin-bottom: 0.5em;}#sk-container-id-2 div.sk-estimator:hover {background-color: #d4ebff;}#sk-container-id-2 div.sk-parallel-item::after {content: \"\";width: 100%;border-bottom: 1px solid gray;flex-grow: 1;}#sk-container-id-2 div.sk-label:hover label.sk-toggleable__label {background-color: #d4ebff;}#sk-container-id-2 div.sk-serial::before {content: \"\";position: absolute;border-left: 1px solid gray;box-sizing: border-box;top: 0;bottom: 0;left: 50%;z-index: 0;}#sk-container-id-2 div.sk-serial {display: flex;flex-direction: column;align-items: center;background-color: white;padding-right: 0.2em;padding-left: 0.2em;position: relative;}#sk-container-id-2 div.sk-item {position: relative;z-index: 1;}#sk-container-id-2 div.sk-parallel {display: flex;align-items: stretch;justify-content: center;background-color: white;position: relative;}#sk-container-id-2 div.sk-item::before, #sk-container-id-2 div.sk-parallel-item::before {content: \"\";position: absolute;border-left: 1px solid gray;box-sizing: border-box;top: 0;bottom: 0;left: 50%;z-index: -1;}#sk-container-id-2 div.sk-parallel-item {display: flex;flex-direction: column;z-index: 1;position: relative;background-color: white;}#sk-container-id-2 div.sk-parallel-item:first-child::after {align-self: flex-end;width: 50%;}#sk-container-id-2 div.sk-parallel-item:last-child::after {align-self: flex-start;width: 50%;}#sk-container-id-2 div.sk-parallel-item:only-child::after {width: 0;}#sk-container-id-2 div.sk-dashed-wrapped {border: 1px dashed gray;margin: 0 0.4em 0.5em 0.4em;box-sizing: border-box;padding-bottom: 0.4em;background-color: white;}#sk-container-id-2 div.sk-label label {font-family: monospace;font-weight: bold;display: inline-block;line-height: 1.2em;}#sk-container-id-2 div.sk-label-container {text-align: center;}#sk-container-id-2 div.sk-container {/* jupyter's `normalize.less` sets `[hidden] { display: none; }` but bootstrap.min.css set `[hidden] { display: none !important; }` so we also need the `!important` here to be able to override the default hidden behavior on the sphinx rendered scikit-learn.org. See: https://github.com/scikit-learn/scikit-learn/issues/21755 */display: inline-block !important;position: relative;}#sk-container-id-2 div.sk-text-repr-fallback {display: none;}</style><div id=\"sk-container-id-2\" class=\"sk-top-container\"><div class=\"sk-text-repr-fallback\"><pre>SVC(C=100, gamma=0.001, random_state=42)</pre><b>In a Jupyter environment, please rerun this cell to show the HTML representation or trust the notebook. <br />On GitHub, the HTML representation is unable to render, please try loading this page with nbviewer.org.</b></div><div class=\"sk-container\" hidden><div class=\"sk-item\"><div class=\"sk-estimator sk-toggleable\"><input class=\"sk-toggleable__control sk-hidden--visually\" id=\"sk-estimator-id-2\" type=\"checkbox\" checked><label for=\"sk-estimator-id-2\" class=\"sk-toggleable__label sk-toggleable__label-arrow\">SVC</label><div class=\"sk-toggleable__content\"><pre>SVC(C=100, gamma=0.001, random_state=42)</pre></div></div></div></div></div>"
      ],
      "text/plain": [
       "SVC(C=100, gamma=0.001, random_state=42)"
      ]
     },
     "execution_count": 29,
     "metadata": {},
     "output_type": "execute_result"
    }
   ],
   "source": [
    "# SMV with optimal parameters\n",
    "clf_svm= SVC(C= 100, gamma= 0.001, random_state= 42)\n",
    "\n",
    "# Fit the model\n",
    "clf_svm.fit(X_train_scaled, y_train)"
   ]
  },
  {
   "cell_type": "code",
   "execution_count": 30,
   "id": "2d639573",
   "metadata": {
    "execution": {
     "iopub.execute_input": "2024-06-17T00:00:10.103916Z",
     "iopub.status.busy": "2024-06-17T00:00:10.103373Z",
     "iopub.status.idle": "2024-06-17T00:00:10.457299Z",
     "shell.execute_reply": "2024-06-17T00:00:10.455977Z"
    },
    "papermill": {
     "duration": 0.382685,
     "end_time": "2024-06-17T00:00:10.460178",
     "exception": false,
     "start_time": "2024-06-17T00:00:10.077493",
     "status": "completed"
    },
    "tags": []
   },
   "outputs": [
    {
     "data": {
      "image/png": "[encoded data removed]",
      "text/plain": [
       "<Figure size 640x480 with 2 Axes>"
      ]
     },
     "metadata": {},
     "output_type": "display_data"
    }
   ],
   "source": [
    "# Confusion Matrix with optimal parameters\n",
    "# Confusion Matrix with test data\n",
    "disp= ConfusionMatrixDisplay.from_estimator(clf_svm, X_test_scaled, y_test, display_labels= ['Does not have HD', 'Has HD'], cmap= plt.cm.Blues)\n",
    "plt.xlabel('Predicted Label')\n",
    "plt.ylabel('True Label')\n",
    "plt.title('SVM Confusion Matrix')\n",
    "plt.show()"
   ]
  },
  {
   "cell_type": "markdown",
   "id": "0c944f29",
   "metadata": {
    "papermill": {
     "duration": 0.023859,
     "end_time": "2024-06-17T00:00:10.508921",
     "exception": false,
     "start_time": "2024-06-17T00:00:10.485062",
     "status": "completed"
    },
    "tags": []
   },
   "source": [
    "**Updated Confusion Matrix**\n",
    "\n",
    "The matrix indicates that the model correctly predicted that 38 patients do not have heart disease, accounting for approximately 86% of the true negatives. However, it incorrectly predicted that 4 patients have heart disease when they do not, representing about 9% of the false positives. Additionally, the model incorrectly predicted that 6 patients do not have heart disease when they actually do, accounting for roughly 14% of the false negatives. On the positive side, the model accurately predicted that 27 patients have heart disease, which makes up about 82% of the true positives.\n",
    "\n",
    "The model demonstrates strong performance with a sensitivity of 82% and a specificity of 86%. Sensitivity measures the model's ability to correctly identify patients with heart disease, while specificity measures the model's ability to correctly identify patients without heart disease. Both false positives (9%) and false negatives (14%) have been minimized compared to the original model, indicating an improvement in the model's predictive accuracy and generalizability. This balance is crucial in medical diagnosis scenarios, where both types of errors can have significant implications.\n",
    "\n",
    "So, the model's predictions were indeed improved by using cross-validation. \n",
    "\n",
    "**Decisioun Boundary**\n",
    "\n",
    "The last step I'm going to perform here is to draw the decision boundary. The first step I'm going to take in this process is to define the features in X. "
   ]
  },
  {
   "cell_type": "code",
   "execution_count": 31,
   "id": "7e0d9b63",
   "metadata": {
    "execution": {
     "iopub.execute_input": "2024-06-17T00:00:10.559283Z",
     "iopub.status.busy": "2024-06-17T00:00:10.558781Z",
     "iopub.status.idle": "2024-06-17T00:00:10.566919Z",
     "shell.execute_reply": "2024-06-17T00:00:10.565565Z"
    },
    "papermill": {
     "duration": 0.037198,
     "end_time": "2024-06-17T00:00:10.569768",
     "exception": false,
     "start_time": "2024-06-17T00:00:10.532570",
     "status": "completed"
    },
    "tags": []
   },
   "outputs": [
    {
     "data": {
      "text/plain": [
       "14"
      ]
     },
     "execution_count": 31,
     "metadata": {},
     "output_type": "execute_result"
    }
   ],
   "source": [
    "# Features in X\n",
    "len(df.columns)"
   ]
  },
  {
   "cell_type": "markdown",
   "id": "47a8d246",
   "metadata": {
    "papermill": {
     "duration": 0.023952,
     "end_time": "2024-06-17T00:00:10.617526",
     "exception": false,
     "start_time": "2024-06-17T00:00:10.593574",
     "status": "completed"
    },
    "tags": []
   },
   "source": [
    "**14 Columns Problem**\n",
    "\n",
    "Having 14 columns is a problem because that would require a 14-dimensional graph, one dimension per feature. An effective approach to tackle this problem would be to use Principal Component Analysis (PCA). PCA is a a dimensionality reduction technique that transforms a large set of correlated features into a smaller set of uncorrelated features called principal components. It helps simplify the data while retaining most of the original variance, making it easier to visualize and analyze. So, in this case, PCA helps combine the 14 features into 2 orthogonal meta-features, which can then be used as axes for a graph.\n",
    "\n",
    "However, before doing so, it's important to determine how accurate the reduced dimensionality graph will be. If the reduced graph is relatively accurate, it makes sense to draw the 2-dimensional graph. Otherwise, the reduced graph won't be very useful. I can assess the accuracy of the reduced graph by creating a scree plot, which is a type of graph used in PCA to show the amount of variance explained by each principal component. In a scree plot, you typically look for an \"elbow\" point where the explained variance starts to level off. This point helps determine the number of principal components to retain. Let's proceed by doing so. "
   ]
  },
  {
   "cell_type": "code",
   "execution_count": 32,
   "id": "21dc11e0",
   "metadata": {
    "execution": {
     "iopub.execute_input": "2024-06-17T00:00:10.668961Z",
     "iopub.status.busy": "2024-06-17T00:00:10.668430Z",
     "iopub.status.idle": "2024-06-17T00:00:10.695755Z",
     "shell.execute_reply": "2024-06-17T00:00:10.694292Z"
    },
    "papermill": {
     "duration": 0.05758,
     "end_time": "2024-06-17T00:00:10.698860",
     "exception": false,
     "start_time": "2024-06-17T00:00:10.641280",
     "status": "completed"
    },
    "tags": []
   },
   "outputs": [],
   "source": [
    "# Fit PCA\n",
    "pca = PCA()\n",
    "X_train_pca = pca.fit_transform(X_train_scaled)\n",
    "\n",
    "# Calculate explained variance\n",
    "per_var = np.round(pca.explained_variance_ratio_ * 100, decimals=1)\n",
    "labels = ['PC' + str(x) for x in range(1, len(per_var) + 1)]"
   ]
  },
  {
   "cell_type": "code",
   "execution_count": 33,
   "id": "e4721943",
   "metadata": {
    "execution": {
     "iopub.execute_input": "2024-06-17T00:00:10.752092Z",
     "iopub.status.busy": "2024-06-17T00:00:10.750799Z",
     "iopub.status.idle": "2024-06-17T00:00:11.243518Z",
     "shell.execute_reply": "2024-06-17T00:00:11.241795Z"
    },
    "papermill": {
     "duration": 0.524388,
     "end_time": "2024-06-17T00:00:11.247496",
     "exception": false,
     "start_time": "2024-06-17T00:00:10.723108",
     "status": "completed"
    },
    "tags": []
   },
   "outputs": [
    {
     "data": {
      "image/png": "[encoded data removed]",
      "text/plain": [
       "<Figure size 1000x600 with 1 Axes>"
      ]
     },
     "metadata": {},
     "output_type": "display_data"
    }
   ],
   "source": [
    "# Plot the scree plot\n",
    "plt.figure(figsize=(10, 6))  # Create a new figure\n",
    "plt.bar(x=range(1, len(per_var) + 1), height=per_var, tick_label=labels)\n",
    "plt.xlabel('Principal Component')\n",
    "plt.ylabel('Percentage of Explained Variance')\n",
    "plt.title('Scree Plot')\n",
    "plt.xticks(rotation= 45)\n",
    "plt.show()"
   ]
  },
  {
   "cell_type": "markdown",
   "id": "1f2a6c40",
   "metadata": {
    "papermill": {
     "duration": 0.025868,
     "end_time": "2024-06-17T00:00:11.300230",
     "exception": false,
     "start_time": "2024-06-17T00:00:11.274362",
     "status": "completed"
    },
    "tags": []
   },
   "source": [
    "**Scree Plot**\n",
    "\n",
    "The scree plot indicates that the first principal component (PC1) accounts for a substantial portion of the variation in the raw data, making it a strong candidate for the x-axis in the 2-dimensional graph. Similarly, PC2, which explains the next largest amount of variance, will be used for the y-axis"
   ]
  },
  {
   "cell_type": "markdown",
   "id": "767cf5ac",
   "metadata": {
    "papermill": {
     "duration": 0.025745,
     "end_time": "2024-06-17T00:00:11.351385",
     "exception": false,
     "start_time": "2024-06-17T00:00:11.325640",
     "status": "completed"
    },
    "tags": []
   },
   "source": [
    "**PCA**\n",
    "\n",
    "In the next code block, I will use the Principal Component Analysis (PCA) to reduce the dimensionality of the dataset, transforming the 14 original features into 2 principal components (which was done in the previous step). This allows us to visualize the data and the decision boundary in a 2-dimensional space. I will fit our Support Vector Machine (SVM) model using these two principal components (PC1 and PC2) as the x and y coordinates. By creating a mesh grid of points across the transformed feature space, I can classify each point using the trained SVM model and visualize the decision regions. The resulting plot displays the decision surface, showing how the model distinguishes between patients with and without heart disease, with the red and green points representing the two classes and the contour plot indicating the decision boundaries."
   ]
  },
  {
   "cell_type": "code",
   "execution_count": 34,
   "id": "e5b126cf",
   "metadata": {
    "execution": {
     "iopub.execute_input": "2024-06-17T00:00:11.403646Z",
     "iopub.status.busy": "2024-06-17T00:00:11.403088Z",
     "iopub.status.idle": "2024-06-17T00:00:11.916326Z",
     "shell.execute_reply": "2024-06-17T00:00:11.914760Z"
    },
    "papermill": {
     "duration": 0.54424,
     "end_time": "2024-06-17T00:00:11.920694",
     "exception": false,
     "start_time": "2024-06-17T00:00:11.376454",
     "status": "completed"
    },
    "tags": []
   },
   "outputs": [
    {
     "data": {
      "image/png": "[encoded data removed]",
      "text/plain": [
       "<Figure size 1000x600 with 1 Axes>"
      ]
     },
     "metadata": {},
     "output_type": "display_data"
    }
   ],
   "source": [
    "# Perform PCA\n",
    "pca = PCA()\n",
    "X_train_pca = pca.fit_transform(X_train_scaled)\n",
    "\n",
    "# X-axis coordinates after PCA\n",
    "pc1 = X_train_pca[:, 0]\n",
    "\n",
    "# Y-axis coordinates after PCA\n",
    "pc2 = X_train_pca[:, 1]\n",
    "\n",
    "# Fit the SVM to the x and y axis coordinates after PCA dimension reduction\n",
    "clf_svm = clf_svm.fit(np.column_stack((pc1, pc2)), y_train)\n",
    "\n",
    "# Create matrix of points to show the decision regions\n",
    "x_min = pc1.min() - 1\n",
    "x_max = pc1.max() + 1\n",
    "y_min = pc2.min() - 1\n",
    "y_max = pc2.max() + 1\n",
    "\n",
    "xx, yy = np.meshgrid(np.arange(start=x_min, stop=x_max, step=0.1),\n",
    "                     np.arange(start=y_min, stop=y_max, step=0.1))\n",
    "\n",
    "# Classify every point in the matrix with SVM\n",
    "Z = clf_svm.predict(np.column_stack((xx.ravel(), yy.ravel())))\n",
    "\n",
    "# Use reshape so that each classification (0 or 1) corresponds to a specific point in the matrix\n",
    "Z = Z.reshape(xx.shape)\n",
    "\n",
    "# Create the plot\n",
    "fig, ax = plt.subplots(figsize=(10, 6))\n",
    "\n",
    "# Contour plot will be filled according to the classifications (1s & 0s) in Z\n",
    "ax.contourf(xx, yy, Z, alpha=0.1)\n",
    "\n",
    "# Create custom colors for the datapoints\n",
    "cmap = colors.ListedColormap(['#e41a1c', '#4daf4a'])\n",
    "\n",
    "# Plot the points\n",
    "scatter = ax.scatter(pc1, pc2, c=y_train, cmap=cmap, s=100, edgecolors='k', alpha=0.7)\n",
    "\n",
    "# Create a legend\n",
    "legend = ax.legend(*scatter.legend_elements(), loc='upper right')\n",
    "legend.get_texts()[0].set_text('No HD')\n",
    "legend.get_texts()[1].set_text('Yes HD')\n",
    "\n",
    "# Add labels and titles\n",
    "ax.set_xlabel('PC1')\n",
    "ax.set_ylabel('PC2')\n",
    "ax.set_title('Decision Surface using PCA Transformed Features')\n",
    "plt.show()"
   ]
  },
  {
   "cell_type": "markdown",
   "id": "450a0a17",
   "metadata": {
    "papermill": {
     "duration": 0.027663,
     "end_time": "2024-06-17T00:00:11.974863",
     "exception": false,
     "start_time": "2024-06-17T00:00:11.947200",
     "status": "completed"
    },
    "tags": []
   },
   "source": [
    "**Decision Surface Plot**\n",
    "\n",
    "The decision surface plot generated using PCA-transformed features shows the separation of two classes: patients with heart disease (Yes HD) and patients without heart disease (No HD). The plot uses the first principal component (PC1) on the x-axis and the second principal component (PC2) on the y-axis. The colored regions represent the decision boundaries of the SVM model, with the purple region indicating the predicted class of 'No HD' and the yellow region indicating 'Yes HD'.\n",
    "\n",
    "Each data point is plotted based on its coordinates after PCA transformation. The red circles represent patients without heart disease, while the green circles represent patients with heart disease. The SVM decision boundary effectively separates the two classes, though there are some overlaps and misclassifications.\n",
    "\n",
    "The majority of red points (No HD) are concentrated in the purple region, while most green points (Yes HD) are in the yellow region, demonstrating the model's ability to distinguish between the two classes. However, some green points appear in the purple region and some red points in the yellow region, indicating instances where the model misclassified the patients. These misclassifications suggest areas for potential improvement, possibly through further hyperparameter tuning or additional feature engineering. Overall, the plot visually confirms that the SVM model, with PCA-transformed features, performs well in classifying patients with and without heart disease, but there is still room for improvement to achieve higher accuracy."
   ]
  },
  {
   "cell_type": "markdown",
   "id": "4d4d16d9",
   "metadata": {
    "papermill": {
     "duration": 0.027804,
     "end_time": "2024-06-17T00:00:12.029787",
     "exception": false,
     "start_time": "2024-06-17T00:00:12.001983",
     "status": "completed"
    },
    "tags": []
   },
   "source": [
    "**Conclusion**\n",
    "\n",
    "In this notebook, I developed a Support Vector Machine (SVM) model to predict heart disease using a dataset from the UCI Machine Learning Repository. I began by preprocessing the data, addressing missing values, and encoding categorical variables. After splitting the data into training and test sets, I scaled the features to ensure the SVM model performed optimally. Using GridSearchCV, I identified the best hyperparameters for the model, which significantly improved its performance.\n",
    "\n",
    "To visualize the model's decision boundaries, I applied Principal Component Analysis (PCA) to reduce the dataset's dimensionality from 14 features to 2 principal components. This transformation allowed me to plot the decision surface and clearly see how the model distinguishes between patients with and without heart disease. The confusion matrix and the decision boundary plot confirmed that the model has strong predictive power, with an excellent balance between sensitivity and specificity.\n",
    "\n",
    "Overall, this project demonstrated the effectiveness of SVMs in classification tasks, particularly in medical diagnostics. The process of hyperparameter tuning and dimensionality reduction through PCA was crucial in enhancing the model's performance and interpretability. These techniques, along with thorough data preprocessing, contribute to the robustness and reliability of predictive models in healthcare applications."
   ]
  }
 ],
 "metadata": {
  "kaggle": {
   "accelerator": "none",
   "dataSources": [
    {
     "datasetId": 5222618,
     "sourceId": 8706746,
     "sourceType": "datasetVersion"
    }
   ],
   "dockerImageVersionId": 30732,
   "isGpuEnabled": false,
   "isInternetEnabled": true,
   "language": "python",
   "sourceType": "notebook"
  },
  "kernelspec": {
   "display_name": "Python 3",
   "language": "python",
   "name": "python3"
  },
  "language_info": {
   "codemirror_mode": {
    "name": "ipython",
    "version": 3
   },
   "file_extension": ".py",
   "mimetype": "text/x-python",
   "name": "python",
   "nbconvert_exporter": "python",
   "pygments_lexer": "ipython3",
   "version": "3.10.13"
  },
  "papermill": {
   "default_parameters": {},
   "duration": 15.913068,
   "end_time": "2024-06-17T00:00:13.083974",
   "environment_variables": {},
   "exception": null,
   "input_path": "__notebook__.ipynb",
   "output_path": "__notebook__.ipynb",
   "parameters": {},
   "start_time": "2024-06-16T23:59:57.170906",
   "version": "2.5.0"
  }
 },
 "nbformat": 4,
 "nbformat_minor": 5
}
